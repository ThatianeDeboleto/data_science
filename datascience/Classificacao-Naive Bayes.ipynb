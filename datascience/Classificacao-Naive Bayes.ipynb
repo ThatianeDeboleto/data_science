{
 "cells": [
  {
   "cell_type": "markdown",
   "metadata": {},
   "source": [
    "# Classificador Naive Bayes"
   ]
  },
  {
   "cell_type": "code",
   "execution_count": 1,
   "metadata": {},
   "outputs": [
    {
     "name": "stdout",
     "output_type": "stream",
     "text": [
      "Número de linhas e colunas na matriz de atributos: (150, 5)\n"
     ]
    },
    {
     "data": {
      "text/html": [
       "<div>\n",
       "<style scoped>\n",
       "    .dataframe tbody tr th:only-of-type {\n",
       "        vertical-align: middle;\n",
       "    }\n",
       "\n",
       "    .dataframe tbody tr th {\n",
       "        vertical-align: top;\n",
       "    }\n",
       "\n",
       "    .dataframe thead th {\n",
       "        text-align: right;\n",
       "    }\n",
       "</style>\n",
       "<table border=\"1\" class=\"dataframe\">\n",
       "  <thead>\n",
       "    <tr style=\"text-align: right;\">\n",
       "      <th></th>\n",
       "      <th>sepal_length</th>\n",
       "      <th>sepal_width</th>\n",
       "      <th>petal_length</th>\n",
       "      <th>petal_width</th>\n",
       "      <th>species</th>\n",
       "    </tr>\n",
       "  </thead>\n",
       "  <tbody>\n",
       "    <tr>\n",
       "      <th>0</th>\n",
       "      <td>5.1</td>\n",
       "      <td>3.5</td>\n",
       "      <td>1.4</td>\n",
       "      <td>0.2</td>\n",
       "      <td>setosa</td>\n",
       "    </tr>\n",
       "    <tr>\n",
       "      <th>1</th>\n",
       "      <td>4.9</td>\n",
       "      <td>3.0</td>\n",
       "      <td>1.4</td>\n",
       "      <td>0.2</td>\n",
       "      <td>setosa</td>\n",
       "    </tr>\n",
       "    <tr>\n",
       "      <th>2</th>\n",
       "      <td>4.7</td>\n",
       "      <td>3.2</td>\n",
       "      <td>1.3</td>\n",
       "      <td>0.2</td>\n",
       "      <td>setosa</td>\n",
       "    </tr>\n",
       "    <tr>\n",
       "      <th>3</th>\n",
       "      <td>4.6</td>\n",
       "      <td>3.1</td>\n",
       "      <td>1.5</td>\n",
       "      <td>0.2</td>\n",
       "      <td>setosa</td>\n",
       "    </tr>\n",
       "    <tr>\n",
       "      <th>4</th>\n",
       "      <td>5.0</td>\n",
       "      <td>3.6</td>\n",
       "      <td>1.4</td>\n",
       "      <td>0.2</td>\n",
       "      <td>setosa</td>\n",
       "    </tr>\n",
       "    <tr>\n",
       "      <th>5</th>\n",
       "      <td>5.4</td>\n",
       "      <td>3.9</td>\n",
       "      <td>1.7</td>\n",
       "      <td>0.4</td>\n",
       "      <td>setosa</td>\n",
       "    </tr>\n",
       "    <tr>\n",
       "      <th>6</th>\n",
       "      <td>4.6</td>\n",
       "      <td>3.4</td>\n",
       "      <td>1.4</td>\n",
       "      <td>0.3</td>\n",
       "      <td>setosa</td>\n",
       "    </tr>\n",
       "    <tr>\n",
       "      <th>7</th>\n",
       "      <td>5.0</td>\n",
       "      <td>3.4</td>\n",
       "      <td>1.5</td>\n",
       "      <td>0.2</td>\n",
       "      <td>setosa</td>\n",
       "    </tr>\n",
       "    <tr>\n",
       "      <th>8</th>\n",
       "      <td>4.4</td>\n",
       "      <td>2.9</td>\n",
       "      <td>1.4</td>\n",
       "      <td>0.2</td>\n",
       "      <td>setosa</td>\n",
       "    </tr>\n",
       "    <tr>\n",
       "      <th>9</th>\n",
       "      <td>4.9</td>\n",
       "      <td>3.1</td>\n",
       "      <td>1.5</td>\n",
       "      <td>0.1</td>\n",
       "      <td>setosa</td>\n",
       "    </tr>\n",
       "  </tbody>\n",
       "</table>\n",
       "</div>"
      ],
      "text/plain": [
       "   sepal_length  sepal_width  petal_length  petal_width species\n",
       "0           5.1          3.5           1.4          0.2  setosa\n",
       "1           4.9          3.0           1.4          0.2  setosa\n",
       "2           4.7          3.2           1.3          0.2  setosa\n",
       "3           4.6          3.1           1.5          0.2  setosa\n",
       "4           5.0          3.6           1.4          0.2  setosa\n",
       "5           5.4          3.9           1.7          0.4  setosa\n",
       "6           4.6          3.4           1.4          0.3  setosa\n",
       "7           5.0          3.4           1.5          0.2  setosa\n",
       "8           4.4          2.9           1.4          0.2  setosa\n",
       "9           4.9          3.1           1.5          0.1  setosa"
      ]
     },
     "execution_count": 1,
     "metadata": {},
     "output_type": "execute_result"
    }
   ],
   "source": [
    "import random\n",
    "random.seed(42) # define the seed (important to reproduce the results)\n",
    "import pandas as pd\n",
    "import numpy as np\n",
    "import matplotlib.pyplot as plt\n",
    "\n",
    "#data = pd.read_csv('data/vertebralcolumn-3C.csv', header=(0))\n",
    "data = pd.read_csv('data/Iris.csv', header=(0))\n",
    "\n",
    "data = data.dropna(axis='rows') #remove NaN\n",
    "# armazena os nomes das classes\n",
    "classes = np.array(pd.unique(data[data.columns[-1]]), dtype=str)  \n",
    "\n",
    "print(\"Número de linhas e colunas na matriz de atributos:\", data.shape)\n",
    "attributes = list(data.columns)\n",
    "data.head(10)"
   ]
  },
  {
   "cell_type": "code",
   "execution_count": 2,
   "metadata": {},
   "outputs": [],
   "source": [
    "data = data.to_numpy()\n",
    "nrow,ncol = data.shape\n",
    "y = data[:,-1]\n",
    "X = data[:,0:ncol-1]"
   ]
  },
  {
   "cell_type": "markdown",
   "metadata": {},
   "source": [
    "Selecionando os conjuntos de treinamento e teste."
   ]
  },
  {
   "cell_type": "code",
   "execution_count": 3,
   "metadata": {},
   "outputs": [],
   "source": [
    "from sklearn.model_selection import train_test_split\n",
    "p = 0.7 # fracao de elementos no conjunto de treinamento\n",
    "X_train, X_test, y_train, y_test = train_test_split(X, y, train_size = p, random_state = 42)"
   ]
  },
  {
   "cell_type": "markdown",
   "metadata": {},
   "source": [
    "### Classificação: implementação do método"
   ]
  },
  {
   "cell_type": "markdown",
   "metadata": {},
   "source": [
    "Inicialmente, definimos uma função para calcular a densidade de probabilidade conjunta: $$p(\\vec{x}|C_i) = \\prod_{j=1}^d p(x_j|C_i), \\quad i=1,\\ldots, k$$ \n",
    "onde $C_i$ são as classes. Se a distribuição for normal, temos que cada atributo $X_j$ tem a seguinte função densidade de probabilidade associada, para cada classe:\n",
    "$$\n",
    "p(x_j|C_i) = \\frac{1}{\\sqrt{2\\pi\\sigma_{C_i}}}\\exp \\left[ -\\frac{1}{2}\\left( \\frac{x_j-\\mu_{C_i}}{\\sigma_{C_i}}\\right)^2 \\right], \\quad i=1,2,\\ldots, k.\n",
    "$$\n",
    "Assim, definimos uma função para calcular a função de verossimilhança."
   ]
  },
  {
   "cell_type": "code",
   "execution_count": 4,
   "metadata": {},
   "outputs": [],
   "source": [
    "def likelyhood(y, Z):\n",
    "    def gaussian(x, mu, sig):\n",
    "        return np.exp(-np.power(x - mu, 2.) / (2 * np.power(sig, 2.)))\n",
    "    prob = 1\n",
    "    for j in np.arange(0, Z.shape[1]):\n",
    "        m = np.mean(Z[:,j])\n",
    "        s = np.std(Z[:,j])      \n",
    "        prob = prob*gaussian(y[j], m, s)\n",
    "    return prob"
   ]
  },
  {
   "cell_type": "markdown",
   "metadata": {},
   "source": [
    "A seguir, realizamos a estimação para cada classe:"
   ]
  },
  {
   "cell_type": "code",
   "execution_count": 5,
   "metadata": {},
   "outputs": [],
   "source": [
    "P = pd.DataFrame(data=np.zeros((X_test.shape[0], len(classes))), columns = classes) \n",
    "for i in np.arange(0, len(classes)):\n",
    "    elements = tuple(np.where(y_train == classes[i]))\n",
    "    Z = X_train[elements,:][0]\n",
    "    for j in np.arange(0,X_test.shape[0]):\n",
    "        x = X_test[j,:]\n",
    "        pj = likelyhood(x,Z)\n",
    "        P[classes[i]][j] = pj*len(elements)/X_train.shape[0]"
   ]
  },
  {
   "cell_type": "markdown",
   "metadata": {},
   "source": [
    "Para as observações no conjunto de teste, a probabilidade pertencer a cada classe:"
   ]
  },
  {
   "cell_type": "code",
   "execution_count": 6,
   "metadata": {},
   "outputs": [
    {
     "data": {
      "text/html": [
       "<div>\n",
       "<style scoped>\n",
       "    .dataframe tbody tr th:only-of-type {\n",
       "        vertical-align: middle;\n",
       "    }\n",
       "\n",
       "    .dataframe tbody tr th {\n",
       "        vertical-align: top;\n",
       "    }\n",
       "\n",
       "    .dataframe thead th {\n",
       "        text-align: right;\n",
       "    }\n",
       "</style>\n",
       "<table border=\"1\" class=\"dataframe\">\n",
       "  <thead>\n",
       "    <tr style=\"text-align: right;\">\n",
       "      <th></th>\n",
       "      <th>setosa</th>\n",
       "      <th>versicolor</th>\n",
       "      <th>virginica</th>\n",
       "    </tr>\n",
       "  </thead>\n",
       "  <tbody>\n",
       "    <tr>\n",
       "      <th>0</th>\n",
       "      <td>1.824344e-90</td>\n",
       "      <td>4.440479e-03</td>\n",
       "      <td>4.107993e-05</td>\n",
       "    </tr>\n",
       "    <tr>\n",
       "      <th>1</th>\n",
       "      <td>1.652256e-04</td>\n",
       "      <td>1.196823e-16</td>\n",
       "      <td>4.171552e-23</td>\n",
       "    </tr>\n",
       "    <tr>\n",
       "      <th>2</th>\n",
       "      <td>6.741862e-287</td>\n",
       "      <td>3.100666e-17</td>\n",
       "      <td>2.363765e-05</td>\n",
       "    </tr>\n",
       "    <tr>\n",
       "      <th>3</th>\n",
       "      <td>1.609452e-93</td>\n",
       "      <td>4.042876e-03</td>\n",
       "      <td>2.146958e-04</td>\n",
       "    </tr>\n",
       "    <tr>\n",
       "      <th>4</th>\n",
       "      <td>2.453031e-106</td>\n",
       "      <td>8.057427e-04</td>\n",
       "      <td>3.352704e-04</td>\n",
       "    </tr>\n",
       "    <tr>\n",
       "      <th>5</th>\n",
       "      <td>1.491009e-03</td>\n",
       "      <td>5.335375e-15</td>\n",
       "      <td>1.159063e-22</td>\n",
       "    </tr>\n",
       "    <tr>\n",
       "      <th>6</th>\n",
       "      <td>1.585589e-53</td>\n",
       "      <td>3.230445e-03</td>\n",
       "      <td>2.400042e-07</td>\n",
       "    </tr>\n",
       "    <tr>\n",
       "      <th>7</th>\n",
       "      <td>5.666865e-172</td>\n",
       "      <td>6.868359e-10</td>\n",
       "      <td>3.319537e-03</td>\n",
       "    </tr>\n",
       "    <tr>\n",
       "      <th>8</th>\n",
       "      <td>3.375351e-96</td>\n",
       "      <td>8.399067e-04</td>\n",
       "      <td>1.117962e-05</td>\n",
       "    </tr>\n",
       "    <tr>\n",
       "      <th>9</th>\n",
       "      <td>7.866680e-60</td>\n",
       "      <td>6.780257e-03</td>\n",
       "      <td>6.579053e-07</td>\n",
       "    </tr>\n",
       "  </tbody>\n",
       "</table>\n",
       "</div>"
      ],
      "text/plain": [
       "          setosa    versicolor     virginica\n",
       "0   1.824344e-90  4.440479e-03  4.107993e-05\n",
       "1   1.652256e-04  1.196823e-16  4.171552e-23\n",
       "2  6.741862e-287  3.100666e-17  2.363765e-05\n",
       "3   1.609452e-93  4.042876e-03  2.146958e-04\n",
       "4  2.453031e-106  8.057427e-04  3.352704e-04\n",
       "5   1.491009e-03  5.335375e-15  1.159063e-22\n",
       "6   1.585589e-53  3.230445e-03  2.400042e-07\n",
       "7  5.666865e-172  6.868359e-10  3.319537e-03\n",
       "8   3.375351e-96  8.399067e-04  1.117962e-05\n",
       "9   7.866680e-60  6.780257e-03  6.579053e-07"
      ]
     },
     "execution_count": 6,
     "metadata": {},
     "output_type": "execute_result"
    }
   ],
   "source": [
    "P.head(10)"
   ]
  },
  {
   "cell_type": "code",
   "execution_count": 7,
   "metadata": {},
   "outputs": [
    {
     "name": "stdout",
     "output_type": "stream",
     "text": [
      "Accuracy: 0.9555555555555556\n"
     ]
    }
   ],
   "source": [
    "from sklearn.metrics import accuracy_score\n",
    "\n",
    "y_pred = []\n",
    "for i in np.arange(0, P.shape[0]):\n",
    "    c = np.argmax(np.array(P.iloc[[i]]))\n",
    "    y_pred.append(P.columns[c])\n",
    "y_pred = np.array(y_pred, dtype=str)\n",
    "\n",
    "score = accuracy_score(y_pred, y_test)\n",
    "print('Accuracy:', score)"
   ]
  },
  {
   "cell_type": "markdown",
   "metadata": {},
   "source": [
    "### Classificação: usando a biblioteca scikit-learn"
   ]
  },
  {
   "cell_type": "markdown",
   "metadata": {},
   "source": [
    "Podemos realizar a classificação usando a função disponível na biblioteca scikit-learn."
   ]
  },
  {
   "cell_type": "code",
   "execution_count": 8,
   "metadata": {},
   "outputs": [
    {
     "name": "stdout",
     "output_type": "stream",
     "text": [
      "Accuracy: 0.9777777777777777\n"
     ]
    }
   ],
   "source": [
    "from sklearn.naive_bayes import GaussianNB\n",
    "from sklearn import metrics\n",
    "\n",
    "model = GaussianNB()\n",
    "model.fit(X_train, y_train)\n",
    "\n",
    "y_pred = model.predict(X_test)\n",
    "score = accuracy_score(y_pred, y_test)\n",
    "print('Accuracy:', score)"
   ]
  },
  {
   "cell_type": "markdown",
   "metadata": {},
   "source": [
    "Outra maneira de efetuarmos a classificação é assumirmos que os atributos possuem distribuição diferente da normal. "
   ]
  },
  {
   "cell_type": "markdown",
   "metadata": {},
   "source": [
    "Uma possibilidade é assumirmos que os dados possuem distribuição de Bernoulli. "
   ]
  },
  {
   "cell_type": "code",
   "execution_count": 9,
   "metadata": {},
   "outputs": [
    {
     "name": "stdout",
     "output_type": "stream",
     "text": [
      "Accuracy: 0.28888888888888886\n"
     ]
    }
   ],
   "source": [
    "from sklearn.naive_bayes import BernoulliNB\n",
    "\n",
    "model = BernoulliNB()\n",
    "model.fit(X_train, y_train)\n",
    "\n",
    "y_pred = model.predict(X_test)\n",
    "score = accuracy_score(y_pred, y_test)\n",
    "print('Accuracy:', score)"
   ]
  },
  {
   "cell_type": "markdown",
   "metadata": {},
   "source": [
    "Código completo."
   ]
  },
  {
   "cell_type": "code",
   "execution_count": 10,
   "metadata": {},
   "outputs": [
    {
     "name": "stdout",
     "output_type": "stream",
     "text": [
      "Acuracia: 1.0\n"
     ]
    }
   ],
   "source": [
    "import random\n",
    "import pandas as pd\n",
    "import numpy as np\n",
    "import matplotlib.pyplot as plt\n",
    "from sklearn.model_selection import train_test_split\n",
    "from sklearn.preprocessing import StandardScaler\n",
    "from sklearn.naive_bayes import GaussianNB\n",
    "from sklearn.metrics import accuracy_score\n",
    "\n",
    "random.seed(42) \n",
    "\n",
    "data = pd.read_csv('data/Iris.csv', header=(0))\n",
    "\n",
    "classes = np.array(pd.unique(data[data.columns[-1]]), dtype=str)  \n",
    "\n",
    "# Converte para matriz e vetor do numpy\n",
    "data = data.to_numpy()\n",
    "nrow,ncol = data.shape\n",
    "y = data[:,-1]\n",
    "X = data[:,0:ncol-1]\n",
    "\n",
    "# Transforma os dados para terem media igual a zero e variancia igual a 1\n",
    "#scaler = StandardScaler().fit(X)\n",
    "#X = scaler.transform(X)\n",
    "\n",
    "# Seleciona os conjuntos de treinamento e teste\n",
    "p = 0.8 # fraction of elements in the test set\n",
    "X_train, X_test, y_train, y_test = train_test_split(X, y, \n",
    "                                                    train_size = p, random_state = 42)\n",
    "\n",
    "# ajusta o classificador Naive-Bayes de acordo com os dados\n",
    "model = GaussianNB()\n",
    "model.fit(X_train, y_train)\n",
    "# realiza a predicao\n",
    "y_pred = model.predict(X_test)\n",
    "# calcula a acuracia\n",
    "score = accuracy_score(y_pred, y_test)\n",
    "print('Acuracia:', score)"
   ]
  },
  {
   "cell_type": "markdown",
   "metadata": {},
   "source": [
    "## Região de decisão"
   ]
  },
  {
   "cell_type": "markdown",
   "metadata": {},
   "source": [
    "Selecionando dois atributos, podemos visualizar a região de decisão. Para graficar a região de separação, precisamos instalar a bibliteca mlxtend: http://rasbt.github.io/mlxtend/installation/<br>\n",
    "Pode ser usado: conda install -c conda-forge mlxtend"
   ]
  },
  {
   "cell_type": "markdown",
   "metadata": {},
   "source": [
    "Para o classificador Naive Bayes:"
   ]
  },
  {
   "cell_type": "code",
   "execution_count": 11,
   "metadata": {},
   "outputs": [],
   "source": [
    "from mlxtend.plotting import plot_decision_regions\n",
    "import numpy as np\n",
    "import matplotlib.pyplot as plt\n",
    "from sklearn import datasets\n",
    "from sklearn.neighbors import KNeighborsClassifier\n",
    "import sklearn.datasets as skdata\n",
    "from matplotlib import pyplot\n",
    "from pandas import DataFrame\n",
    "\n",
    "# Gera os dados em duas dimensões\n",
    "n_samples = 100 # número de observações\n",
    "# centro dos grupos\n",
    "centers = [(-4, 0), (0, 0), (3, 3)]\n",
    "X, y = skdata.make_blobs(n_samples=100, n_features=2, cluster_std=1.0, centers=centers, \n",
    "                         shuffle=False, random_state=42)\n",
    "\n",
    "# monta a matrix de atributos\n",
    "d = np.column_stack((X,np.transpose(y)))\n",
    "# converte para o formato dataframe do Pandas\n",
    "data = DataFrame(data = d, columns=['X1', 'X2', 'y'])\n",
    "features_names = ['X1', 'X2']\n",
    "class_labels = np.unique(y)"
   ]
  },
  {
   "cell_type": "code",
   "execution_count": 12,
   "metadata": {},
   "outputs": [
    {
     "data": {
      "image/png": "[encoded data removed]",
      "text/plain": [
       "<Figure size 432x288 with 1 Axes>"
      ]
     },
     "metadata": {
      "needs_background": "light"
     },
     "output_type": "display_data"
    },
    {
     "data": {
      "image/png": "[encoded data removed]",
      "text/plain": [
       "<Figure size 432x288 with 1 Axes>"
      ]
     },
     "metadata": {
      "needs_background": "light"
     },
     "output_type": "display_data"
    }
   ],
   "source": [
    "from mlxtend.plotting import plot_decision_regions\n",
    "import matplotlib.pyplot as plt\n",
    "from sklearn import datasets\n",
    "from sklearn.naive_bayes import GaussianNB\n",
    "\n",
    "\n",
    "# mostra os dados e colori de acordo com as classes\n",
    "colors = ['red', 'blue', 'green', 'black']\n",
    "aux = 0\n",
    "for c in class_labels:\n",
    "    ind = np.where(y == c)\n",
    "    plt.scatter(X[ind,0][0], X[ind,1][0], color = colors[aux], label = c)\n",
    "    aux = aux + 1\n",
    "plt.legend()\n",
    "plt.show()\n",
    "\n",
    "# Training a classifier\n",
    "model = GaussianNB()\n",
    "model.fit(X, y)\n",
    "\n",
    "# Plotting decision regions\n",
    "plot_decision_regions(X, y, clf=model, legend=2)\n",
    "\n",
    "plt.xlabel('X1')\n",
    "plt.ylabel('X2')\n",
    "plt.title('Decision Regions')\n",
    "plt.show()"
   ]
  },
  {
   "cell_type": "code",
   "execution_count": 14,
   "metadata": {},
   "outputs": [
    {
     "name": "stdout",
     "output_type": "stream",
     "text": [
      "Accuracy: 1.0\n"
     ]
    }
   ],
   "source": [
    "import random\n",
    "import pandas as pd\n",
    "import numpy as np\n",
    "from sklearn.model_selection import train_test_split\n",
    "from sklearn.metrics import accuracy_score\n",
    "\n",
    "random.seed(42) \n",
    "data = pd.read_csv('data/Iris.csv', header=(0))\n",
    "# classes: setosa, virginica e versicolor\n",
    "classes = pd.unique(data[data.columns[-1]])\n",
    "classes = np.array(classes, dtype=str)  \n",
    "# converte para matrizes do numpy\n",
    "data = data.to_numpy()\n",
    "nrow,ncol = data.shape\n",
    "y = data[:,-1]\n",
    "X = data[:,0:ncol-1]\n",
    "# Seleciona o conjunto de teste e treinamento\n",
    "p = 0.7 \n",
    "X_train, X_test, y_train, y_test = train_test_split(X, y, train_size = p)\n",
    "\n",
    "# funcao para calcular a verossimilhanca\n",
    "def likelyhood(y, Z):\n",
    "    def gaussian(x, mu, sig):\n",
    "        return np.exp(-np.power(x - mu, 2.) / (2 * np.power(sig, 2.)))\n",
    "    prob = 1\n",
    "    for j in np.arange(0, Z.shape[1]):\n",
    "        m = np.mean(Z[:,j])\n",
    "        s = np.std(Z[:,j])      \n",
    "        prob = prob*gaussian(y[j], m, s)\n",
    "    return prob\n",
    "\n",
    "# matriz que armazena o produto da verossimilhanca pela priori\n",
    "P = pd.DataFrame(data=np.zeros((X_test.shape[0], len(classes))), columns = classes) \n",
    "for i in np.arange(0, len(classes)):\n",
    "    elements = tuple(np.where(y_train == classes[i]))\n",
    "    Z = X_train[elements,:][0]\n",
    "    for j in np.arange(0,X_test.shape[0]):\n",
    "        x = X_test[j,:]\n",
    "        pj = likelyhood(x,Z) #verossimilhanca\n",
    "        pc = len(elements)/X_train.shape[0] # priori\n",
    "        P[classes[i]][j] = pj*pc\n",
    "        \n",
    "# realiza a classificao seguindo a regra de Bayes\n",
    "y_pred = []\n",
    "for i in np.arange(0, P.shape[0]):\n",
    "    c = np.argmax(np.array(P.iloc[[i]]))\n",
    "    y_pred.append(P.columns[c])\n",
    "y_pred = np.array(y_pred, dtype=str)\n",
    "# calcula a acuracia na classificacao\n",
    "score = accuracy_score(y_pred, y_test)\n",
    "print('Accuracy:', score)"
   ]
  },
  {
   "cell_type": "code",
   "execution_count": null,
   "metadata": {},
   "outputs": [],
   "source": []
  }
 ],
 "metadata": {
  "kernelspec": {
   "display_name": "Python 3",
   "language": "python",
   "name": "python3"
  },
  "language_info": {
   "codemirror_mode": {
    "name": "ipython",
    "version": 3
   },
   "file_extension": ".py",
   "mimetype": "text/x-python",
   "name": "python",
   "nbconvert_exporter": "python",
   "pygments_lexer": "ipython3",
   "version": "3.8.5"
  }
 },
 "nbformat": 4,
 "nbformat_minor": 2
}
