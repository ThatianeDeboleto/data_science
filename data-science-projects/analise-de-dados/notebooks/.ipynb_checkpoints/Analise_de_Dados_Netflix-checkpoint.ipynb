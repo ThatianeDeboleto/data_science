{
 "cells": [
  {
   "cell_type": "markdown",
   "metadata": {
    "id": "k6hne79xxsQD"
   },
   "source": [
    "# <center>**Análise de dados - Netflix**\n",
    "\n",
    "<center><img src=\"https://observatoriodeseries.uol.com.br/wp-content/uploads/2020/05/Novo-Projeto-61.jpg\" width=500></center>\n",
    "\n",
    "\n",
    "\n",
    "Esse projeto foi inspirado no artigo tutorial do Dataquest. \n",
    "\n",
    "Lá você encontra um tutorial de como baixar seus dados da Netflix para realizar sua análise. Acesse clicando [aqui.](https://www.dataquest.io/blog/python-tutorial-analyze-personal-netflix-data/) "
   ]
  },
  {
   "cell_type": "code",
   "execution_count": null,
   "metadata": {
    "id": "iyuaSBlFaqA8"
   },
   "outputs": [],
   "source": [
    "# importando as bibliotecas que serão utilizadas\n",
    "import pandas as pd\n",
    "import matplotlib.pyplot as plt\n",
    "import seaborn as sns"
   ]
  },
  {
   "cell_type": "markdown",
   "metadata": {
    "id": "cpJcKS6IBp7d"
   },
   "source": [
    "## **Conhecendo e Preparando os Dados**"
   ]
  },
  {
   "cell_type": "code",
   "execution_count": null,
   "metadata": {
    "colab": {
     "base_uri": "https://localhost:8080/",
     "height": 194
    },
    "id": "AdboAZHgazSS",
    "outputId": "902e4961-232b-4dc8-c1fc-72fb8ff021ae"
   },
   "outputs": [
    {
     "data": {
      "text/html": [
       "<div>\n",
       "<style scoped>\n",
       "    .dataframe tbody tr th:only-of-type {\n",
       "        vertical-align: middle;\n",
       "    }\n",
       "\n",
       "    .dataframe tbody tr th {\n",
       "        vertical-align: top;\n",
       "    }\n",
       "\n",
       "    .dataframe thead th {\n",
       "        text-align: right;\n",
       "    }\n",
       "</style>\n",
       "<table border=\"1\" class=\"dataframe\">\n",
       "  <thead>\n",
       "    <tr style=\"text-align: right;\">\n",
       "      <th></th>\n",
       "      <th>Profile Name</th>\n",
       "      <th>Start Time</th>\n",
       "      <th>Duration</th>\n",
       "      <th>Attributes</th>\n",
       "      <th>Title</th>\n",
       "      <th>Supplemental Video Type</th>\n",
       "      <th>Device Type</th>\n",
       "      <th>Bookmark</th>\n",
       "      <th>Latest Bookmark</th>\n",
       "      <th>Country</th>\n",
       "    </tr>\n",
       "  </thead>\n",
       "  <tbody>\n",
       "    <tr>\n",
       "      <th>0</th>\n",
       "      <td>Bea</td>\n",
       "      <td>2020-11-10 04:46:56</td>\n",
       "      <td>00:00:59</td>\n",
       "      <td>NaN</td>\n",
       "      <td>Friends: Temporada 8: Aquele com o boato (Epis...</td>\n",
       "      <td>NaN</td>\n",
       "      <td>Sony PS4 Pro</td>\n",
       "      <td>00:01:04</td>\n",
       "      <td>00:01:04</td>\n",
       "      <td>BR (Brazil)</td>\n",
       "    </tr>\n",
       "    <tr>\n",
       "      <th>1</th>\n",
       "      <td>Bea</td>\n",
       "      <td>2020-11-10 04:21:12</td>\n",
       "      <td>00:08:48</td>\n",
       "      <td>Autoplayed: user action: Unspecified;</td>\n",
       "      <td>Friends: Temporada 7: Aquele com o novo cérebr...</td>\n",
       "      <td>NaN</td>\n",
       "      <td>Sony PS4 Pro</td>\n",
       "      <td>00:08:48</td>\n",
       "      <td>00:08:48</td>\n",
       "      <td>BR (Brazil)</td>\n",
       "    </tr>\n",
       "    <tr>\n",
       "      <th>2</th>\n",
       "      <td>Bea</td>\n",
       "      <td>2020-11-10 03:24:08</td>\n",
       "      <td>00:21:00</td>\n",
       "      <td>Autoplayed: user action: Unspecified;</td>\n",
       "      <td>Friends: Temporada 7: Aquele em que todos faze...</td>\n",
       "      <td>NaN</td>\n",
       "      <td>Sony PS4 Pro</td>\n",
       "      <td>00:21:53</td>\n",
       "      <td>00:21:53</td>\n",
       "      <td>BR (Brazil)</td>\n",
       "    </tr>\n",
       "    <tr>\n",
       "      <th>3</th>\n",
       "      <td>Bea</td>\n",
       "      <td>2020-11-10 03:10:44</td>\n",
       "      <td>00:13:22</td>\n",
       "      <td>Autoplayed: user action: Unspecified;</td>\n",
       "      <td>Friends: Temporada 7: Aquele em que Rosita mor...</td>\n",
       "      <td>NaN</td>\n",
       "      <td>Sony PS4 Pro</td>\n",
       "      <td>00:21:53</td>\n",
       "      <td>00:21:53</td>\n",
       "      <td>BR (Brazil)</td>\n",
       "    </tr>\n",
       "    <tr>\n",
       "      <th>4</th>\n",
       "      <td>Bea</td>\n",
       "      <td>2020-11-10 02:48:43</td>\n",
       "      <td>00:01:54</td>\n",
       "      <td>Autoplayed: user action: None;</td>\n",
       "      <td>Brooklyn Nine-Nine: Temporada 6: A minha palav...</td>\n",
       "      <td>NaN</td>\n",
       "      <td>Sony PS4 Pro</td>\n",
       "      <td>00:01:54</td>\n",
       "      <td>00:01:54</td>\n",
       "      <td>BR (Brazil)</td>\n",
       "    </tr>\n",
       "  </tbody>\n",
       "</table>\n",
       "</div>"
      ],
      "text/plain": [
       "  Profile Name           Start Time  ... Latest Bookmark      Country\n",
       "0          Bea  2020-11-10 04:46:56  ...        00:01:04  BR (Brazil)\n",
       "1          Bea  2020-11-10 04:21:12  ...        00:08:48  BR (Brazil)\n",
       "2          Bea  2020-11-10 03:24:08  ...        00:21:53  BR (Brazil)\n",
       "3          Bea  2020-11-10 03:10:44  ...        00:21:53  BR (Brazil)\n",
       "4          Bea  2020-11-10 02:48:43  ...        00:01:54  BR (Brazil)\n",
       "\n",
       "[5 rows x 10 columns]"
      ]
     },
     "execution_count": 2,
     "metadata": {
      "tags": []
     },
     "output_type": "execute_result"
    }
   ],
   "source": [
    "df = pd.read_csv('ViewingActivity.csv')\n",
    "df.head()"
   ]
  },
  {
   "cell_type": "code",
   "execution_count": null,
   "metadata": {
    "colab": {
     "base_uri": "https://localhost:8080/"
    },
    "id": "Mp9-5faNa3DT",
    "outputId": "82f1703e-e85a-41e8-e019-4988cb5a6f36"
   },
   "outputs": [
    {
     "data": {
      "text/plain": [
       "(3743, 10)"
      ]
     },
     "execution_count": 3,
     "metadata": {
      "tags": []
     },
     "output_type": "execute_result"
    }
   ],
   "source": [
    "df.shape "
   ]
  },
  {
   "cell_type": "code",
   "execution_count": null,
   "metadata": {
    "colab": {
     "base_uri": "https://localhost:8080/"
    },
    "id": "SMYs8m1JcjR7",
    "outputId": "43de614a-9fa6-4739-892e-2cfa461c7a23"
   },
   "outputs": [
    {
     "name": "stdout",
     "output_type": "stream",
     "text": [
      "<class 'pandas.core.frame.DataFrame'>\n",
      "RangeIndex: 3743 entries, 0 to 3742\n",
      "Data columns (total 10 columns):\n",
      " #   Column                   Non-Null Count  Dtype \n",
      "---  ------                   --------------  ----- \n",
      " 0   Profile Name             3743 non-null   object\n",
      " 1   Start Time               3743 non-null   object\n",
      " 2   Duration                 3743 non-null   object\n",
      " 3   Attributes               984 non-null    object\n",
      " 4   Title                    3743 non-null   object\n",
      " 5   Supplemental Video Type  401 non-null    object\n",
      " 6   Device Type              3743 non-null   object\n",
      " 7   Bookmark                 3743 non-null   object\n",
      " 8   Latest Bookmark          3743 non-null   object\n",
      " 9   Country                  3743 non-null   object\n",
      "dtypes: object(10)\n",
      "memory usage: 292.5+ KB\n"
     ]
    }
   ],
   "source": [
    "df.info()"
   ]
  },
  {
   "cell_type": "code",
   "execution_count": null,
   "metadata": {
    "colab": {
     "base_uri": "https://localhost:8080/",
     "height": 194
    },
    "id": "SFcgeBtGbGcR",
    "outputId": "0f7280d6-546b-4b08-8f5d-69a28a69af79"
   },
   "outputs": [
    {
     "data": {
      "text/html": [
       "<div>\n",
       "<style scoped>\n",
       "    .dataframe tbody tr th:only-of-type {\n",
       "        vertical-align: middle;\n",
       "    }\n",
       "\n",
       "    .dataframe tbody tr th {\n",
       "        vertical-align: top;\n",
       "    }\n",
       "\n",
       "    .dataframe thead th {\n",
       "        text-align: right;\n",
       "    }\n",
       "</style>\n",
       "<table border=\"1\" class=\"dataframe\">\n",
       "  <thead>\n",
       "    <tr style=\"text-align: right;\">\n",
       "      <th></th>\n",
       "      <th>Start Time</th>\n",
       "      <th>Duration</th>\n",
       "      <th>Title</th>\n",
       "    </tr>\n",
       "  </thead>\n",
       "  <tbody>\n",
       "    <tr>\n",
       "      <th>0</th>\n",
       "      <td>2020-11-10 04:46:56</td>\n",
       "      <td>00:00:59</td>\n",
       "      <td>Friends: Temporada 8: Aquele com o boato (Epis...</td>\n",
       "    </tr>\n",
       "    <tr>\n",
       "      <th>1</th>\n",
       "      <td>2020-11-10 04:21:12</td>\n",
       "      <td>00:08:48</td>\n",
       "      <td>Friends: Temporada 7: Aquele com o novo cérebr...</td>\n",
       "    </tr>\n",
       "    <tr>\n",
       "      <th>2</th>\n",
       "      <td>2020-11-10 03:24:08</td>\n",
       "      <td>00:21:00</td>\n",
       "      <td>Friends: Temporada 7: Aquele em que todos faze...</td>\n",
       "    </tr>\n",
       "    <tr>\n",
       "      <th>3</th>\n",
       "      <td>2020-11-10 03:10:44</td>\n",
       "      <td>00:13:22</td>\n",
       "      <td>Friends: Temporada 7: Aquele em que Rosita mor...</td>\n",
       "    </tr>\n",
       "    <tr>\n",
       "      <th>4</th>\n",
       "      <td>2020-11-10 02:48:43</td>\n",
       "      <td>00:01:54</td>\n",
       "      <td>Brooklyn Nine-Nine: Temporada 6: A minha palav...</td>\n",
       "    </tr>\n",
       "  </tbody>\n",
       "</table>\n",
       "</div>"
      ],
      "text/plain": [
       "            Start Time  ...                                              Title\n",
       "0  2020-11-10 04:46:56  ...  Friends: Temporada 8: Aquele com o boato (Epis...\n",
       "1  2020-11-10 04:21:12  ...  Friends: Temporada 7: Aquele com o novo cérebr...\n",
       "2  2020-11-10 03:24:08  ...  Friends: Temporada 7: Aquele em que todos faze...\n",
       "3  2020-11-10 03:10:44  ...  Friends: Temporada 7: Aquele em que Rosita mor...\n",
       "4  2020-11-10 02:48:43  ...  Brooklyn Nine-Nine: Temporada 6: A minha palav...\n",
       "\n",
       "[5 rows x 3 columns]"
      ]
     },
     "execution_count": 5,
     "metadata": {
      "tags": []
     },
     "output_type": "execute_result"
    }
   ],
   "source": [
    "# eliminando colunas que não serão utilizadas na análise\n",
    "df.drop(['Profile Name', 'Attributes', 'Supplemental Video Type', 'Device Type',\n",
    "         'Bookmark', 'Latest Bookmark', 'Country'], axis=1, inplace=True)\n",
    "df.head()"
   ]
  },
  {
   "cell_type": "code",
   "execution_count": null,
   "metadata": {
    "id": "9UtJzzObhnl4"
   },
   "outputs": [],
   "source": [
    "# renomeando a primeira coluna\n",
    "df.columns = ['Start_Time', 'Duration', 'Title']"
   ]
  },
  {
   "cell_type": "code",
   "execution_count": null,
   "metadata": {
    "colab": {
     "base_uri": "https://localhost:8080/"
    },
    "id": "fCL_1suKcc97",
    "outputId": "2dc89215-28a2-4573-ef85-08b76b1ec86e"
   },
   "outputs": [
    {
     "data": {
      "text/plain": [
       "False"
      ]
     },
     "execution_count": 7,
     "metadata": {
      "tags": []
     },
     "output_type": "execute_result"
    }
   ],
   "source": [
    "# verificando a existencia de dados nulos\n",
    "df.isna().values.any()"
   ]
  },
  {
   "cell_type": "markdown",
   "metadata": {
    "id": "R07YCipbdR3a"
   },
   "source": [
    "#### **Convertendo tipo Object em Datetime e Timedelta**\n",
    "\n",
    "*   Converter `Start_Time` para Datetime (um formato de data e hora que o Pandas pode entender e realizar cálculos)\n",
    "*   Converter `Start_Time` de UTC para nosso fuso horário local\n",
    "*   Converter Duration para Timedelta (um formato de duração de tempo que o Pandas podem entender e realizar cálculos)\n",
    "\n",
    "\n",
    "\n",
    "\n"
   ]
  },
  {
   "cell_type": "code",
   "execution_count": null,
   "metadata": {
    "colab": {
     "base_uri": "https://localhost:8080/"
    },
    "id": "bK_Nghq2craH",
    "outputId": "f0e90994-4874-4830-a16b-39210b17a92d"
   },
   "outputs": [
    {
     "data": {
      "text/plain": [
       "Start_Time    object\n",
       "Duration      object\n",
       "Title         object\n",
       "dtype: object"
      ]
     },
     "execution_count": 8,
     "metadata": {
      "tags": []
     },
     "output_type": "execute_result"
    }
   ],
   "source": [
    "df.dtypes"
   ]
  },
  {
   "cell_type": "markdown",
   "metadata": {
    "id": "et8T_uGrd975"
   },
   "source": [
    "Começando com a conversão `Start_Time` para datetime usando `pd.to_datetime()`\n",
    "\n"
   ]
  },
  {
   "cell_type": "code",
   "execution_count": null,
   "metadata": {
    "colab": {
     "base_uri": "https://localhost:8080/"
    },
    "id": "gpEMFcZldaUb",
    "outputId": "174d82a7-4de0-4c54-e813-17e346a09a7a"
   },
   "outputs": [
    {
     "data": {
      "text/plain": [
       "Start_Time    datetime64[ns, UTC]\n",
       "Duration                   object\n",
       "Title                      object\n",
       "dtype: object"
      ]
     },
     "execution_count": 9,
     "metadata": {
      "tags": []
     },
     "output_type": "execute_result"
    }
   ],
   "source": [
    "df['Start_Time'] = pd.to_datetime(df['Start_Time'], utc=True)\n",
    "\n",
    "df.dtypes"
   ]
  },
  {
   "cell_type": "markdown",
   "metadata": {
    "id": "MhlqWo6JAE2R"
   },
   "source": [
    "Adicionaremos o argumento opcional `utc=True` para que nossos dados de data e hora tenham o fuso horário UTC anexado a eles.  "
   ]
  },
  {
   "cell_type": "markdown",
   "metadata": {
    "id": "jb3f2E8_e7IV"
   },
   "source": [
    "Agora que temos essa coluna no formato correto, é hora de alterar o fuso horário para o horário local.\n",
    "\n",
    "Podemos converter data e hora para qualquer fuso horário usando o `.tz_convert()`e passando um argumento com a string para o fuso horário que queremos converter.\n",
    "\n",
    "Mas precisamos realizar mais um passo antes de utilizar essa função. Só podemos usar `.tz_convert()` em um DatetimeIndex, portanto, precisamos definir a coluna `Start_Time` como o índice usando `set_index()`."
   ]
  },
  {
   "cell_type": "code",
   "execution_count": null,
   "metadata": {
    "colab": {
     "base_uri": "https://localhost:8080/",
     "height": 194
    },
    "id": "zvf5Wb_yejy1",
    "outputId": "9dbf9ba5-0e3b-49b5-87cb-4627d32a2515"
   },
   "outputs": [
    {
     "data": {
      "text/html": [
       "<div>\n",
       "<style scoped>\n",
       "    .dataframe tbody tr th:only-of-type {\n",
       "        vertical-align: middle;\n",
       "    }\n",
       "\n",
       "    .dataframe tbody tr th {\n",
       "        vertical-align: top;\n",
       "    }\n",
       "\n",
       "    .dataframe thead th {\n",
       "        text-align: right;\n",
       "    }\n",
       "</style>\n",
       "<table border=\"1\" class=\"dataframe\">\n",
       "  <thead>\n",
       "    <tr style=\"text-align: right;\">\n",
       "      <th></th>\n",
       "      <th>Start_Time</th>\n",
       "      <th>Duration</th>\n",
       "      <th>Title</th>\n",
       "    </tr>\n",
       "  </thead>\n",
       "  <tbody>\n",
       "    <tr>\n",
       "      <th>0</th>\n",
       "      <td>2020-11-10 02:46:56-02:00</td>\n",
       "      <td>00:00:59</td>\n",
       "      <td>Friends: Temporada 8: Aquele com o boato (Epis...</td>\n",
       "    </tr>\n",
       "    <tr>\n",
       "      <th>1</th>\n",
       "      <td>2020-11-10 02:21:12-02:00</td>\n",
       "      <td>00:08:48</td>\n",
       "      <td>Friends: Temporada 7: Aquele com o novo cérebr...</td>\n",
       "    </tr>\n",
       "    <tr>\n",
       "      <th>2</th>\n",
       "      <td>2020-11-10 01:24:08-02:00</td>\n",
       "      <td>00:21:00</td>\n",
       "      <td>Friends: Temporada 7: Aquele em que todos faze...</td>\n",
       "    </tr>\n",
       "    <tr>\n",
       "      <th>3</th>\n",
       "      <td>2020-11-10 01:10:44-02:00</td>\n",
       "      <td>00:13:22</td>\n",
       "      <td>Friends: Temporada 7: Aquele em que Rosita mor...</td>\n",
       "    </tr>\n",
       "    <tr>\n",
       "      <th>4</th>\n",
       "      <td>2020-11-10 00:48:43-02:00</td>\n",
       "      <td>00:01:54</td>\n",
       "      <td>Brooklyn Nine-Nine: Temporada 6: A minha palav...</td>\n",
       "    </tr>\n",
       "  </tbody>\n",
       "</table>\n",
       "</div>"
      ],
      "text/plain": [
       "                 Start_Time  ...                                              Title\n",
       "0 2020-11-10 02:46:56-02:00  ...  Friends: Temporada 8: Aquele com o boato (Epis...\n",
       "1 2020-11-10 02:21:12-02:00  ...  Friends: Temporada 7: Aquele com o novo cérebr...\n",
       "2 2020-11-10 01:24:08-02:00  ...  Friends: Temporada 7: Aquele em que todos faze...\n",
       "3 2020-11-10 01:10:44-02:00  ...  Friends: Temporada 7: Aquele em que Rosita mor...\n",
       "4 2020-11-10 00:48:43-02:00  ...  Brooklyn Nine-Nine: Temporada 6: A minha palav...\n",
       "\n",
       "[5 rows x 3 columns]"
      ]
     },
     "execution_count": 10,
     "metadata": {
      "tags": []
     },
     "output_type": "execute_result"
    }
   ],
   "source": [
    "# mudando a coluna Start_Time para o índice do dataframe\n",
    "df = df.set_index('Start_Time')\n",
    "\n",
    "# convertendo o fuso horário UTC\n",
    "df.index = df.index.tz_convert('America/Sao_Paulo')\n",
    "\n",
    "# redefinindo o índice para que Start_Time se torne uma coluna novamente\n",
    "df = df.reset_index()\n",
    "\n",
    "df.head()"
   ]
  },
  {
   "cell_type": "markdown",
   "metadata": {
    "id": "YvxJ1jPiioag"
   },
   "source": [
    "Agora, vamos lidar com a coluna `Duration`. Isso é, como o nome sugere, uma duração - uma medida de uma extensão de tempo. Portanto, em vez de convertê-lo em uma data e hora, precisamos convertê-lo em um Timedelta, que é uma medida de duração de tempo que o pandas entende."
   ]
  },
  {
   "cell_type": "code",
   "execution_count": null,
   "metadata": {
    "colab": {
     "base_uri": "https://localhost:8080/"
    },
    "id": "sB-NGgXZii0n",
    "outputId": "f2479ceb-72e6-4bb2-d0a4-26e943da0560"
   },
   "outputs": [
    {
     "data": {
      "text/plain": [
       "Start_Time    datetime64[ns, America/Sao_Paulo]\n",
       "Duration                        timedelta64[ns]\n",
       "Title                                    object\n",
       "dtype: object"
      ]
     },
     "execution_count": 11,
     "metadata": {
      "tags": []
     },
     "output_type": "execute_result"
    }
   ],
   "source": [
    "df['Duration'] = pd.to_timedelta(df['Duration'])\n",
    "\n",
    "df.dtypes"
   ]
  },
  {
   "cell_type": "markdown",
   "metadata": {
    "id": "1UI1kexBqckb"
   },
   "source": [
    "##**Análise de Dados Gerais**"
   ]
  },
  {
   "cell_type": "code",
   "execution_count": null,
   "metadata": {
    "colab": {
     "base_uri": "https://localhost:8080/",
     "height": 194
    },
    "id": "3YNCufqhwAW9",
    "outputId": "deedc889-8a9c-49e5-e89f-b8d68a56ae1c"
   },
   "outputs": [
    {
     "data": {
      "text/html": [
       "<div>\n",
       "<style scoped>\n",
       "    .dataframe tbody tr th:only-of-type {\n",
       "        vertical-align: middle;\n",
       "    }\n",
       "\n",
       "    .dataframe tbody tr th {\n",
       "        vertical-align: top;\n",
       "    }\n",
       "\n",
       "    .dataframe thead th {\n",
       "        text-align: right;\n",
       "    }\n",
       "</style>\n",
       "<table border=\"1\" class=\"dataframe\">\n",
       "  <thead>\n",
       "    <tr style=\"text-align: right;\">\n",
       "      <th></th>\n",
       "      <th>Start_Time</th>\n",
       "      <th>Duration</th>\n",
       "      <th>Title_Name</th>\n",
       "      <th>Season</th>\n",
       "      <th>Episode</th>\n",
       "    </tr>\n",
       "  </thead>\n",
       "  <tbody>\n",
       "    <tr>\n",
       "      <th>0</th>\n",
       "      <td>2020-11-10 02:46:56-02:00</td>\n",
       "      <td>0 days 00:00:59</td>\n",
       "      <td>Friends</td>\n",
       "      <td>Temporada 8</td>\n",
       "      <td>Aquele com o boato (Episódio 9)</td>\n",
       "    </tr>\n",
       "    <tr>\n",
       "      <th>1</th>\n",
       "      <td>2020-11-10 02:21:12-02:00</td>\n",
       "      <td>0 days 00:08:48</td>\n",
       "      <td>Friends</td>\n",
       "      <td>Temporada 7</td>\n",
       "      <td>Aquele com o novo cérebro do Joey (Episódio 15)</td>\n",
       "    </tr>\n",
       "    <tr>\n",
       "      <th>2</th>\n",
       "      <td>2020-11-10 01:24:08-02:00</td>\n",
       "      <td>0 days 00:21:00</td>\n",
       "      <td>Friends</td>\n",
       "      <td>Temporada 7</td>\n",
       "      <td>Aquele em que todos fazem 30 anos (Episódio 14)</td>\n",
       "    </tr>\n",
       "    <tr>\n",
       "      <th>3</th>\n",
       "      <td>2020-11-10 01:10:44-02:00</td>\n",
       "      <td>0 days 00:13:22</td>\n",
       "      <td>Friends</td>\n",
       "      <td>Temporada 7</td>\n",
       "      <td>Aquele em que Rosita morre (Episódio 13)</td>\n",
       "    </tr>\n",
       "    <tr>\n",
       "      <th>4</th>\n",
       "      <td>2020-11-10 00:48:43-02:00</td>\n",
       "      <td>0 days 00:01:54</td>\n",
       "      <td>Brooklyn Nine-Nine</td>\n",
       "      <td>Temporada 6</td>\n",
       "      <td>A minha palavra contra a dele (Episódio 8)</td>\n",
       "    </tr>\n",
       "  </tbody>\n",
       "</table>\n",
       "</div>"
      ],
      "text/plain": [
       "                 Start_Time  ...                                           Episode\n",
       "0 2020-11-10 02:46:56-02:00  ...                   Aquele com o boato (Episódio 9)\n",
       "1 2020-11-10 02:21:12-02:00  ...   Aquele com o novo cérebro do Joey (Episódio 15)\n",
       "2 2020-11-10 01:24:08-02:00  ...   Aquele em que todos fazem 30 anos (Episódio 14)\n",
       "3 2020-11-10 01:10:44-02:00  ...          Aquele em que Rosita morre (Episódio 13)\n",
       "4 2020-11-10 00:48:43-02:00  ...        A minha palavra contra a dele (Episódio 8)\n",
       "\n",
       "[5 rows x 5 columns]"
      ]
     },
     "execution_count": 12,
     "metadata": {
      "tags": []
     },
     "output_type": "execute_result"
    }
   ],
   "source": [
    "# criando novas colunas de \"Season\" e \"Episode\" utilizando a coluna Title\n",
    "df[['Title_Name', 'Season', 'Episode']] = df['Title'].str.split(':', n=2, \n",
    "                                                                expand=True)\n",
    "\n",
    "df.drop('Title', axis=1, inplace=True)\n",
    "df.head()"
   ]
  },
  {
   "cell_type": "code",
   "execution_count": null,
   "metadata": {
    "colab": {
     "base_uri": "https://localhost:8080/",
     "height": 194
    },
    "id": "NIG9aS7C1cXf",
    "outputId": "1a3043c7-339a-4cb6-d2ac-5ec71b24ccfb"
   },
   "outputs": [
    {
     "data": {
      "text/html": [
       "<div>\n",
       "<style scoped>\n",
       "    .dataframe tbody tr th:only-of-type {\n",
       "        vertical-align: middle;\n",
       "    }\n",
       "\n",
       "    .dataframe tbody tr th {\n",
       "        vertical-align: top;\n",
       "    }\n",
       "\n",
       "    .dataframe thead th {\n",
       "        text-align: right;\n",
       "    }\n",
       "</style>\n",
       "<table border=\"1\" class=\"dataframe\">\n",
       "  <thead>\n",
       "    <tr style=\"text-align: right;\">\n",
       "      <th></th>\n",
       "      <th>Start_Time</th>\n",
       "      <th>Duration</th>\n",
       "      <th>Title_Name</th>\n",
       "      <th>Season</th>\n",
       "      <th>Episode</th>\n",
       "      <th>Weekday</th>\n",
       "      <th>Hour</th>\n",
       "    </tr>\n",
       "  </thead>\n",
       "  <tbody>\n",
       "    <tr>\n",
       "      <th>0</th>\n",
       "      <td>2020-11-10 02:46:56-02:00</td>\n",
       "      <td>0 days 00:00:59</td>\n",
       "      <td>Friends</td>\n",
       "      <td>Temporada 8</td>\n",
       "      <td>Aquele com o boato (Episódio 9)</td>\n",
       "      <td>1</td>\n",
       "      <td>2</td>\n",
       "    </tr>\n",
       "    <tr>\n",
       "      <th>1</th>\n",
       "      <td>2020-11-10 02:21:12-02:00</td>\n",
       "      <td>0 days 00:08:48</td>\n",
       "      <td>Friends</td>\n",
       "      <td>Temporada 7</td>\n",
       "      <td>Aquele com o novo cérebro do Joey (Episódio 15)</td>\n",
       "      <td>1</td>\n",
       "      <td>2</td>\n",
       "    </tr>\n",
       "    <tr>\n",
       "      <th>2</th>\n",
       "      <td>2020-11-10 01:24:08-02:00</td>\n",
       "      <td>0 days 00:21:00</td>\n",
       "      <td>Friends</td>\n",
       "      <td>Temporada 7</td>\n",
       "      <td>Aquele em que todos fazem 30 anos (Episódio 14)</td>\n",
       "      <td>1</td>\n",
       "      <td>1</td>\n",
       "    </tr>\n",
       "    <tr>\n",
       "      <th>3</th>\n",
       "      <td>2020-11-10 01:10:44-02:00</td>\n",
       "      <td>0 days 00:13:22</td>\n",
       "      <td>Friends</td>\n",
       "      <td>Temporada 7</td>\n",
       "      <td>Aquele em que Rosita morre (Episódio 13)</td>\n",
       "      <td>1</td>\n",
       "      <td>1</td>\n",
       "    </tr>\n",
       "    <tr>\n",
       "      <th>4</th>\n",
       "      <td>2020-11-10 00:48:43-02:00</td>\n",
       "      <td>0 days 00:01:54</td>\n",
       "      <td>Brooklyn Nine-Nine</td>\n",
       "      <td>Temporada 6</td>\n",
       "      <td>A minha palavra contra a dele (Episódio 8)</td>\n",
       "      <td>1</td>\n",
       "      <td>0</td>\n",
       "    </tr>\n",
       "  </tbody>\n",
       "</table>\n",
       "</div>"
      ],
      "text/plain": [
       "                 Start_Time        Duration  ... Weekday Hour\n",
       "0 2020-11-10 02:46:56-02:00 0 days 00:00:59  ...       1    2\n",
       "1 2020-11-10 02:21:12-02:00 0 days 00:08:48  ...       1    2\n",
       "2 2020-11-10 01:24:08-02:00 0 days 00:21:00  ...       1    1\n",
       "3 2020-11-10 01:10:44-02:00 0 days 00:13:22  ...       1    1\n",
       "4 2020-11-10 00:48:43-02:00 0 days 00:01:54  ...       1    0\n",
       "\n",
       "[5 rows x 7 columns]"
      ]
     },
     "execution_count": 13,
     "metadata": {
      "tags": []
     },
     "output_type": "execute_result"
    }
   ],
   "source": [
    "# criar novas colunas de \"Weekday\" e \"Hour\" utilizando a coluna Start_time \n",
    "# Monday=0, Sunday=6\n",
    "\n",
    "df['Weekday'] = df['Start_Time'].dt.weekday\n",
    "df['Hour'] = df['Start_Time'].dt.hour\n",
    "\n",
    "df.head()"
   ]
  },
  {
   "cell_type": "code",
   "execution_count": null,
   "metadata": {
    "colab": {
     "base_uri": "https://localhost:8080/"
    },
    "id": "HHb0UKED5qej",
    "outputId": "38f95e89-cdcf-4822-d0c6-c730b72023c2"
   },
   "outputs": [
    {
     "data": {
      "text/plain": [
       "Friends                              1641\n",
       "Brooklyn Nine-Nine                    412\n",
       "Fullmetal Alchemist                   145\n",
       "Vikings                               105\n",
       "A Maldição da Residência Hill          53\n",
       "                                     ... \n",
       "Os Fosters - Família Adotiva            1\n",
       "Elite                                   1\n",
       "How Do You Know_hook_primary_16x9       1\n",
       "365 Days_hook_primary_16x9              1\n",
       "Greenleaf (Trailer)                     1\n",
       "Name: Title_Name, Length: 371, dtype: int64"
      ]
     },
     "execution_count": 14,
     "metadata": {
      "tags": []
     },
     "output_type": "execute_result"
    }
   ],
   "source": [
    "# quantas vezes foi dado play em cada serie/filme\n",
    "df['Title_Name'].value_counts()"
   ]
  },
  {
   "cell_type": "code",
   "execution_count": null,
   "metadata": {
    "colab": {
     "base_uri": "https://localhost:8080/",
     "height": 370
    },
    "id": "Ue2sUvHg0Coa",
    "outputId": "d1185bad-e7e8-4376-8b2b-430c279b1d33"
   },
   "outputs": [
    {
     "data": {
      "text/html": [
       "<div>\n",
       "<style scoped>\n",
       "    .dataframe tbody tr th:only-of-type {\n",
       "        vertical-align: middle;\n",
       "    }\n",
       "\n",
       "    .dataframe tbody tr th {\n",
       "        vertical-align: top;\n",
       "    }\n",
       "\n",
       "    .dataframe thead th {\n",
       "        text-align: right;\n",
       "    }\n",
       "</style>\n",
       "<table border=\"1\" class=\"dataframe\">\n",
       "  <thead>\n",
       "    <tr style=\"text-align: right;\">\n",
       "      <th></th>\n",
       "      <th>Duration</th>\n",
       "    </tr>\n",
       "    <tr>\n",
       "      <th>Title_Name</th>\n",
       "      <th></th>\n",
       "    </tr>\n",
       "  </thead>\n",
       "  <tbody>\n",
       "    <tr>\n",
       "      <th>Friends</th>\n",
       "      <td>5 days 22:59:33</td>\n",
       "    </tr>\n",
       "    <tr>\n",
       "      <th>Brooklyn Nine-Nine</th>\n",
       "      <td>2 days 03:44:06</td>\n",
       "    </tr>\n",
       "    <tr>\n",
       "      <th>Fullmetal Alchemist</th>\n",
       "      <td>1 days 14:53:01</td>\n",
       "    </tr>\n",
       "    <tr>\n",
       "      <th>Vikings</th>\n",
       "      <td>0 days 21:07:02</td>\n",
       "    </tr>\n",
       "    <tr>\n",
       "      <th>Stranger Things</th>\n",
       "      <td>0 days 14:11:24</td>\n",
       "    </tr>\n",
       "    <tr>\n",
       "      <th>Sex Education</th>\n",
       "      <td>0 days 13:10:32</td>\n",
       "    </tr>\n",
       "    <tr>\n",
       "      <th>A Maldição da Residência Hill</th>\n",
       "      <td>0 days 09:28:09</td>\n",
       "    </tr>\n",
       "    <tr>\n",
       "      <th>Queer Eye</th>\n",
       "      <td>0 days 08:16:16</td>\n",
       "    </tr>\n",
       "    <tr>\n",
       "      <th>A Maldição da Mansão Bly</th>\n",
       "      <td>0 days 07:46:46</td>\n",
       "    </tr>\n",
       "    <tr>\n",
       "      <th>La casa de papel</th>\n",
       "      <td>0 days 07:38:08</td>\n",
       "    </tr>\n",
       "  </tbody>\n",
       "</table>\n",
       "</div>"
      ],
      "text/plain": [
       "                                     Duration\n",
       "Title_Name                                   \n",
       "Friends                       5 days 22:59:33\n",
       "Brooklyn Nine-Nine            2 days 03:44:06\n",
       "Fullmetal Alchemist           1 days 14:53:01\n",
       "Vikings                       0 days 21:07:02\n",
       "Stranger Things               0 days 14:11:24\n",
       "Sex Education                 0 days 13:10:32\n",
       "A Maldição da Residência Hill 0 days 09:28:09\n",
       "Queer Eye                     0 days 08:16:16\n",
       "A Maldição da Mansão Bly      0 days 07:46:46\n",
       "La casa de papel              0 days 07:38:08"
      ]
     },
     "execution_count": 15,
     "metadata": {
      "tags": []
     },
     "output_type": "execute_result"
    }
   ],
   "source": [
    "#top 10 \n",
    "df.groupby(['Title_Name']).agg({'Duration':'sum'}).sort_values(\n",
    "    by='Duration',ascending=False).head(10)"
   ]
  },
  {
   "cell_type": "markdown",
   "metadata": {
    "id": "3KOW97MYjBoC"
   },
   "source": [
    "## **Análise de Dados - Friends**\n",
    "\n"
   ]
  },
  {
   "cell_type": "code",
   "execution_count": null,
   "metadata": {
    "colab": {
     "base_uri": "https://localhost:8080/",
     "height": 194
    },
    "id": "4R10NGsAz2Ol",
    "outputId": "18e91020-e137-4a78-841c-06baa457604e"
   },
   "outputs": [
    {
     "data": {
      "text/html": [
       "<div>\n",
       "<style scoped>\n",
       "    .dataframe tbody tr th:only-of-type {\n",
       "        vertical-align: middle;\n",
       "    }\n",
       "\n",
       "    .dataframe tbody tr th {\n",
       "        vertical-align: top;\n",
       "    }\n",
       "\n",
       "    .dataframe thead th {\n",
       "        text-align: right;\n",
       "    }\n",
       "</style>\n",
       "<table border=\"1\" class=\"dataframe\">\n",
       "  <thead>\n",
       "    <tr style=\"text-align: right;\">\n",
       "      <th></th>\n",
       "      <th>Start_Time</th>\n",
       "      <th>Duration</th>\n",
       "      <th>Title_Name</th>\n",
       "      <th>Season</th>\n",
       "      <th>Episode</th>\n",
       "      <th>Weekday</th>\n",
       "      <th>Hour</th>\n",
       "    </tr>\n",
       "  </thead>\n",
       "  <tbody>\n",
       "    <tr>\n",
       "      <th>0</th>\n",
       "      <td>2020-11-10 02:46:56-02:00</td>\n",
       "      <td>0 days 00:00:59</td>\n",
       "      <td>Friends</td>\n",
       "      <td>Temporada 8</td>\n",
       "      <td>Aquele com o boato (Episódio 9)</td>\n",
       "      <td>1</td>\n",
       "      <td>2</td>\n",
       "    </tr>\n",
       "    <tr>\n",
       "      <th>1</th>\n",
       "      <td>2020-11-10 02:21:12-02:00</td>\n",
       "      <td>0 days 00:08:48</td>\n",
       "      <td>Friends</td>\n",
       "      <td>Temporada 7</td>\n",
       "      <td>Aquele com o novo cérebro do Joey (Episódio 15)</td>\n",
       "      <td>1</td>\n",
       "      <td>2</td>\n",
       "    </tr>\n",
       "    <tr>\n",
       "      <th>2</th>\n",
       "      <td>2020-11-10 01:24:08-02:00</td>\n",
       "      <td>0 days 00:21:00</td>\n",
       "      <td>Friends</td>\n",
       "      <td>Temporada 7</td>\n",
       "      <td>Aquele em que todos fazem 30 anos (Episódio 14)</td>\n",
       "      <td>1</td>\n",
       "      <td>1</td>\n",
       "    </tr>\n",
       "    <tr>\n",
       "      <th>3</th>\n",
       "      <td>2020-11-10 01:10:44-02:00</td>\n",
       "      <td>0 days 00:13:22</td>\n",
       "      <td>Friends</td>\n",
       "      <td>Temporada 7</td>\n",
       "      <td>Aquele em que Rosita morre (Episódio 13)</td>\n",
       "      <td>1</td>\n",
       "      <td>1</td>\n",
       "    </tr>\n",
       "    <tr>\n",
       "      <th>7</th>\n",
       "      <td>2020-11-10 00:10:33-02:00</td>\n",
       "      <td>0 days 00:01:06</td>\n",
       "      <td>Friends</td>\n",
       "      <td>Temporada 7</td>\n",
       "      <td>Aquele em que Rosita morre (Episódio 13)</td>\n",
       "      <td>1</td>\n",
       "      <td>0</td>\n",
       "    </tr>\n",
       "  </tbody>\n",
       "</table>\n",
       "</div>"
      ],
      "text/plain": [
       "                 Start_Time        Duration  ... Weekday Hour\n",
       "0 2020-11-10 02:46:56-02:00 0 days 00:00:59  ...       1    2\n",
       "1 2020-11-10 02:21:12-02:00 0 days 00:08:48  ...       1    2\n",
       "2 2020-11-10 01:24:08-02:00 0 days 00:21:00  ...       1    1\n",
       "3 2020-11-10 01:10:44-02:00 0 days 00:13:22  ...       1    1\n",
       "7 2020-11-10 00:10:33-02:00 0 days 00:01:06  ...       1    0\n",
       "\n",
       "[5 rows x 7 columns]"
      ]
     },
     "execution_count": 16,
     "metadata": {
      "tags": []
     },
     "output_type": "execute_result"
    }
   ],
   "source": [
    "# criando um dataframe apenas com os dados da serie Friends\n",
    "friends = df[df['Title_Name'] == 'Friends']\n",
    "friends.head()"
   ]
  },
  {
   "cell_type": "markdown",
   "metadata": {
    "id": "vs8u5AtvkTfw"
   },
   "source": [
    "Podemos perceber em nossa exploração de dados que, quando algo como uma prévia de um episódio é reproduzido automaticamente na página inicial, ele conta como uma visualização em nossos dados.\n",
    "\n",
    "Então, vamos filtrar nosso dataframe `friends`, limitando-o a apenas linhas onde o valor de `Duration` seja maior que dois minutos."
   ]
  },
  {
   "cell_type": "code",
   "execution_count": null,
   "metadata": {
    "colab": {
     "base_uri": "https://localhost:8080/",
     "height": 194
    },
    "id": "s-KARikcjp5b",
    "outputId": "3fd1019a-4c86-4bb9-f555-b1f3f35616b7"
   },
   "outputs": [
    {
     "data": {
      "text/html": [
       "<div>\n",
       "<style scoped>\n",
       "    .dataframe tbody tr th:only-of-type {\n",
       "        vertical-align: middle;\n",
       "    }\n",
       "\n",
       "    .dataframe tbody tr th {\n",
       "        vertical-align: top;\n",
       "    }\n",
       "\n",
       "    .dataframe thead th {\n",
       "        text-align: right;\n",
       "    }\n",
       "</style>\n",
       "<table border=\"1\" class=\"dataframe\">\n",
       "  <thead>\n",
       "    <tr style=\"text-align: right;\">\n",
       "      <th></th>\n",
       "      <th>Start_Time</th>\n",
       "      <th>Duration</th>\n",
       "      <th>Title_Name</th>\n",
       "      <th>Season</th>\n",
       "      <th>Episode</th>\n",
       "      <th>Weekday</th>\n",
       "      <th>Hour</th>\n",
       "    </tr>\n",
       "  </thead>\n",
       "  <tbody>\n",
       "    <tr>\n",
       "      <th>1</th>\n",
       "      <td>2020-11-10 02:21:12-02:00</td>\n",
       "      <td>0 days 00:08:48</td>\n",
       "      <td>Friends</td>\n",
       "      <td>Temporada 7</td>\n",
       "      <td>Aquele com o novo cérebro do Joey (Episódio 15)</td>\n",
       "      <td>1</td>\n",
       "      <td>2</td>\n",
       "    </tr>\n",
       "    <tr>\n",
       "      <th>2</th>\n",
       "      <td>2020-11-10 01:24:08-02:00</td>\n",
       "      <td>0 days 00:21:00</td>\n",
       "      <td>Friends</td>\n",
       "      <td>Temporada 7</td>\n",
       "      <td>Aquele em que todos fazem 30 anos (Episódio 14)</td>\n",
       "      <td>1</td>\n",
       "      <td>1</td>\n",
       "    </tr>\n",
       "    <tr>\n",
       "      <th>3</th>\n",
       "      <td>2020-11-10 01:10:44-02:00</td>\n",
       "      <td>0 days 00:13:22</td>\n",
       "      <td>Friends</td>\n",
       "      <td>Temporada 7</td>\n",
       "      <td>Aquele em que Rosita morre (Episódio 13)</td>\n",
       "      <td>1</td>\n",
       "      <td>1</td>\n",
       "    </tr>\n",
       "    <tr>\n",
       "      <th>8</th>\n",
       "      <td>2020-11-09 23:51:18-02:00</td>\n",
       "      <td>0 days 00:19:10</td>\n",
       "      <td>Friends</td>\n",
       "      <td>Temporada 7</td>\n",
       "      <td>Aquele em que eles ficam acordados a noite to...</td>\n",
       "      <td>0</td>\n",
       "      <td>23</td>\n",
       "    </tr>\n",
       "    <tr>\n",
       "      <th>9</th>\n",
       "      <td>2020-11-09 23:44:34-02:00</td>\n",
       "      <td>0 days 00:06:37</td>\n",
       "      <td>Friends</td>\n",
       "      <td>Temporada 7</td>\n",
       "      <td>Aquele com os cheesecakes (Episódio 11)</td>\n",
       "      <td>0</td>\n",
       "      <td>23</td>\n",
       "    </tr>\n",
       "  </tbody>\n",
       "</table>\n",
       "</div>"
      ],
      "text/plain": [
       "                 Start_Time        Duration  ... Weekday Hour\n",
       "1 2020-11-10 02:21:12-02:00 0 days 00:08:48  ...       1    2\n",
       "2 2020-11-10 01:24:08-02:00 0 days 00:21:00  ...       1    1\n",
       "3 2020-11-10 01:10:44-02:00 0 days 00:13:22  ...       1    1\n",
       "8 2020-11-09 23:51:18-02:00 0 days 00:19:10  ...       0   23\n",
       "9 2020-11-09 23:44:34-02:00 0 days 00:06:37  ...       0   23\n",
       "\n",
       "[5 rows x 7 columns]"
      ]
     },
     "execution_count": 17,
     "metadata": {
      "tags": []
     },
     "output_type": "execute_result"
    }
   ],
   "source": [
    "friends = friends[(friends['Duration'] > '0 days 00:02:00')]\n",
    "friends.head()"
   ]
  },
  {
   "cell_type": "markdown",
   "metadata": {
    "id": "ItRR4605K-RK"
   },
   "source": [
    "### **Respondendo algumas perguntas:**"
   ]
  },
  {
   "cell_type": "markdown",
   "metadata": {
    "id": "-nv6OSnqk0OX"
   },
   "source": [
    "> **Quanto tempo passei assistindo Friends?**\n",
    "\n"
   ]
  },
  {
   "cell_type": "code",
   "execution_count": null,
   "metadata": {
    "colab": {
     "base_uri": "https://localhost:8080/"
    },
    "id": "oNMsVWHDkl_m",
    "outputId": "8d692c0e-9e7b-46c4-bc5b-80bc01d2c492"
   },
   "outputs": [
    {
     "data": {
      "text/plain": [
       "Timedelta('5 days 17:52:12')"
      ]
     },
     "execution_count": 18,
     "metadata": {
      "tags": []
     },
     "output_type": "execute_result"
    }
   ],
   "source": [
    "friends['Duration'].sum()"
   ]
  },
  {
   "cell_type": "markdown",
   "metadata": {
    "id": "bAK7YV36NkqR"
   },
   "source": [
    "> **Qual temporada de Friends eu mais assisti?**\n",
    "\n"
   ]
  },
  {
   "cell_type": "code",
   "execution_count": null,
   "metadata": {
    "colab": {
     "base_uri": "https://localhost:8080/"
    },
    "id": "gAn7JMzzNZHi",
    "outputId": "a3f7942c-7d19-48ae-fe46-b454145e2430"
   },
   "outputs": [
    {
     "data": {
      "text/plain": [
       " Temporada 6     134\n",
       " Temporada 2     123\n",
       " Temporada 3     120\n",
       " Temporada 7     111\n",
       " Temporada 5     110\n",
       " Temporada 4     102\n",
       " Temporada 8      96\n",
       " Temporada 1      82\n",
       " Temporada 9      59\n",
       " Temporada 10     57\n",
       "Name: Season, dtype: int64"
      ]
     },
     "execution_count": 19,
     "metadata": {
      "tags": []
     },
     "output_type": "execute_result"
    }
   ],
   "source": [
    "friends['Season'].value_counts()"
   ]
  },
  {
   "cell_type": "markdown",
   "metadata": {
    "id": "xH9j4eKMLg9a"
   },
   "source": [
    "> **Quais foram os episódios mais assistidos em Friends?**"
   ]
  },
  {
   "cell_type": "code",
   "execution_count": null,
   "metadata": {
    "colab": {
     "base_uri": "https://localhost:8080/"
    },
    "id": "gcERUb-LmuWY",
    "outputId": "98b497c3-1567-48ba-c571-c686df704481"
   },
   "outputs": [
    {
     "data": {
      "text/plain": [
       " Aquele da catapora (Episódio 23)                        12\n",
       " Aquele que poderia ter sido: Parte 1 (Episódio 15)      10\n",
       " Aquele depois de Vegas (Episódio 1)                     10\n",
       " Aquele dos cinco bifes e uma berinjela (Episódio 5)     10\n",
       " Aquele com o novo cérebro do Joey (Episódio 15)         10\n",
       "                                                         ..\n",
       " Aquele em que Joey conta para Rachel (Episódio 16)       1\n",
       " Aquele da foto de noivado (Episódio 5)                   1\n",
       " Aquele com o prêmio do Joey (Episódio 18)                1\n",
       " Aquele em que Rachel volta a trabalhar (Episódio 11)     1\n",
       " Aquele com o macaco (Episódio 10)                        1\n",
       "Name: Episode, Length: 226, dtype: int64"
      ]
     },
     "execution_count": 20,
     "metadata": {
      "tags": []
     },
     "output_type": "execute_result"
    }
   ],
   "source": [
    "friends['Episode'].value_counts()"
   ]
  },
  {
   "cell_type": "markdown",
   "metadata": {
    "id": "TXhN7gdwlNUn"
   },
   "source": [
    "> **Em que hora do dia eu assisto episódios de Friends com mais frequência?**\n",
    "\n"
   ]
  },
  {
   "cell_type": "code",
   "execution_count": null,
   "metadata": {
    "colab": {
     "base_uri": "https://localhost:8080/",
     "height": 798
    },
    "id": "M5UHnKLeoZ9Y",
    "outputId": "100e6122-84de-46a0-a5fa-db38c4514ff3"
   },
   "outputs": [
    {
     "name": "stdout",
     "output_type": "stream",
     "text": [
      "      Start_Time\n",
      "Hour            \n",
      "0             56\n",
      "1             46\n",
      "2             26\n",
      "3             26\n",
      "4             21\n",
      "5             11\n",
      "6              2\n",
      "8              2\n",
      "9             16\n",
      "10            31\n",
      "11            18\n",
      "12           194\n",
      "13            72\n",
      "14            39\n",
      "15            38\n",
      "16            22\n",
      "17            26\n",
      "18            37\n",
      "19            41\n",
      "20            87\n",
      "21            84\n",
      "22            50\n",
      "23            49\n"
     ]
    },
    {
     "data": {
      "image/png": "[encoded data removed]",
      "text/plain": [
       "<Figure size 720x360 with 1 Axes>"
      ]
     },
     "metadata": {
      "needs_background": "light",
      "tags": []
     },
     "output_type": "display_data"
    }
   ],
   "source": [
    "print(friends.groupby('Hour').agg({'Start_Time':'count'}))\n",
    "\n",
    "plt.figure(figsize=(10,5))\n",
    "ax = sns.countplot(x='Hour', data=friends, color='blueviolet')\n",
    "ax.set_title('Friends Episodes Watched by Hour', fontsize=17);"
   ]
  },
  {
   "cell_type": "markdown",
   "metadata": {
    "id": "Vv--6i26vHQS"
   },
   "source": [
    "## **Análise de Dados - Brooklyn Nine-Nine**\n",
    "\n",
    "\n"
   ]
  },
  {
   "cell_type": "code",
   "execution_count": null,
   "metadata": {
    "colab": {
     "base_uri": "https://localhost:8080/",
     "height": 194
    },
    "id": "AyWJ_KZpnNsK",
    "outputId": "d08f29f8-128b-4405-93ac-d40f4bf10dbd"
   },
   "outputs": [
    {
     "data": {
      "text/html": [
       "<div>\n",
       "<style scoped>\n",
       "    .dataframe tbody tr th:only-of-type {\n",
       "        vertical-align: middle;\n",
       "    }\n",
       "\n",
       "    .dataframe tbody tr th {\n",
       "        vertical-align: top;\n",
       "    }\n",
       "\n",
       "    .dataframe thead th {\n",
       "        text-align: right;\n",
       "    }\n",
       "</style>\n",
       "<table border=\"1\" class=\"dataframe\">\n",
       "  <thead>\n",
       "    <tr style=\"text-align: right;\">\n",
       "      <th></th>\n",
       "      <th>Start_Time</th>\n",
       "      <th>Duration</th>\n",
       "      <th>Title_Name</th>\n",
       "      <th>Season</th>\n",
       "      <th>Episode</th>\n",
       "      <th>Weekday</th>\n",
       "      <th>Hour</th>\n",
       "    </tr>\n",
       "  </thead>\n",
       "  <tbody>\n",
       "    <tr>\n",
       "      <th>4</th>\n",
       "      <td>2020-11-10 00:48:43-02:00</td>\n",
       "      <td>0 days 00:01:54</td>\n",
       "      <td>Brooklyn Nine-Nine</td>\n",
       "      <td>Temporada 6</td>\n",
       "      <td>A minha palavra contra a dele (Episódio 8)</td>\n",
       "      <td>1</td>\n",
       "      <td>0</td>\n",
       "    </tr>\n",
       "    <tr>\n",
       "      <th>5</th>\n",
       "      <td>2020-11-10 00:22:39-02:00</td>\n",
       "      <td>0 days 00:21:15</td>\n",
       "      <td>Brooklyn Nine-Nine</td>\n",
       "      <td>Temporada 6</td>\n",
       "      <td>A armadilha (Episódio 7)</td>\n",
       "      <td>1</td>\n",
       "      <td>0</td>\n",
       "    </tr>\n",
       "    <tr>\n",
       "      <th>6</th>\n",
       "      <td>2020-11-10 00:15:15-02:00</td>\n",
       "      <td>0 days 00:07:22</td>\n",
       "      <td>Brooklyn Nine-Nine</td>\n",
       "      <td>Temporada 6</td>\n",
       "      <td>A cena do crime (Episódio 6)</td>\n",
       "      <td>1</td>\n",
       "      <td>0</td>\n",
       "    </tr>\n",
       "    <tr>\n",
       "      <th>161</th>\n",
       "      <td>2020-11-01 15:12:38-02:00</td>\n",
       "      <td>0 days 00:02:51</td>\n",
       "      <td>Brooklyn Nine-Nine</td>\n",
       "      <td>Temporada 6</td>\n",
       "      <td>A cena do crime (Episódio 6)</td>\n",
       "      <td>6</td>\n",
       "      <td>15</td>\n",
       "    </tr>\n",
       "    <tr>\n",
       "      <th>162</th>\n",
       "      <td>2020-11-01 15:11:31-02:00</td>\n",
       "      <td>0 days 00:00:50</td>\n",
       "      <td>Brooklyn Nine-Nine</td>\n",
       "      <td>Temporada 5</td>\n",
       "      <td>Torta e peru (Episódio 7)</td>\n",
       "      <td>6</td>\n",
       "      <td>15</td>\n",
       "    </tr>\n",
       "  </tbody>\n",
       "</table>\n",
       "</div>"
      ],
      "text/plain": [
       "                   Start_Time        Duration  ... Weekday Hour\n",
       "4   2020-11-10 00:48:43-02:00 0 days 00:01:54  ...       1    0\n",
       "5   2020-11-10 00:22:39-02:00 0 days 00:21:15  ...       1    0\n",
       "6   2020-11-10 00:15:15-02:00 0 days 00:07:22  ...       1    0\n",
       "161 2020-11-01 15:12:38-02:00 0 days 00:02:51  ...       6   15\n",
       "162 2020-11-01 15:11:31-02:00 0 days 00:00:50  ...       6   15\n",
       "\n",
       "[5 rows x 7 columns]"
      ]
     },
     "execution_count": 23,
     "metadata": {
      "tags": []
     },
     "output_type": "execute_result"
    }
   ],
   "source": [
    "b99 = df[df['Title_Name'] == 'Brooklyn Nine-Nine']\n",
    "b99.head()"
   ]
  },
  {
   "cell_type": "code",
   "execution_count": null,
   "metadata": {
    "colab": {
     "base_uri": "https://localhost:8080/",
     "height": 194
    },
    "id": "JL8_-NLhw7s1",
    "outputId": "0ea8255f-7ec2-4a5c-a3c6-015e293a8328"
   },
   "outputs": [
    {
     "data": {
      "text/html": [
       "<div>\n",
       "<style scoped>\n",
       "    .dataframe tbody tr th:only-of-type {\n",
       "        vertical-align: middle;\n",
       "    }\n",
       "\n",
       "    .dataframe tbody tr th {\n",
       "        vertical-align: top;\n",
       "    }\n",
       "\n",
       "    .dataframe thead th {\n",
       "        text-align: right;\n",
       "    }\n",
       "</style>\n",
       "<table border=\"1\" class=\"dataframe\">\n",
       "  <thead>\n",
       "    <tr style=\"text-align: right;\">\n",
       "      <th></th>\n",
       "      <th>Start_Time</th>\n",
       "      <th>Duration</th>\n",
       "      <th>Title_Name</th>\n",
       "      <th>Season</th>\n",
       "      <th>Episode</th>\n",
       "      <th>Weekday</th>\n",
       "      <th>Hour</th>\n",
       "    </tr>\n",
       "  </thead>\n",
       "  <tbody>\n",
       "    <tr>\n",
       "      <th>5</th>\n",
       "      <td>2020-11-10 00:22:39-02:00</td>\n",
       "      <td>0 days 00:21:15</td>\n",
       "      <td>Brooklyn Nine-Nine</td>\n",
       "      <td>Temporada 6</td>\n",
       "      <td>A armadilha (Episódio 7)</td>\n",
       "      <td>1</td>\n",
       "      <td>0</td>\n",
       "    </tr>\n",
       "    <tr>\n",
       "      <th>6</th>\n",
       "      <td>2020-11-10 00:15:15-02:00</td>\n",
       "      <td>0 days 00:07:22</td>\n",
       "      <td>Brooklyn Nine-Nine</td>\n",
       "      <td>Temporada 6</td>\n",
       "      <td>A cena do crime (Episódio 6)</td>\n",
       "      <td>1</td>\n",
       "      <td>0</td>\n",
       "    </tr>\n",
       "    <tr>\n",
       "      <th>161</th>\n",
       "      <td>2020-11-01 15:12:38-02:00</td>\n",
       "      <td>0 days 00:02:51</td>\n",
       "      <td>Brooklyn Nine-Nine</td>\n",
       "      <td>Temporada 6</td>\n",
       "      <td>A cena do crime (Episódio 6)</td>\n",
       "      <td>6</td>\n",
       "      <td>15</td>\n",
       "    </tr>\n",
       "    <tr>\n",
       "      <th>319</th>\n",
       "      <td>2020-06-18 03:34:03-03:00</td>\n",
       "      <td>0 days 00:06:35</td>\n",
       "      <td>Brooklyn Nine-Nine</td>\n",
       "      <td>Temporada 5</td>\n",
       "      <td>Sargento Manteiga de Amendoim (Episódio 6)</td>\n",
       "      <td>3</td>\n",
       "      <td>3</td>\n",
       "    </tr>\n",
       "    <tr>\n",
       "      <th>320</th>\n",
       "      <td>2020-06-18 03:30:17-03:00</td>\n",
       "      <td>0 days 00:03:40</td>\n",
       "      <td>Brooklyn Nine-Nine</td>\n",
       "      <td>Temporada 5</td>\n",
       "      <td>Jogatina (Episódio 5)</td>\n",
       "      <td>3</td>\n",
       "      <td>3</td>\n",
       "    </tr>\n",
       "  </tbody>\n",
       "</table>\n",
       "</div>"
      ],
      "text/plain": [
       "                   Start_Time        Duration  ... Weekday Hour\n",
       "5   2020-11-10 00:22:39-02:00 0 days 00:21:15  ...       1    0\n",
       "6   2020-11-10 00:15:15-02:00 0 days 00:07:22  ...       1    0\n",
       "161 2020-11-01 15:12:38-02:00 0 days 00:02:51  ...       6   15\n",
       "319 2020-06-18 03:34:03-03:00 0 days 00:06:35  ...       3    3\n",
       "320 2020-06-18 03:30:17-03:00 0 days 00:03:40  ...       3    3\n",
       "\n",
       "[5 rows x 7 columns]"
      ]
     },
     "execution_count": 24,
     "metadata": {
      "tags": []
     },
     "output_type": "execute_result"
    }
   ],
   "source": [
    "b99 = b99[(b99['Duration'] > '0 days 00:02:00')]\n",
    "b99.head()"
   ]
  },
  {
   "cell_type": "markdown",
   "metadata": {
    "id": "679ld1UmN7yA"
   },
   "source": [
    "> **Quanto tempo passei assistindo B99?**\n",
    "\n"
   ]
  },
  {
   "cell_type": "code",
   "execution_count": null,
   "metadata": {
    "colab": {
     "base_uri": "https://localhost:8080/"
    },
    "id": "2hY1qYk_xOFl",
    "outputId": "4143911d-b09f-421f-ab25-6c24a8100980"
   },
   "outputs": [
    {
     "data": {
      "text/plain": [
       "Timedelta('2 days 02:26:04')"
      ]
     },
     "execution_count": 25,
     "metadata": {
      "tags": []
     },
     "output_type": "execute_result"
    }
   ],
   "source": [
    "b99['Duration'].sum()"
   ]
  },
  {
   "cell_type": "markdown",
   "metadata": {
    "id": "3h98EotbN_Jv"
   },
   "source": [
    "> **Qual temporada de B99 eu mais assisti?**\n",
    "\n"
   ]
  },
  {
   "cell_type": "code",
   "execution_count": null,
   "metadata": {
    "colab": {
     "base_uri": "https://localhost:8080/"
    },
    "id": "ns4T1es6N2-b",
    "outputId": "85a0565f-2b8f-4f1b-8675-83d1bb842859"
   },
   "outputs": [
    {
     "data": {
      "text/plain": [
       " Temporada 5    72\n",
       " Temporada 1    66\n",
       " Temporada 4    59\n",
       " Temporada 2    39\n",
       " Temporada 3    39\n",
       " Temporada 6    17\n",
       "Name: Season, dtype: int64"
      ]
     },
     "execution_count": 26,
     "metadata": {
      "tags": []
     },
     "output_type": "execute_result"
    }
   ],
   "source": [
    "b99['Season'].value_counts()"
   ]
  },
  {
   "cell_type": "markdown",
   "metadata": {
    "id": "cUVR7mUcOHO2"
   },
   "source": [
    "> **Quais foram os episódios mais assistidos em B99?**"
   ]
  },
  {
   "cell_type": "code",
   "execution_count": null,
   "metadata": {
    "colab": {
     "base_uri": "https://localhost:8080/"
    },
    "id": "L2Cd3xyVxTJ4",
    "outputId": "f88d2602-72b0-4e34-f985-f02f2f436e96"
   },
   "outputs": [
    {
     "data": {
      "text/plain": [
       " Jogatina (Episódio 5)                         9\n",
       " Piloto (Episódio 1)                           6\n",
       " Um caso difícil (Episódio 21)                 6\n",
       " Lua de mel (Episódio 1)                       5\n",
       " Sargento Manteiga de Amendoim (Episódio 6)    5\n",
       "                                              ..\n",
       " FBI (Episódio 22)                             1\n",
       " Os suecos (Episódio 9)                        1\n",
       " O descanso da defesa (Episódio 14)            1\n",
       " A 9-8 (Episódio 15)                           1\n",
       " Greg e Larry (Episódio 23)                    1\n",
       "Name: Episode, Length: 118, dtype: int64"
      ]
     },
     "execution_count": 27,
     "metadata": {
      "tags": []
     },
     "output_type": "execute_result"
    }
   ],
   "source": [
    "b99['Episode'].value_counts()"
   ]
  },
  {
   "cell_type": "markdown",
   "metadata": {
    "id": "KtX-EmHkOMdW"
   },
   "source": [
    "\n",
    "> **Em quais dias da semana eu assisti mais episódios de B99?**"
   ]
  },
  {
   "cell_type": "code",
   "execution_count": null,
   "metadata": {
    "colab": {
     "base_uri": "https://localhost:8080/",
     "height": 354
    },
    "id": "Oy4rUQI6xdpA",
    "outputId": "c67c79c1-7f81-4cf2-cfbe-59cd4a6ca27b"
   },
   "outputs": [
    {
     "data": {
      "image/png": "[encoded data removed]",
      "text/plain": [
       "<Figure size 720x360 with 1 Axes>"
      ]
     },
     "metadata": {
      "needs_background": "light",
      "tags": []
     },
     "output_type": "display_data"
    }
   ],
   "source": [
    "#Monday=0, Sunday=6\n",
    "plt.figure(figsize=(10,5))\n",
    "ax = sns.countplot(x='Weekday', data=b99, color='blueviolet')\n",
    "ax.set_title('Episódios de B99 assistidos por Dia da Semana', fontsize=17);"
   ]
  },
  {
   "cell_type": "markdown",
   "metadata": {
    "id": "_hqVRRE9OQpc"
   },
   "source": [
    "> **Em que hora do dia eu assisto episódios de B99 com mais frequência?**\n",
    "\n"
   ]
  },
  {
   "cell_type": "code",
   "execution_count": null,
   "metadata": {
    "colab": {
     "base_uri": "https://localhost:8080/",
     "height": 354
    },
    "id": "MUdkJ338xiJX",
    "outputId": "d7c5428e-6e63-4b91-f47b-8281f8d85a66"
   },
   "outputs": [
    {
     "data": {
      "image/png": "[encoded data removed]",
      "text/plain": [
       "<Figure size 720x360 with 1 Axes>"
      ]
     },
     "metadata": {
      "needs_background": "light",
      "tags": []
     },
     "output_type": "display_data"
    }
   ],
   "source": [
    "plt.figure(figsize=(10,5))\n",
    "ax = sns.countplot(x='Hour', data=b99, color='blueviolet')\n",
    "ax.set_title('Episódios de B99 assistidos por Hora', fontsize=17);"
   ]
  },
  {
   "cell_type": "code",
   "execution_count": null,
   "metadata": {
    "id": "-MRGGxwzxlGo"
   },
   "outputs": [],
   "source": []
  }
 ],
 "metadata": {
  "colab": {
   "collapsed_sections": [],
   "name": "Analise_de_Dados_Netflix.ipynb",
   "provenance": []
  },
  "kernelspec": {
   "display_name": "Python 3",
   "language": "python",
   "name": "python3"
  },
  "language_info": {
   "codemirror_mode": {
    "name": "ipython",
    "version": 3
   },
   "file_extension": ".py",
   "mimetype": "text/x-python",
   "name": "python",
   "nbconvert_exporter": "python",
   "pygments_lexer": "ipython3",
   "version": "3.8.5"
  }
 },
 "nbformat": 4,
 "nbformat_minor": 1
}
