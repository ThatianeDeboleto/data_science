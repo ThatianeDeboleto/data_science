{
  "nbformat": 4,
  "nbformat_minor": 0,
  "metadata": {
    "colab": {
      "name": "Modelo-Classificacao-RH",
      "provenance": [],
      "collapsed_sections": []
    },
    "kernelspec": {
      "name": "python3",
      "display_name": "Python 3"
    }
  },
  "cells": [
    {
      "cell_type": "markdown",
      "metadata": {
        "id": "gS6U7QPFdr5h",
        "colab_type": "text"
      },
      "source": [
        "#**Análise de RH**\n",
        "\n",
        "Nesse projeto irei construir um modelo de Machine Learning que será capaz de classificar, de acordo com as características dos dados, a probabilidade de um funcionário(a) permanecer ou não na empresa. \n",
        "\n",
        "Esse tipo de aprendizado é conhecido como Aprendizado Supervisionado, pois a nossa variável alvo (left_Company) irá participar da aprendizagem do modelo. Esse modelo, como já foi dito, será um modelo de classificação e os algortimos utilizados serão o Random Forest Classifier e o KNeighbors Classifier.\n",
        "\n",
        "Link do dataset utilizado: https://www.kaggle.com/krismurphy01/data-lab\n",
        "\n"
      ]
    },
    {
      "cell_type": "markdown",
      "metadata": {
        "id": "Rwg6IIE0fWQ9",
        "colab_type": "text"
      },
      "source": [
        "## **Setup**"
      ]
    },
    {
      "cell_type": "code",
      "metadata": {
        "id": "bxpM14rgdkW8",
        "colab_type": "code",
        "colab": {
          "base_uri": "https://localhost:8080/",
          "height": 314
        },
        "outputId": "ded8f94b-3f42-4532-8ba2-dbf60511a880"
      },
      "source": [
        "#importando algumas bibliotecas necessárias\n",
        "!pip install scikit-plot #instalando biblioteca para plot\n",
        "\n",
        "import pandas as pd #tratamento e limpeza dos dados\n",
        "import numpy as np #tratamento eficiente de dados numéricos\n",
        "\n",
        "#plotar os gráficos\n",
        "%matplotlib inline\n",
        "import matplotlib.pyplot as plt  \n",
        "import seaborn as sns\n",
        "import scikitplot as skplt\n",
        "\n",
        "#configurando o estilo dos gráficos\n",
        "sns.set_style('darkgrid')\n",
        "sns.set_palette('Accent')\n",
        "\n",
        "#SEED\n",
        "np.random.seed(42)"
      ],
      "execution_count": null,
      "outputs": [
        {
          "output_type": "stream",
          "text": [
            "Collecting scikit-plot\n",
            "  Downloading https://files.pythonhosted.org/packages/7c/47/32520e259340c140a4ad27c1b97050dd3254fdc517b1d59974d47037510e/scikit_plot-0.3.7-py3-none-any.whl\n",
            "Requirement already satisfied: scikit-learn>=0.18 in /usr/local/lib/python3.6/dist-packages (from scikit-plot) (0.22.2.post1)\n",
            "Requirement already satisfied: joblib>=0.10 in /usr/local/lib/python3.6/dist-packages (from scikit-plot) (0.16.0)\n",
            "Requirement already satisfied: matplotlib>=1.4.0 in /usr/local/lib/python3.6/dist-packages (from scikit-plot) (3.2.2)\n",
            "Requirement already satisfied: scipy>=0.9 in /usr/local/lib/python3.6/dist-packages (from scikit-plot) (1.4.1)\n",
            "Requirement already satisfied: numpy>=1.11.0 in /usr/local/lib/python3.6/dist-packages (from scikit-learn>=0.18->scikit-plot) (1.18.5)\n",
            "Requirement already satisfied: pyparsing!=2.0.4,!=2.1.2,!=2.1.6,>=2.0.1 in /usr/local/lib/python3.6/dist-packages (from matplotlib>=1.4.0->scikit-plot) (2.4.7)\n",
            "Requirement already satisfied: kiwisolver>=1.0.1 in /usr/local/lib/python3.6/dist-packages (from matplotlib>=1.4.0->scikit-plot) (1.2.0)\n",
            "Requirement already satisfied: cycler>=0.10 in /usr/local/lib/python3.6/dist-packages (from matplotlib>=1.4.0->scikit-plot) (0.10.0)\n",
            "Requirement already satisfied: python-dateutil>=2.1 in /usr/local/lib/python3.6/dist-packages (from matplotlib>=1.4.0->scikit-plot) (2.8.1)\n",
            "Requirement already satisfied: six in /usr/local/lib/python3.6/dist-packages (from cycler>=0.10->matplotlib>=1.4.0->scikit-plot) (1.15.0)\n",
            "Installing collected packages: scikit-plot\n",
            "Successfully installed scikit-plot-0.3.7\n"
          ],
          "name": "stdout"
        },
        {
          "output_type": "stream",
          "text": [
            "/usr/local/lib/python3.6/dist-packages/statsmodels/tools/_testing.py:19: FutureWarning: pandas.util.testing is deprecated. Use the functions in the public API at pandas.testing instead.\n",
            "  import pandas.util.testing as tm\n"
          ],
          "name": "stderr"
        }
      ]
    },
    {
      "cell_type": "markdown",
      "metadata": {
        "id": "Q5QIYB3rkcrc",
        "colab_type": "text"
      },
      "source": [
        "**Dicionário de Colunas (informações retiradas do Kaggle):**\n",
        "\n",
        "\n",
        "*   **ID:** Employee ID\n",
        "*   **Name:** Employee Name\n",
        "*   **Department:** The functional department that the employee belongs to.\n",
        "*   **GEO:** The working geography that the employee belongs to in a matrix organization.\n",
        "*   **Role:** The employee's position or title.\n",
        "*   **Rising_Star:** Indicates the level of promise or promote-ability the employee has.\n",
        "*   **Will_Relocate:** Is the employee willing to relocate?\n",
        "*   **Critical:** Is the employee critical to the organization?\n",
        "*   **Trending Perf:** How is the employee trending in performance this year?\n",
        "*   **Talent_Level:** This field represents a subjective level of management's view of the employee.\n",
        "*   **Validated_Talent_Level:** This field senior managements view of what the manager stated.\n",
        "*   **Percent_Remote:** The percentage of the employee's work that is done remotely.\n",
        "*   **EMP_Sat_OnPrem_1:** One indicator from a survey that was sent to employees by a third party. \n",
        "*   **EMP_Sat_Remote_1:** One indicator from a survey that was sent to employees by a third party. \n",
        "*   **EMP_Engagement_1:** One indicator from a survey that was sent to employees by a third party. Engagement represents the employee's \n",
        "*   **last_evaluation:** The score on the last employee evaluation.\n",
        "*   **number_project:** The number of projects the employee works on throughout the year.\n",
        "*   **average_montly_hours:** The average number of hours the employee works.\n",
        "*   **time_spend_company:** Years of service.\n",
        "*   **Work_accident:** The number of accidents the employee is involved in.\n",
        "*   **left_Company:** Did the employee leave the company?\n",
        "*   **CSR Factor** \n",
        "*   **promotion_last_5years:** Did the employee get promoted in last 5 years?\n",
        "*   **sales**\n",
        "*   **salary:** Relative pay grade (low, medium, high) by role.\n",
        "*   **Gender:** Gender or how the ​person identifies.\n",
        "*   **LinkedIn_Hits:** The number of times employee visits LinkedIn networking sites.\n",
        "*   **Emp_Work_Status2:** One indicator from a survey that was sent to employees by a third party. Status represents how strongly employee\n",
        "*   **Emp_Identity:** How the employee identifies themselves with the company.\n",
        "*   **Emp_Role:** How the employee identifies themselves with the importance of their role in the company.\n",
        "*   **Emp_Position:** How the employee identifies themselves with the importance of their position in the company.\n",
        "*   **Emp_Title:** How the employee feels about their title.\n",
        "*   **Women_Leave:** Women who left the company.\n",
        "*   **Men_Leave:** Men who left the company.\n",
        "*   **Emp_Competitive_1:** One indicator from a survey that was sent to employees by a third party. How employee feels about the\n",
        "*   **Emp_Collaborative_1:** One indicator from a survey that was sent to employees by a third party. How employee feels about the\n",
        "*   **Sensor_StepCount:** Sentient devices are used to capture certain employee activities. In this case number of steps.\n",
        "*   **Sensor_Heartbeat(Average/Min):** Sentient devices are used to capture certain employee activities. In this case heartbeat.\n",
        "*   **Sensor_Proximity(1-highest/10-lowest):** Sentient devices are used to capture certain employee activities. In this case how close they are to their company laptop.\n",
        "\n",
        "\n",
        "\n",
        "\n",
        "\n",
        "\n",
        "\n",
        "\n",
        "\n",
        "\n",
        "\n",
        "\n"
      ]
    },
    {
      "cell_type": "markdown",
      "metadata": {
        "id": "KRm-45hVikcE",
        "colab_type": "text"
      },
      "source": [
        "## **Análise Exploratória de Dados**\n",
        "\n",
        "A análise explortatória de dados é um dos primeiros passos em um projeto de Data Science, aqui iremos explorar e conhecer melhor os nossos dados, para em seguida construírmos um modelo de Machine Learning."
      ]
    },
    {
      "cell_type": "code",
      "metadata": {
        "id": "0CEnw-uch6OQ",
        "colab_type": "code",
        "colab": {
          "base_uri": "https://localhost:8080/",
          "height": 287
        },
        "outputId": "6ec02951-425f-4aeb-d5df-c1bbb30cdecd"
      },
      "source": [
        "#carregando os dados e visualizando as 5 primeiras entradas\n",
        "\n",
        "df = pd.read_csv('HR_Engagement_Sat_Sales_UpdatedV4.0.csv')\n",
        "df.head()"
      ],
      "execution_count": null,
      "outputs": [
        {
          "output_type": "execute_result",
          "data": {
            "text/html": [
              "<div>\n",
              "<style scoped>\n",
              "    .dataframe tbody tr th:only-of-type {\n",
              "        vertical-align: middle;\n",
              "    }\n",
              "\n",
              "    .dataframe tbody tr th {\n",
              "        vertical-align: top;\n",
              "    }\n",
              "\n",
              "    .dataframe thead th {\n",
              "        text-align: right;\n",
              "    }\n",
              "</style>\n",
              "<table border=\"1\" class=\"dataframe\">\n",
              "  <thead>\n",
              "    <tr style=\"text-align: right;\">\n",
              "      <th></th>\n",
              "      <th>ID</th>\n",
              "      <th>Name</th>\n",
              "      <th>Department</th>\n",
              "      <th>GEO</th>\n",
              "      <th>Role</th>\n",
              "      <th>Rising_Star</th>\n",
              "      <th>Will_Relocate</th>\n",
              "      <th>Critical</th>\n",
              "      <th>Trending Perf</th>\n",
              "      <th>Talent_Level</th>\n",
              "      <th>Validated_Talent_Level</th>\n",
              "      <th>Percent_Remote</th>\n",
              "      <th>EMP_Sat_OnPrem_1</th>\n",
              "      <th>EMP_Sat_OnPrem_2</th>\n",
              "      <th>EMP_Sat_OnPrem_3</th>\n",
              "      <th>EMP_Sat_OnPrem_4</th>\n",
              "      <th>EMP_Sat_OnPrem_5</th>\n",
              "      <th>EMP_Sat_Remote_1</th>\n",
              "      <th>EMP_Sat_Remote_2</th>\n",
              "      <th>EMP_Sat_Remote_3</th>\n",
              "      <th>EMP_Sat_Remote_4</th>\n",
              "      <th>EMP_Sat_Remote_5</th>\n",
              "      <th>EMP_Engagement_1</th>\n",
              "      <th>EMP_Engagement_2</th>\n",
              "      <th>EMP_Engagement_3</th>\n",
              "      <th>EMP_Engagement_4</th>\n",
              "      <th>EMP_Engagement_5</th>\n",
              "      <th>last_evaluation</th>\n",
              "      <th>number_project</th>\n",
              "      <th>average_montly_hours</th>\n",
              "      <th>time_spend_company</th>\n",
              "      <th>Work_accident</th>\n",
              "      <th>left_Company</th>\n",
              "      <th>CSR Factor</th>\n",
              "      <th>promotion_last_5years</th>\n",
              "      <th>sales</th>\n",
              "      <th>salary</th>\n",
              "      <th>Gender</th>\n",
              "      <th>LinkedIn_Hits</th>\n",
              "      <th>Emp_Work_Status2</th>\n",
              "      <th>Emp_Work_Status_3</th>\n",
              "      <th>Emp_Work_Status_4</th>\n",
              "      <th>Emp_Work_Status_5</th>\n",
              "      <th>Emp_Identity</th>\n",
              "      <th>Emp_Role</th>\n",
              "      <th>Emp_Position</th>\n",
              "      <th>Emp_Title</th>\n",
              "      <th>Women_Leave</th>\n",
              "      <th>Men_Leave</th>\n",
              "      <th>Emp_Competitive_1</th>\n",
              "      <th>Emp_Competitive_2</th>\n",
              "      <th>Emp_Competitive_3</th>\n",
              "      <th>Emp_Competitive_4</th>\n",
              "      <th>Emp_Competitive_5</th>\n",
              "      <th>Emp_Collaborative_1</th>\n",
              "      <th>Emp_Collaborative_2</th>\n",
              "      <th>Emp_Collaborative_3</th>\n",
              "      <th>Emp_Collaborative_4</th>\n",
              "      <th>Emp_Collaborative_5</th>\n",
              "      <th>Sensor_StepCount</th>\n",
              "      <th>Sensor_Heartbeat(Average/Min)</th>\n",
              "      <th>Sensor_Proximity(1-highest/10-lowest)</th>\n",
              "    </tr>\n",
              "  </thead>\n",
              "  <tbody>\n",
              "    <tr>\n",
              "      <th>0</th>\n",
              "      <td>1</td>\n",
              "      <td>BRADDY</td>\n",
              "      <td>Operations</td>\n",
              "      <td>US</td>\n",
              "      <td>VP</td>\n",
              "      <td>NaN</td>\n",
              "      <td>0</td>\n",
              "      <td>1.0</td>\n",
              "      <td>3</td>\n",
              "      <td>6</td>\n",
              "      <td>6</td>\n",
              "      <td>0.4</td>\n",
              "      <td>3.0</td>\n",
              "      <td>3.0</td>\n",
              "      <td>4.0</td>\n",
              "      <td>3.0</td>\n",
              "      <td>5.0</td>\n",
              "      <td>2</td>\n",
              "      <td>3</td>\n",
              "      <td>2</td>\n",
              "      <td>3</td>\n",
              "      <td>2</td>\n",
              "      <td>5</td>\n",
              "      <td>5</td>\n",
              "      <td>4</td>\n",
              "      <td>4</td>\n",
              "      <td>3</td>\n",
              "      <td>0.36</td>\n",
              "      <td>3</td>\n",
              "      <td>168</td>\n",
              "      <td>3</td>\n",
              "      <td>1</td>\n",
              "      <td>0</td>\n",
              "      <td>NaN</td>\n",
              "      <td>0</td>\n",
              "      <td>sales</td>\n",
              "      <td>low</td>\n",
              "      <td>M</td>\n",
              "      <td>5</td>\n",
              "      <td>4</td>\n",
              "      <td>3</td>\n",
              "      <td>1</td>\n",
              "      <td>1</td>\n",
              "      <td>1</td>\n",
              "      <td>1</td>\n",
              "      <td>2</td>\n",
              "      <td>1</td>\n",
              "      <td>NaN</td>\n",
              "      <td>1.0</td>\n",
              "      <td>2</td>\n",
              "      <td>4</td>\n",
              "      <td>2</td>\n",
              "      <td>2</td>\n",
              "      <td>2</td>\n",
              "      <td>2</td>\n",
              "      <td>2</td>\n",
              "      <td>2</td>\n",
              "      <td>1</td>\n",
              "      <td>5</td>\n",
              "      <td>1841</td>\n",
              "      <td>61</td>\n",
              "      <td>9</td>\n",
              "    </tr>\n",
              "    <tr>\n",
              "      <th>1</th>\n",
              "      <td>2</td>\n",
              "      <td>BORST</td>\n",
              "      <td>Sales</td>\n",
              "      <td>UK</td>\n",
              "      <td>Senior Director</td>\n",
              "      <td>NaN</td>\n",
              "      <td>0</td>\n",
              "      <td>NaN</td>\n",
              "      <td>3</td>\n",
              "      <td>6</td>\n",
              "      <td>6</td>\n",
              "      <td>0.4</td>\n",
              "      <td>3.0</td>\n",
              "      <td>3.0</td>\n",
              "      <td>4.0</td>\n",
              "      <td>3.0</td>\n",
              "      <td>5.0</td>\n",
              "      <td>2</td>\n",
              "      <td>3</td>\n",
              "      <td>2</td>\n",
              "      <td>3</td>\n",
              "      <td>2</td>\n",
              "      <td>5</td>\n",
              "      <td>5</td>\n",
              "      <td>4</td>\n",
              "      <td>4</td>\n",
              "      <td>3</td>\n",
              "      <td>0.36</td>\n",
              "      <td>5</td>\n",
              "      <td>159</td>\n",
              "      <td>2</td>\n",
              "      <td>0</td>\n",
              "      <td>0</td>\n",
              "      <td>NaN</td>\n",
              "      <td>0</td>\n",
              "      <td>accounting</td>\n",
              "      <td>low</td>\n",
              "      <td>F</td>\n",
              "      <td>58</td>\n",
              "      <td>3</td>\n",
              "      <td>3</td>\n",
              "      <td>4</td>\n",
              "      <td>3</td>\n",
              "      <td>2</td>\n",
              "      <td>1</td>\n",
              "      <td>2</td>\n",
              "      <td>1</td>\n",
              "      <td>0.0</td>\n",
              "      <td>NaN</td>\n",
              "      <td>2</td>\n",
              "      <td>2</td>\n",
              "      <td>1</td>\n",
              "      <td>4</td>\n",
              "      <td>1</td>\n",
              "      <td>3</td>\n",
              "      <td>2</td>\n",
              "      <td>5</td>\n",
              "      <td>1</td>\n",
              "      <td>5</td>\n",
              "      <td>1990</td>\n",
              "      <td>90</td>\n",
              "      <td>8</td>\n",
              "    </tr>\n",
              "    <tr>\n",
              "      <th>2</th>\n",
              "      <td>3</td>\n",
              "      <td>BIRDWELL</td>\n",
              "      <td>Finance</td>\n",
              "      <td>France</td>\n",
              "      <td>Senior Director</td>\n",
              "      <td>NaN</td>\n",
              "      <td>0</td>\n",
              "      <td>NaN</td>\n",
              "      <td>3</td>\n",
              "      <td>6</td>\n",
              "      <td>6</td>\n",
              "      <td>0.4</td>\n",
              "      <td>3.0</td>\n",
              "      <td>3.0</td>\n",
              "      <td>4.0</td>\n",
              "      <td>3.0</td>\n",
              "      <td>5.0</td>\n",
              "      <td>2</td>\n",
              "      <td>3</td>\n",
              "      <td>2</td>\n",
              "      <td>3</td>\n",
              "      <td>2</td>\n",
              "      <td>5</td>\n",
              "      <td>5</td>\n",
              "      <td>4</td>\n",
              "      <td>4</td>\n",
              "      <td>3</td>\n",
              "      <td>0.36</td>\n",
              "      <td>2</td>\n",
              "      <td>282</td>\n",
              "      <td>3</td>\n",
              "      <td>0</td>\n",
              "      <td>0</td>\n",
              "      <td>NaN</td>\n",
              "      <td>0</td>\n",
              "      <td>product_mng</td>\n",
              "      <td>medium</td>\n",
              "      <td>F</td>\n",
              "      <td>42</td>\n",
              "      <td>2</td>\n",
              "      <td>4</td>\n",
              "      <td>1</td>\n",
              "      <td>3</td>\n",
              "      <td>1</td>\n",
              "      <td>1</td>\n",
              "      <td>2</td>\n",
              "      <td>2</td>\n",
              "      <td>1.0</td>\n",
              "      <td>NaN</td>\n",
              "      <td>1</td>\n",
              "      <td>5</td>\n",
              "      <td>1</td>\n",
              "      <td>2</td>\n",
              "      <td>5</td>\n",
              "      <td>2</td>\n",
              "      <td>2</td>\n",
              "      <td>4</td>\n",
              "      <td>4</td>\n",
              "      <td>4</td>\n",
              "      <td>3193</td>\n",
              "      <td>80</td>\n",
              "      <td>8</td>\n",
              "    </tr>\n",
              "    <tr>\n",
              "      <th>3</th>\n",
              "      <td>4</td>\n",
              "      <td>BENT</td>\n",
              "      <td>Human Resources</td>\n",
              "      <td>China</td>\n",
              "      <td>Senior Director</td>\n",
              "      <td>NaN</td>\n",
              "      <td>0</td>\n",
              "      <td>NaN</td>\n",
              "      <td>3</td>\n",
              "      <td>6</td>\n",
              "      <td>6</td>\n",
              "      <td>0.4</td>\n",
              "      <td>3.0</td>\n",
              "      <td>3.0</td>\n",
              "      <td>4.0</td>\n",
              "      <td>3.0</td>\n",
              "      <td>5.0</td>\n",
              "      <td>2</td>\n",
              "      <td>3</td>\n",
              "      <td>2</td>\n",
              "      <td>3</td>\n",
              "      <td>2</td>\n",
              "      <td>5</td>\n",
              "      <td>5</td>\n",
              "      <td>4</td>\n",
              "      <td>4</td>\n",
              "      <td>3</td>\n",
              "      <td>0.36</td>\n",
              "      <td>4</td>\n",
              "      <td>278</td>\n",
              "      <td>4</td>\n",
              "      <td>1</td>\n",
              "      <td>0</td>\n",
              "      <td>NaN</td>\n",
              "      <td>0</td>\n",
              "      <td>product_mng</td>\n",
              "      <td>high</td>\n",
              "      <td>M</td>\n",
              "      <td>37</td>\n",
              "      <td>3</td>\n",
              "      <td>1</td>\n",
              "      <td>4</td>\n",
              "      <td>5</td>\n",
              "      <td>2</td>\n",
              "      <td>1</td>\n",
              "      <td>2</td>\n",
              "      <td>1</td>\n",
              "      <td>NaN</td>\n",
              "      <td>1.0</td>\n",
              "      <td>1</td>\n",
              "      <td>1</td>\n",
              "      <td>2</td>\n",
              "      <td>5</td>\n",
              "      <td>1</td>\n",
              "      <td>1</td>\n",
              "      <td>2</td>\n",
              "      <td>4</td>\n",
              "      <td>4</td>\n",
              "      <td>1</td>\n",
              "      <td>3248</td>\n",
              "      <td>77</td>\n",
              "      <td>6</td>\n",
              "    </tr>\n",
              "    <tr>\n",
              "      <th>4</th>\n",
              "      <td>5</td>\n",
              "      <td>BAZAN</td>\n",
              "      <td>IT</td>\n",
              "      <td>Korea</td>\n",
              "      <td>Director</td>\n",
              "      <td>NaN</td>\n",
              "      <td>0</td>\n",
              "      <td>NaN</td>\n",
              "      <td>3</td>\n",
              "      <td>6</td>\n",
              "      <td>6</td>\n",
              "      <td>0.4</td>\n",
              "      <td>3.0</td>\n",
              "      <td>3.0</td>\n",
              "      <td>4.0</td>\n",
              "      <td>3.0</td>\n",
              "      <td>5.0</td>\n",
              "      <td>2</td>\n",
              "      <td>3</td>\n",
              "      <td>2</td>\n",
              "      <td>3</td>\n",
              "      <td>2</td>\n",
              "      <td>5</td>\n",
              "      <td>5</td>\n",
              "      <td>4</td>\n",
              "      <td>4</td>\n",
              "      <td>3</td>\n",
              "      <td>0.36</td>\n",
              "      <td>6</td>\n",
              "      <td>256</td>\n",
              "      <td>5</td>\n",
              "      <td>0</td>\n",
              "      <td>0</td>\n",
              "      <td>NaN</td>\n",
              "      <td>0</td>\n",
              "      <td>sales</td>\n",
              "      <td>low</td>\n",
              "      <td>F</td>\n",
              "      <td>6</td>\n",
              "      <td>4</td>\n",
              "      <td>5</td>\n",
              "      <td>4</td>\n",
              "      <td>5</td>\n",
              "      <td>1</td>\n",
              "      <td>1</td>\n",
              "      <td>2</td>\n",
              "      <td>1</td>\n",
              "      <td>1.0</td>\n",
              "      <td>NaN</td>\n",
              "      <td>1</td>\n",
              "      <td>4</td>\n",
              "      <td>1</td>\n",
              "      <td>5</td>\n",
              "      <td>3</td>\n",
              "      <td>5</td>\n",
              "      <td>1</td>\n",
              "      <td>2</td>\n",
              "      <td>5</td>\n",
              "      <td>4</td>\n",
              "      <td>3149</td>\n",
              "      <td>80</td>\n",
              "      <td>10</td>\n",
              "    </tr>\n",
              "  </tbody>\n",
              "</table>\n",
              "</div>"
            ],
            "text/plain": [
              "   ID  ... Sensor_Proximity(1-highest/10-lowest)\n",
              "0   1  ...                                     9\n",
              "1   2  ...                                     8\n",
              "2   3  ...                                     8\n",
              "3   4  ...                                     6\n",
              "4   5  ...                                    10\n",
              "\n",
              "[5 rows x 62 columns]"
            ]
          },
          "metadata": {
            "tags": []
          },
          "execution_count": 2
        }
      ]
    },
    {
      "cell_type": "code",
      "metadata": {
        "id": "pUsUO7b3iY6_",
        "colab_type": "code",
        "colab": {
          "base_uri": "https://localhost:8080/",
          "height": 52
        },
        "outputId": "47b3c0f8-0ead-4905-9707-46215a3949e6"
      },
      "source": [
        "#dimensões do DataFrame\n",
        "\n",
        "print(f'Linhas: {df.shape[0]}')\n",
        "print(f'Colunas: {df.shape[1]}')"
      ],
      "execution_count": null,
      "outputs": [
        {
          "output_type": "stream",
          "text": [
            "Linhas: 14999\n",
            "Colunas: 62\n"
          ],
          "name": "stdout"
        }
      ]
    },
    {
      "cell_type": "markdown",
      "metadata": {
        "id": "C6QCX2VArf6j",
        "colab_type": "text"
      },
      "source": [
        "> O método **```.info()```** imprime informações sobre o DataFrame incluindo o índice, o tipo de dado, o nome de cada coluna, assim como também nos mostra os valores não nulos de cada coluna e o uso de memória.\n",
        ">\n",
        "> Já podemos notar que algumas colunas possuem missing values (valores nulos) que posteriormente precisaremos tratar com algumas técnicas."
      ]
    },
    {
      "cell_type": "code",
      "metadata": {
        "id": "MHgPFb8BjGQq",
        "colab_type": "code",
        "colab": {
          "base_uri": "https://localhost:8080/",
          "height": 1000
        },
        "outputId": "c5fc8c51-0182-4162-8d93-811d83dd690b"
      },
      "source": [
        "df.info()"
      ],
      "execution_count": null,
      "outputs": [
        {
          "output_type": "stream",
          "text": [
            "<class 'pandas.core.frame.DataFrame'>\n",
            "RangeIndex: 14999 entries, 0 to 14998\n",
            "Data columns (total 62 columns):\n",
            " #   Column                                 Non-Null Count  Dtype  \n",
            "---  ------                                 --------------  -----  \n",
            " 0   ID                                     14999 non-null  int64  \n",
            " 1   Name                                   14997 non-null  object \n",
            " 2   Department                             14999 non-null  object \n",
            " 3   GEO                                    14999 non-null  object \n",
            " 4   Role                                   14999 non-null  object \n",
            " 5   Rising_Star                            21 non-null     float64\n",
            " 6   Will_Relocate                          14999 non-null  int64  \n",
            " 7   Critical                               480 non-null    float64\n",
            " 8   Trending Perf                          14999 non-null  int64  \n",
            " 9   Talent_Level                           14999 non-null  int64  \n",
            " 10  Validated_Talent_Level                 14999 non-null  int64  \n",
            " 11  Percent_Remote                         14999 non-null  float64\n",
            " 12  EMP_Sat_OnPrem_1                       14871 non-null  float64\n",
            " 13  EMP_Sat_OnPrem_2                       14871 non-null  float64\n",
            " 14  EMP_Sat_OnPrem_3                       14871 non-null  float64\n",
            " 15  EMP_Sat_OnPrem_4                       14871 non-null  float64\n",
            " 16  EMP_Sat_OnPrem_5                       14871 non-null  float64\n",
            " 17  EMP_Sat_Remote_1                       14999 non-null  int64  \n",
            " 18  EMP_Sat_Remote_2                       14999 non-null  int64  \n",
            " 19  EMP_Sat_Remote_3                       14999 non-null  int64  \n",
            " 20  EMP_Sat_Remote_4                       14999 non-null  int64  \n",
            " 21  EMP_Sat_Remote_5                       14999 non-null  int64  \n",
            " 22  EMP_Engagement_1                       14999 non-null  int64  \n",
            " 23  EMP_Engagement_2                       14999 non-null  int64  \n",
            " 24  EMP_Engagement_3                       14999 non-null  int64  \n",
            " 25  EMP_Engagement_4                       14999 non-null  int64  \n",
            " 26  EMP_Engagement_5                       14999 non-null  int64  \n",
            " 27  last_evaluation                        14999 non-null  float64\n",
            " 28  number_project                         14999 non-null  int64  \n",
            " 29  average_montly_hours                   14999 non-null  int64  \n",
            " 30  time_spend_company                     14999 non-null  int64  \n",
            " 31  Work_accident                          14999 non-null  int64  \n",
            " 32  left_Company                           14999 non-null  int64  \n",
            " 33  CSR Factor                             1713 non-null   float64\n",
            " 34  promotion_last_5years                  14999 non-null  int64  \n",
            " 35  sales                                  14999 non-null  object \n",
            " 36  salary                                 14999 non-null  object \n",
            " 37  Gender                                 14999 non-null  object \n",
            " 38  LinkedIn_Hits                          14999 non-null  int64  \n",
            " 39  Emp_Work_Status2                       14999 non-null  int64  \n",
            " 40  Emp_Work_Status_3                      14999 non-null  int64  \n",
            " 41  Emp_Work_Status_4                      14999 non-null  int64  \n",
            " 42  Emp_Work_Status_5                      14999 non-null  int64  \n",
            " 43  Emp_Identity                           14999 non-null  int64  \n",
            " 44  Emp_Role                               14999 non-null  int64  \n",
            " 45  Emp_Position                           14999 non-null  int64  \n",
            " 46  Emp_Title                              14999 non-null  int64  \n",
            " 47  Women_Leave                            7596 non-null   float64\n",
            " 48  Men_Leave                              4865 non-null   float64\n",
            " 49  Emp_Competitive_1                      14999 non-null  int64  \n",
            " 50  Emp_Competitive_2                      14999 non-null  int64  \n",
            " 51  Emp_Competitive_3                      14999 non-null  int64  \n",
            " 52  Emp_Competitive_4                      14999 non-null  int64  \n",
            " 53  Emp_Competitive_5                      14999 non-null  int64  \n",
            " 54  Emp_Collaborative_1                    14999 non-null  int64  \n",
            " 55  Emp_Collaborative_2                    14999 non-null  int64  \n",
            " 56  Emp_Collaborative_3                    14999 non-null  int64  \n",
            " 57  Emp_Collaborative_4                    14999 non-null  int64  \n",
            " 58  Emp_Collaborative_5                    14999 non-null  int64  \n",
            " 59  Sensor_StepCount                       14999 non-null  int64  \n",
            " 60  Sensor_Heartbeat(Average/Min)          14999 non-null  int64  \n",
            " 61  Sensor_Proximity(1-highest/10-lowest)  14999 non-null  int64  \n",
            "dtypes: float64(12), int64(43), object(7)\n",
            "memory usage: 7.1+ MB\n"
          ],
          "name": "stdout"
        }
      ]
    },
    {
      "cell_type": "markdown",
      "metadata": {
        "id": "mq3xD1vGHG0X",
        "colab_type": "text"
      },
      "source": [
        "**Temos quantas colunas de cada tipo de dado?**"
      ]
    },
    {
      "cell_type": "code",
      "metadata": {
        "id": "jQr59D8ArFL_",
        "colab_type": "code",
        "colab": {
          "base_uri": "https://localhost:8080/",
          "height": 86
        },
        "outputId": "b270872b-3716-4f8b-ecb0-360f86f4dc21"
      },
      "source": [
        "df.dtypes.value_counts()"
      ],
      "execution_count": null,
      "outputs": [
        {
          "output_type": "execute_result",
          "data": {
            "text/plain": [
              "int64      43\n",
              "float64    12\n",
              "object      7\n",
              "dtype: int64"
            ]
          },
          "metadata": {
            "tags": []
          },
          "execution_count": 5
        }
      ]
    },
    {
      "cell_type": "markdown",
      "metadata": {
        "id": "7I53XQhKuV8c",
        "colab_type": "text"
      },
      "source": [
        "> Como já vimos anteriormente, temos valores NaN presentes no nosso DataFrame. Mas vamos supor que em uma primeira observação, não tenhamos conseguido obter essa informção. O comando abaixo nos retorna *True* ou *False*, nos dizendo se a coluna possui valor NaN."
      ]
    },
    {
      "cell_type": "code",
      "metadata": {
        "id": "vjqt-PpPsaDg",
        "colab_type": "code",
        "colab": {
          "base_uri": "https://localhost:8080/",
          "height": 1000
        },
        "outputId": "946c9339-d6e3-44ef-81c0-bf9b4ce0082b"
      },
      "source": [
        "#colunas com 'True' possui valores NaN\n",
        "pd.set_option('display.max_rows', None) #configuração para mostrar todas as linhas\n",
        "df.isna().any()"
      ],
      "execution_count": null,
      "outputs": [
        {
          "output_type": "execute_result",
          "data": {
            "text/plain": [
              "ID                                       False\n",
              "Name                                      True\n",
              "Department                               False\n",
              "GEO                                      False\n",
              "Role                                     False\n",
              "Rising_Star                               True\n",
              "Will_Relocate                            False\n",
              "Critical                                  True\n",
              "Trending Perf                            False\n",
              "Talent_Level                             False\n",
              "Validated_Talent_Level                   False\n",
              "Percent_Remote                           False\n",
              "EMP_Sat_OnPrem_1                          True\n",
              "EMP_Sat_OnPrem_2                          True\n",
              "EMP_Sat_OnPrem_3                          True\n",
              "EMP_Sat_OnPrem_4                          True\n",
              "EMP_Sat_OnPrem_5                          True\n",
              "EMP_Sat_Remote_1                         False\n",
              "EMP_Sat_Remote_2                         False\n",
              "EMP_Sat_Remote_3                         False\n",
              "EMP_Sat_Remote_4                         False\n",
              "EMP_Sat_Remote_5                         False\n",
              "EMP_Engagement_1                         False\n",
              "EMP_Engagement_2                         False\n",
              "EMP_Engagement_3                         False\n",
              "EMP_Engagement_4                         False\n",
              "EMP_Engagement_5                         False\n",
              "last_evaluation                          False\n",
              "number_project                           False\n",
              "average_montly_hours                     False\n",
              "time_spend_company                       False\n",
              "Work_accident                            False\n",
              "left_Company                             False\n",
              "CSR Factor                                True\n",
              "promotion_last_5years                    False\n",
              "sales                                    False\n",
              "salary                                   False\n",
              "Gender                                   False\n",
              "LinkedIn_Hits                            False\n",
              "Emp_Work_Status2                         False\n",
              "Emp_Work_Status_3                        False\n",
              "Emp_Work_Status_4                        False\n",
              "Emp_Work_Status_5                        False\n",
              "Emp_Identity                             False\n",
              "Emp_Role                                 False\n",
              "Emp_Position                             False\n",
              "Emp_Title                                False\n",
              "Women_Leave                               True\n",
              "Men_Leave                                 True\n",
              "Emp_Competitive_1                        False\n",
              "Emp_Competitive_2                        False\n",
              "Emp_Competitive_3                        False\n",
              "Emp_Competitive_4                        False\n",
              "Emp_Competitive_5                        False\n",
              "Emp_Collaborative_1                      False\n",
              "Emp_Collaborative_2                      False\n",
              "Emp_Collaborative_3                      False\n",
              "Emp_Collaborative_4                      False\n",
              "Emp_Collaborative_5                      False\n",
              "Sensor_StepCount                         False\n",
              "Sensor_Heartbeat(Average/Min)            False\n",
              "Sensor_Proximity(1-highest/10-lowest)    False\n",
              "dtype: bool"
            ]
          },
          "metadata": {
            "tags": []
          },
          "execution_count": 6
        }
      ]
    },
    {
      "cell_type": "markdown",
      "metadata": {
        "id": "n9gcEuI0yL2D",
        "colab_type": "text"
      },
      "source": [
        "> Com o comando **```df.isna().sum().sort_values(ascending=False)```**\n",
        "retorna a quantidade de valores NaN de cada coluna - lembrando que temos 14.999 entradas nesse dataframe. \n",
        ">\n",
        "> O *ascending=False* ordena os valores em ordem decrescente para facilitar nossa visualização.\n",
        ">\n",
        ">Analisando podemos ver que temos 11 colunas com valores ausentes. Algumas colunas, como podemos ver, possuem um número muito alto de missing values."
      ]
    },
    {
      "cell_type": "code",
      "metadata": {
        "id": "UkKRSWxYu0Zz",
        "colab_type": "code",
        "colab": {
          "base_uri": "https://localhost:8080/",
          "height": 1000
        },
        "outputId": "08d34d7d-2d45-4865-8c84-cf7390d5b422"
      },
      "source": [
        "#número de valores ausentes de cada coluna\n",
        "df.isna().sum().sort_values(ascending=False)"
      ],
      "execution_count": null,
      "outputs": [
        {
          "output_type": "execute_result",
          "data": {
            "text/plain": [
              "Rising_Star                              14978\n",
              "Critical                                 14519\n",
              "CSR Factor                               13286\n",
              "Men_Leave                                10134\n",
              "Women_Leave                               7403\n",
              "EMP_Sat_OnPrem_2                           128\n",
              "EMP_Sat_OnPrem_4                           128\n",
              "EMP_Sat_OnPrem_3                           128\n",
              "EMP_Sat_OnPrem_1                           128\n",
              "EMP_Sat_OnPrem_5                           128\n",
              "Name                                         2\n",
              "EMP_Sat_Remote_2                             0\n",
              "EMP_Sat_Remote_5                             0\n",
              "EMP_Sat_Remote_4                             0\n",
              "EMP_Engagement_2                             0\n",
              "EMP_Engagement_3                             0\n",
              "EMP_Engagement_4                             0\n",
              "EMP_Sat_Remote_3                             0\n",
              "EMP_Engagement_5                             0\n",
              "EMP_Engagement_1                             0\n",
              "Sensor_Proximity(1-highest/10-lowest)        0\n",
              "EMP_Sat_Remote_1                             0\n",
              "number_project                               0\n",
              "Percent_Remote                               0\n",
              "Validated_Talent_Level                       0\n",
              "Talent_Level                                 0\n",
              "Trending Perf                                0\n",
              "Will_Relocate                                0\n",
              "Role                                         0\n",
              "GEO                                          0\n",
              "Department                                   0\n",
              "last_evaluation                              0\n",
              "time_spend_company                           0\n",
              "average_montly_hours                         0\n",
              "Emp_Position                                 0\n",
              "Sensor_StepCount                             0\n",
              "Emp_Collaborative_5                          0\n",
              "Emp_Collaborative_4                          0\n",
              "Emp_Collaborative_3                          0\n",
              "Emp_Collaborative_2                          0\n",
              "Emp_Collaborative_1                          0\n",
              "Emp_Competitive_5                            0\n",
              "Emp_Competitive_4                            0\n",
              "Emp_Competitive_3                            0\n",
              "Emp_Competitive_2                            0\n",
              "Emp_Competitive_1                            0\n",
              "Emp_Title                                    0\n",
              "Emp_Role                                     0\n",
              "Sensor_Heartbeat(Average/Min)                0\n",
              "Emp_Identity                                 0\n",
              "Emp_Work_Status_5                            0\n",
              "Emp_Work_Status_4                            0\n",
              "Emp_Work_Status_3                            0\n",
              "Emp_Work_Status2                             0\n",
              "LinkedIn_Hits                                0\n",
              "Gender                                       0\n",
              "salary                                       0\n",
              "sales                                        0\n",
              "promotion_last_5years                        0\n",
              "left_Company                                 0\n",
              "Work_accident                                0\n",
              "ID                                           0\n",
              "dtype: int64"
            ]
          },
          "metadata": {
            "tags": []
          },
          "execution_count": 7
        }
      ]
    },
    {
      "cell_type": "markdown",
      "metadata": {
        "id": "yS1Uxhjw0JwR",
        "colab_type": "text"
      },
      "source": [
        "> Agora obversando a porcentagem de valores NaN de cada colunas, podemos notar mais uma vez que existem colunas, como a *Rising_Star* e a *Critical*, com mais de 90% de valores nulos.\n",
        ">\n",
        "> Será que uma coluna com mais de 99% das entradas sendo nulas, como é o caso da coluna *Rising_Star*, traria boas informações para a nossa análise e modelo?\n",
        ">\n",
        "> Iremos tomar decisões do que fazer com essas colunas mais a frente..."
      ]
    },
    {
      "cell_type": "code",
      "metadata": {
        "id": "NIucLN3xvm69",
        "colab_type": "code",
        "colab": {
          "base_uri": "https://localhost:8080/",
          "height": 1000
        },
        "outputId": "c2d91f6e-687c-457a-a261-01addb350576"
      },
      "source": [
        "#porcentagem de valores ausentes de cada coluna\n",
        "(df.isna().sum()/df.shape[0]).sort_values(ascending=False) *100"
      ],
      "execution_count": null,
      "outputs": [
        {
          "output_type": "execute_result",
          "data": {
            "text/plain": [
              "Rising_Star                              99.859991\n",
              "Critical                                 96.799787\n",
              "CSR Factor                               88.579239\n",
              "Men_Leave                                67.564504\n",
              "Women_Leave                              49.356624\n",
              "EMP_Sat_OnPrem_2                          0.853390\n",
              "EMP_Sat_OnPrem_4                          0.853390\n",
              "EMP_Sat_OnPrem_3                          0.853390\n",
              "EMP_Sat_OnPrem_1                          0.853390\n",
              "EMP_Sat_OnPrem_5                          0.853390\n",
              "Name                                      0.013334\n",
              "EMP_Sat_Remote_2                          0.000000\n",
              "EMP_Sat_Remote_5                          0.000000\n",
              "EMP_Sat_Remote_4                          0.000000\n",
              "EMP_Engagement_2                          0.000000\n",
              "EMP_Engagement_3                          0.000000\n",
              "EMP_Engagement_4                          0.000000\n",
              "EMP_Sat_Remote_3                          0.000000\n",
              "EMP_Engagement_5                          0.000000\n",
              "EMP_Engagement_1                          0.000000\n",
              "Sensor_Proximity(1-highest/10-lowest)     0.000000\n",
              "EMP_Sat_Remote_1                          0.000000\n",
              "number_project                            0.000000\n",
              "Percent_Remote                            0.000000\n",
              "Validated_Talent_Level                    0.000000\n",
              "Talent_Level                              0.000000\n",
              "Trending Perf                             0.000000\n",
              "Will_Relocate                             0.000000\n",
              "Role                                      0.000000\n",
              "GEO                                       0.000000\n",
              "Department                                0.000000\n",
              "last_evaluation                           0.000000\n",
              "time_spend_company                        0.000000\n",
              "average_montly_hours                      0.000000\n",
              "Emp_Position                              0.000000\n",
              "Sensor_StepCount                          0.000000\n",
              "Emp_Collaborative_5                       0.000000\n",
              "Emp_Collaborative_4                       0.000000\n",
              "Emp_Collaborative_3                       0.000000\n",
              "Emp_Collaborative_2                       0.000000\n",
              "Emp_Collaborative_1                       0.000000\n",
              "Emp_Competitive_5                         0.000000\n",
              "Emp_Competitive_4                         0.000000\n",
              "Emp_Competitive_3                         0.000000\n",
              "Emp_Competitive_2                         0.000000\n",
              "Emp_Competitive_1                         0.000000\n",
              "Emp_Title                                 0.000000\n",
              "Emp_Role                                  0.000000\n",
              "Sensor_Heartbeat(Average/Min)             0.000000\n",
              "Emp_Identity                              0.000000\n",
              "Emp_Work_Status_5                         0.000000\n",
              "Emp_Work_Status_4                         0.000000\n",
              "Emp_Work_Status_3                         0.000000\n",
              "Emp_Work_Status2                          0.000000\n",
              "LinkedIn_Hits                             0.000000\n",
              "Gender                                    0.000000\n",
              "salary                                    0.000000\n",
              "sales                                     0.000000\n",
              "promotion_last_5years                     0.000000\n",
              "left_Company                              0.000000\n",
              "Work_accident                             0.000000\n",
              "ID                                        0.000000\n",
              "dtype: float64"
            ]
          },
          "metadata": {
            "tags": []
          },
          "execution_count": 8
        }
      ]
    },
    {
      "cell_type": "markdown",
      "metadata": {
        "id": "uT41z6FN26A9",
        "colab_type": "text"
      },
      "source": [
        ">O método **```.describe()```** gera estatísticas descritivas.\n",
        ">As estatísticas descritivas incluem aquelas que resumem a tendência central, \n",
        ">a dispersão e a forma da distribuição de um conjunto de dados, excluindo os \n",
        ">valores NaN.\n",
        ">\n",
        "> Esse método traz muitas informaçãoes relevantes para a análise exploratória. Como, média das colunas, o valor mínimo e máximo, seus quartis e também o valor do desvio padrão. Muitas vezes por aqui conseguimos visualizar possíveis outliers.\n"
      ]
    },
    {
      "cell_type": "code",
      "metadata": {
        "id": "t3n8YwF-zMCw",
        "colab_type": "code",
        "colab": {
          "base_uri": "https://localhost:8080/",
          "height": 326
        },
        "outputId": "b1e83b63-3446-4e03-c172-ba0b68168026"
      },
      "source": [
        "df.describe()"
      ],
      "execution_count": null,
      "outputs": [
        {
          "output_type": "execute_result",
          "data": {
            "text/html": [
              "<div>\n",
              "<style scoped>\n",
              "    .dataframe tbody tr th:only-of-type {\n",
              "        vertical-align: middle;\n",
              "    }\n",
              "\n",
              "    .dataframe tbody tr th {\n",
              "        vertical-align: top;\n",
              "    }\n",
              "\n",
              "    .dataframe thead th {\n",
              "        text-align: right;\n",
              "    }\n",
              "</style>\n",
              "<table border=\"1\" class=\"dataframe\">\n",
              "  <thead>\n",
              "    <tr style=\"text-align: right;\">\n",
              "      <th></th>\n",
              "      <th>ID</th>\n",
              "      <th>Rising_Star</th>\n",
              "      <th>Will_Relocate</th>\n",
              "      <th>Critical</th>\n",
              "      <th>Trending Perf</th>\n",
              "      <th>Talent_Level</th>\n",
              "      <th>Validated_Talent_Level</th>\n",
              "      <th>Percent_Remote</th>\n",
              "      <th>EMP_Sat_OnPrem_1</th>\n",
              "      <th>EMP_Sat_OnPrem_2</th>\n",
              "      <th>EMP_Sat_OnPrem_3</th>\n",
              "      <th>EMP_Sat_OnPrem_4</th>\n",
              "      <th>EMP_Sat_OnPrem_5</th>\n",
              "      <th>EMP_Sat_Remote_1</th>\n",
              "      <th>EMP_Sat_Remote_2</th>\n",
              "      <th>EMP_Sat_Remote_3</th>\n",
              "      <th>EMP_Sat_Remote_4</th>\n",
              "      <th>EMP_Sat_Remote_5</th>\n",
              "      <th>EMP_Engagement_1</th>\n",
              "      <th>EMP_Engagement_2</th>\n",
              "      <th>EMP_Engagement_3</th>\n",
              "      <th>EMP_Engagement_4</th>\n",
              "      <th>EMP_Engagement_5</th>\n",
              "      <th>last_evaluation</th>\n",
              "      <th>number_project</th>\n",
              "      <th>average_montly_hours</th>\n",
              "      <th>time_spend_company</th>\n",
              "      <th>Work_accident</th>\n",
              "      <th>left_Company</th>\n",
              "      <th>CSR Factor</th>\n",
              "      <th>promotion_last_5years</th>\n",
              "      <th>LinkedIn_Hits</th>\n",
              "      <th>Emp_Work_Status2</th>\n",
              "      <th>Emp_Work_Status_3</th>\n",
              "      <th>Emp_Work_Status_4</th>\n",
              "      <th>Emp_Work_Status_5</th>\n",
              "      <th>Emp_Identity</th>\n",
              "      <th>Emp_Role</th>\n",
              "      <th>Emp_Position</th>\n",
              "      <th>Emp_Title</th>\n",
              "      <th>Women_Leave</th>\n",
              "      <th>Men_Leave</th>\n",
              "      <th>Emp_Competitive_1</th>\n",
              "      <th>Emp_Competitive_2</th>\n",
              "      <th>Emp_Competitive_3</th>\n",
              "      <th>Emp_Competitive_4</th>\n",
              "      <th>Emp_Competitive_5</th>\n",
              "      <th>Emp_Collaborative_1</th>\n",
              "      <th>Emp_Collaborative_2</th>\n",
              "      <th>Emp_Collaborative_3</th>\n",
              "      <th>Emp_Collaborative_4</th>\n",
              "      <th>Emp_Collaborative_5</th>\n",
              "      <th>Sensor_StepCount</th>\n",
              "      <th>Sensor_Heartbeat(Average/Min)</th>\n",
              "      <th>Sensor_Proximity(1-highest/10-lowest)</th>\n",
              "    </tr>\n",
              "  </thead>\n",
              "  <tbody>\n",
              "    <tr>\n",
              "      <th>count</th>\n",
              "      <td>14999.000000</td>\n",
              "      <td>21.0</td>\n",
              "      <td>14999.000000</td>\n",
              "      <td>480.0</td>\n",
              "      <td>14999.0</td>\n",
              "      <td>14999.0</td>\n",
              "      <td>14999.0</td>\n",
              "      <td>14999.000000</td>\n",
              "      <td>14871.0</td>\n",
              "      <td>14871.000000</td>\n",
              "      <td>14871.000000</td>\n",
              "      <td>14871.000000</td>\n",
              "      <td>14871.000000</td>\n",
              "      <td>14999.000000</td>\n",
              "      <td>14999.000000</td>\n",
              "      <td>14999.000000</td>\n",
              "      <td>14999.000000</td>\n",
              "      <td>14999.000000</td>\n",
              "      <td>14999.000000</td>\n",
              "      <td>14999.000000</td>\n",
              "      <td>14999.000000</td>\n",
              "      <td>14999.000000</td>\n",
              "      <td>14999.000000</td>\n",
              "      <td>14999.000000</td>\n",
              "      <td>14999.000000</td>\n",
              "      <td>14999.000000</td>\n",
              "      <td>14999.000000</td>\n",
              "      <td>14999.000000</td>\n",
              "      <td>14999.000000</td>\n",
              "      <td>1713.0</td>\n",
              "      <td>14999.000000</td>\n",
              "      <td>14999.000000</td>\n",
              "      <td>14999.000000</td>\n",
              "      <td>14999.000000</td>\n",
              "      <td>14999.000000</td>\n",
              "      <td>14999.000000</td>\n",
              "      <td>14999.000000</td>\n",
              "      <td>14999.000000</td>\n",
              "      <td>14999.000000</td>\n",
              "      <td>14999.000000</td>\n",
              "      <td>7596.000000</td>\n",
              "      <td>4865.000000</td>\n",
              "      <td>14999.000000</td>\n",
              "      <td>14999.000000</td>\n",
              "      <td>14999.000000</td>\n",
              "      <td>14999.000000</td>\n",
              "      <td>14999.000000</td>\n",
              "      <td>14999.000000</td>\n",
              "      <td>14999.000000</td>\n",
              "      <td>14999.000000</td>\n",
              "      <td>14999.000000</td>\n",
              "      <td>14999.000000</td>\n",
              "      <td>14999.000000</td>\n",
              "      <td>14999.000000</td>\n",
              "      <td>14999.000000</td>\n",
              "    </tr>\n",
              "    <tr>\n",
              "      <th>mean</th>\n",
              "      <td>7500.000000</td>\n",
              "      <td>1.0</td>\n",
              "      <td>0.499833</td>\n",
              "      <td>1.0</td>\n",
              "      <td>3.0</td>\n",
              "      <td>6.0</td>\n",
              "      <td>6.0</td>\n",
              "      <td>0.617321</td>\n",
              "      <td>3.0</td>\n",
              "      <td>2.731962</td>\n",
              "      <td>3.731962</td>\n",
              "      <td>2.731962</td>\n",
              "      <td>3.943649</td>\n",
              "      <td>2.839723</td>\n",
              "      <td>4.367691</td>\n",
              "      <td>3.367691</td>\n",
              "      <td>3.761784</td>\n",
              "      <td>3.973598</td>\n",
              "      <td>4.047670</td>\n",
              "      <td>4.285752</td>\n",
              "      <td>3.761917</td>\n",
              "      <td>3.523835</td>\n",
              "      <td>2.523835</td>\n",
              "      <td>0.716102</td>\n",
              "      <td>3.803054</td>\n",
              "      <td>201.050337</td>\n",
              "      <td>3.498233</td>\n",
              "      <td>0.144610</td>\n",
              "      <td>0.238083</td>\n",
              "      <td>5.0</td>\n",
              "      <td>0.021268</td>\n",
              "      <td>18.553904</td>\n",
              "      <td>3.001867</td>\n",
              "      <td>3.014468</td>\n",
              "      <td>3.005800</td>\n",
              "      <td>3.002867</td>\n",
              "      <td>2.141343</td>\n",
              "      <td>2.116274</td>\n",
              "      <td>1.998400</td>\n",
              "      <td>1.990066</td>\n",
              "      <td>0.707741</td>\n",
              "      <td>0.908530</td>\n",
              "      <td>2.156010</td>\n",
              "      <td>2.987199</td>\n",
              "      <td>2.144010</td>\n",
              "      <td>2.999067</td>\n",
              "      <td>2.987066</td>\n",
              "      <td>2.979532</td>\n",
              "      <td>1.676245</td>\n",
              "      <td>2.998533</td>\n",
              "      <td>3.005200</td>\n",
              "      <td>3.016934</td>\n",
              "      <td>3406.693246</td>\n",
              "      <td>77.967198</td>\n",
              "      <td>6.399360</td>\n",
              "    </tr>\n",
              "    <tr>\n",
              "      <th>std</th>\n",
              "      <td>4329.982679</td>\n",
              "      <td>0.0</td>\n",
              "      <td>0.500017</td>\n",
              "      <td>0.0</td>\n",
              "      <td>0.0</td>\n",
              "      <td>0.0</td>\n",
              "      <td>0.0</td>\n",
              "      <td>0.193841</td>\n",
              "      <td>0.0</td>\n",
              "      <td>0.681369</td>\n",
              "      <td>0.681369</td>\n",
              "      <td>0.681369</td>\n",
              "      <td>1.244511</td>\n",
              "      <td>0.776054</td>\n",
              "      <td>0.929979</td>\n",
              "      <td>0.929979</td>\n",
              "      <td>0.580834</td>\n",
              "      <td>1.367462</td>\n",
              "      <td>1.703696</td>\n",
              "      <td>1.277772</td>\n",
              "      <td>0.425924</td>\n",
              "      <td>0.851848</td>\n",
              "      <td>0.851848</td>\n",
              "      <td>0.171169</td>\n",
              "      <td>1.232592</td>\n",
              "      <td>49.943099</td>\n",
              "      <td>1.460136</td>\n",
              "      <td>0.351719</td>\n",
              "      <td>0.425924</td>\n",
              "      <td>0.0</td>\n",
              "      <td>0.144281</td>\n",
              "      <td>18.987335</td>\n",
              "      <td>1.413788</td>\n",
              "      <td>1.417319</td>\n",
              "      <td>1.418791</td>\n",
              "      <td>1.413008</td>\n",
              "      <td>1.023277</td>\n",
              "      <td>1.010454</td>\n",
              "      <td>0.865389</td>\n",
              "      <td>0.856232</td>\n",
              "      <td>0.454831</td>\n",
              "      <td>0.288306</td>\n",
              "      <td>1.032378</td>\n",
              "      <td>1.416793</td>\n",
              "      <td>1.030439</td>\n",
              "      <td>1.406128</td>\n",
              "      <td>1.412314</td>\n",
              "      <td>1.412579</td>\n",
              "      <td>0.865230</td>\n",
              "      <td>1.410058</td>\n",
              "      <td>1.410191</td>\n",
              "      <td>1.412225</td>\n",
              "      <td>1755.742272</td>\n",
              "      <td>7.252848</td>\n",
              "      <td>2.588091</td>\n",
              "    </tr>\n",
              "    <tr>\n",
              "      <th>min</th>\n",
              "      <td>1.000000</td>\n",
              "      <td>1.0</td>\n",
              "      <td>0.000000</td>\n",
              "      <td>1.0</td>\n",
              "      <td>3.0</td>\n",
              "      <td>6.0</td>\n",
              "      <td>6.0</td>\n",
              "      <td>0.400000</td>\n",
              "      <td>3.0</td>\n",
              "      <td>1.000000</td>\n",
              "      <td>2.000000</td>\n",
              "      <td>1.000000</td>\n",
              "      <td>1.000000</td>\n",
              "      <td>2.000000</td>\n",
              "      <td>3.000000</td>\n",
              "      <td>2.000000</td>\n",
              "      <td>3.000000</td>\n",
              "      <td>2.000000</td>\n",
              "      <td>1.000000</td>\n",
              "      <td>2.000000</td>\n",
              "      <td>3.000000</td>\n",
              "      <td>2.000000</td>\n",
              "      <td>1.000000</td>\n",
              "      <td>0.360000</td>\n",
              "      <td>2.000000</td>\n",
              "      <td>96.000000</td>\n",
              "      <td>2.000000</td>\n",
              "      <td>0.000000</td>\n",
              "      <td>0.000000</td>\n",
              "      <td>5.0</td>\n",
              "      <td>0.000000</td>\n",
              "      <td>1.000000</td>\n",
              "      <td>1.000000</td>\n",
              "      <td>1.000000</td>\n",
              "      <td>1.000000</td>\n",
              "      <td>1.000000</td>\n",
              "      <td>1.000000</td>\n",
              "      <td>1.000000</td>\n",
              "      <td>1.000000</td>\n",
              "      <td>1.000000</td>\n",
              "      <td>0.000000</td>\n",
              "      <td>0.000000</td>\n",
              "      <td>1.000000</td>\n",
              "      <td>1.000000</td>\n",
              "      <td>1.000000</td>\n",
              "      <td>1.000000</td>\n",
              "      <td>1.000000</td>\n",
              "      <td>1.000000</td>\n",
              "      <td>1.000000</td>\n",
              "      <td>1.000000</td>\n",
              "      <td>1.000000</td>\n",
              "      <td>1.000000</td>\n",
              "      <td>1000.000000</td>\n",
              "      <td>60.000000</td>\n",
              "      <td>1.000000</td>\n",
              "    </tr>\n",
              "    <tr>\n",
              "      <th>25%</th>\n",
              "      <td>3750.500000</td>\n",
              "      <td>1.0</td>\n",
              "      <td>0.000000</td>\n",
              "      <td>1.0</td>\n",
              "      <td>3.0</td>\n",
              "      <td>6.0</td>\n",
              "      <td>6.0</td>\n",
              "      <td>0.400000</td>\n",
              "      <td>3.0</td>\n",
              "      <td>3.000000</td>\n",
              "      <td>4.000000</td>\n",
              "      <td>3.000000</td>\n",
              "      <td>4.000000</td>\n",
              "      <td>2.000000</td>\n",
              "      <td>3.000000</td>\n",
              "      <td>2.000000</td>\n",
              "      <td>3.000000</td>\n",
              "      <td>2.000000</td>\n",
              "      <td>5.000000</td>\n",
              "      <td>5.000000</td>\n",
              "      <td>4.000000</td>\n",
              "      <td>4.000000</td>\n",
              "      <td>3.000000</td>\n",
              "      <td>0.560000</td>\n",
              "      <td>3.000000</td>\n",
              "      <td>156.000000</td>\n",
              "      <td>3.000000</td>\n",
              "      <td>0.000000</td>\n",
              "      <td>0.000000</td>\n",
              "      <td>5.0</td>\n",
              "      <td>0.000000</td>\n",
              "      <td>5.000000</td>\n",
              "      <td>2.000000</td>\n",
              "      <td>2.000000</td>\n",
              "      <td>2.000000</td>\n",
              "      <td>2.000000</td>\n",
              "      <td>1.000000</td>\n",
              "      <td>1.000000</td>\n",
              "      <td>1.000000</td>\n",
              "      <td>1.000000</td>\n",
              "      <td>0.000000</td>\n",
              "      <td>1.000000</td>\n",
              "      <td>1.000000</td>\n",
              "      <td>2.000000</td>\n",
              "      <td>1.000000</td>\n",
              "      <td>2.000000</td>\n",
              "      <td>2.000000</td>\n",
              "      <td>2.000000</td>\n",
              "      <td>1.000000</td>\n",
              "      <td>2.000000</td>\n",
              "      <td>2.000000</td>\n",
              "      <td>2.000000</td>\n",
              "      <td>1704.500000</td>\n",
              "      <td>75.000000</td>\n",
              "      <td>5.000000</td>\n",
              "    </tr>\n",
              "    <tr>\n",
              "      <th>50%</th>\n",
              "      <td>7500.000000</td>\n",
              "      <td>1.0</td>\n",
              "      <td>0.000000</td>\n",
              "      <td>1.0</td>\n",
              "      <td>3.0</td>\n",
              "      <td>6.0</td>\n",
              "      <td>6.0</td>\n",
              "      <td>0.800000</td>\n",
              "      <td>3.0</td>\n",
              "      <td>3.000000</td>\n",
              "      <td>4.000000</td>\n",
              "      <td>3.000000</td>\n",
              "      <td>4.000000</td>\n",
              "      <td>3.000000</td>\n",
              "      <td>5.000000</td>\n",
              "      <td>4.000000</td>\n",
              "      <td>4.000000</td>\n",
              "      <td>5.000000</td>\n",
              "      <td>5.000000</td>\n",
              "      <td>5.000000</td>\n",
              "      <td>4.000000</td>\n",
              "      <td>4.000000</td>\n",
              "      <td>3.000000</td>\n",
              "      <td>0.720000</td>\n",
              "      <td>4.000000</td>\n",
              "      <td>200.000000</td>\n",
              "      <td>3.000000</td>\n",
              "      <td>0.000000</td>\n",
              "      <td>0.000000</td>\n",
              "      <td>5.0</td>\n",
              "      <td>0.000000</td>\n",
              "      <td>9.000000</td>\n",
              "      <td>3.000000</td>\n",
              "      <td>3.000000</td>\n",
              "      <td>3.000000</td>\n",
              "      <td>3.000000</td>\n",
              "      <td>2.000000</td>\n",
              "      <td>2.000000</td>\n",
              "      <td>2.000000</td>\n",
              "      <td>2.000000</td>\n",
              "      <td>1.000000</td>\n",
              "      <td>1.000000</td>\n",
              "      <td>2.000000</td>\n",
              "      <td>3.000000</td>\n",
              "      <td>2.000000</td>\n",
              "      <td>3.000000</td>\n",
              "      <td>3.000000</td>\n",
              "      <td>3.000000</td>\n",
              "      <td>2.000000</td>\n",
              "      <td>3.000000</td>\n",
              "      <td>3.000000</td>\n",
              "      <td>3.000000</td>\n",
              "      <td>3376.000000</td>\n",
              "      <td>78.000000</td>\n",
              "      <td>7.000000</td>\n",
              "    </tr>\n",
              "    <tr>\n",
              "      <th>75%</th>\n",
              "      <td>11249.500000</td>\n",
              "      <td>1.0</td>\n",
              "      <td>1.000000</td>\n",
              "      <td>1.0</td>\n",
              "      <td>3.0</td>\n",
              "      <td>6.0</td>\n",
              "      <td>6.0</td>\n",
              "      <td>0.800000</td>\n",
              "      <td>3.0</td>\n",
              "      <td>3.000000</td>\n",
              "      <td>4.000000</td>\n",
              "      <td>3.000000</td>\n",
              "      <td>5.000000</td>\n",
              "      <td>3.000000</td>\n",
              "      <td>5.000000</td>\n",
              "      <td>4.000000</td>\n",
              "      <td>4.000000</td>\n",
              "      <td>5.000000</td>\n",
              "      <td>5.000000</td>\n",
              "      <td>5.000000</td>\n",
              "      <td>4.000000</td>\n",
              "      <td>4.000000</td>\n",
              "      <td>3.000000</td>\n",
              "      <td>0.870000</td>\n",
              "      <td>5.000000</td>\n",
              "      <td>245.000000</td>\n",
              "      <td>4.000000</td>\n",
              "      <td>0.000000</td>\n",
              "      <td>0.000000</td>\n",
              "      <td>5.0</td>\n",
              "      <td>0.000000</td>\n",
              "      <td>31.000000</td>\n",
              "      <td>4.000000</td>\n",
              "      <td>4.000000</td>\n",
              "      <td>4.000000</td>\n",
              "      <td>4.000000</td>\n",
              "      <td>3.000000</td>\n",
              "      <td>3.000000</td>\n",
              "      <td>2.000000</td>\n",
              "      <td>2.000000</td>\n",
              "      <td>1.000000</td>\n",
              "      <td>1.000000</td>\n",
              "      <td>3.000000</td>\n",
              "      <td>4.000000</td>\n",
              "      <td>3.000000</td>\n",
              "      <td>4.000000</td>\n",
              "      <td>4.000000</td>\n",
              "      <td>4.000000</td>\n",
              "      <td>2.000000</td>\n",
              "      <td>4.000000</td>\n",
              "      <td>4.000000</td>\n",
              "      <td>4.000000</td>\n",
              "      <td>4893.000000</td>\n",
              "      <td>85.000000</td>\n",
              "      <td>8.000000</td>\n",
              "    </tr>\n",
              "    <tr>\n",
              "      <th>max</th>\n",
              "      <td>14999.000000</td>\n",
              "      <td>1.0</td>\n",
              "      <td>1.000000</td>\n",
              "      <td>1.0</td>\n",
              "      <td>3.0</td>\n",
              "      <td>6.0</td>\n",
              "      <td>6.0</td>\n",
              "      <td>1.000000</td>\n",
              "      <td>3.0</td>\n",
              "      <td>3.000000</td>\n",
              "      <td>4.000000</td>\n",
              "      <td>3.000000</td>\n",
              "      <td>5.000000</td>\n",
              "      <td>5.000000</td>\n",
              "      <td>5.000000</td>\n",
              "      <td>4.000000</td>\n",
              "      <td>5.000000</td>\n",
              "      <td>5.000000</td>\n",
              "      <td>5.000000</td>\n",
              "      <td>5.000000</td>\n",
              "      <td>4.000000</td>\n",
              "      <td>4.000000</td>\n",
              "      <td>3.000000</td>\n",
              "      <td>1.000000</td>\n",
              "      <td>7.000000</td>\n",
              "      <td>310.000000</td>\n",
              "      <td>10.000000</td>\n",
              "      <td>1.000000</td>\n",
              "      <td>1.000000</td>\n",
              "      <td>5.0</td>\n",
              "      <td>1.000000</td>\n",
              "      <td>65.000000</td>\n",
              "      <td>5.000000</td>\n",
              "      <td>5.000000</td>\n",
              "      <td>5.000000</td>\n",
              "      <td>5.000000</td>\n",
              "      <td>5.000000</td>\n",
              "      <td>5.000000</td>\n",
              "      <td>5.000000</td>\n",
              "      <td>5.000000</td>\n",
              "      <td>1.000000</td>\n",
              "      <td>1.000000</td>\n",
              "      <td>5.000000</td>\n",
              "      <td>5.000000</td>\n",
              "      <td>5.000000</td>\n",
              "      <td>5.000000</td>\n",
              "      <td>5.000000</td>\n",
              "      <td>5.000000</td>\n",
              "      <td>5.000000</td>\n",
              "      <td>5.000000</td>\n",
              "      <td>5.000000</td>\n",
              "      <td>5.000000</td>\n",
              "      <td>8500.000000</td>\n",
              "      <td>90.000000</td>\n",
              "      <td>10.000000</td>\n",
              "    </tr>\n",
              "  </tbody>\n",
              "</table>\n",
              "</div>"
            ],
            "text/plain": [
              "                 ID  ...  Sensor_Proximity(1-highest/10-lowest)\n",
              "count  14999.000000  ...                           14999.000000\n",
              "mean    7500.000000  ...                               6.399360\n",
              "std     4329.982679  ...                               2.588091\n",
              "min        1.000000  ...                               1.000000\n",
              "25%     3750.500000  ...                               5.000000\n",
              "50%     7500.000000  ...                               7.000000\n",
              "75%    11249.500000  ...                               8.000000\n",
              "max    14999.000000  ...                              10.000000\n",
              "\n",
              "[8 rows x 55 columns]"
            ]
          },
          "metadata": {
            "tags": []
          },
          "execution_count": 9
        }
      ]
    },
    {
      "cell_type": "markdown",
      "metadata": {
        "id": "JrxfsW1y5Sqs",
        "colab_type": "text"
      },
      "source": [
        "## **Análises Gráficas**\n",
        "\n",
        "Os gráficos são grandes aliados no momento da análise, através deles conseguimos fazer um strorytelling e passar para o consumidor do conteúdo gerado, informações importantes e possíveis insights. \n",
        "\n",
        "Abaixo irei responder algumas perguntas que poderiam ser feitas."
      ]
    },
    {
      "cell_type": "markdown",
      "metadata": {
        "id": "KxBukJJlAFQz",
        "colab_type": "text"
      },
      "source": [
        "**Número de funcionários(as) por Gênero.**\n",
        "\n",
        "Como mostra o gráfico, temos um número muito próximo de funcionários e funcionárias. \n",
        "\n",
        "Sendo, **7.596** funcionários do gênero Feminino e **4.403** do gênero masculino."
      ]
    },
    {
      "cell_type": "code",
      "metadata": {
        "id": "UEhQWxy0AHY2",
        "colab_type": "code",
        "colab": {
          "base_uri": "https://localhost:8080/",
          "height": 406
        },
        "outputId": "4ba3ceb4-ca65-4a21-c36d-5050769e5dad"
      },
      "source": [
        "print(df['Gender'].value_counts())\n",
        "\n",
        "plt.figure(figsize=(10,5))\n",
        "ax = sns.countplot(x='Gender', data=df, palette='RdBu')\n",
        "ax.set_title('Gender', fontsize=17);"
      ],
      "execution_count": null,
      "outputs": [
        {
          "output_type": "stream",
          "text": [
            "F    7596\n",
            "M    7403\n",
            "Name: Gender, dtype: int64\n"
          ],
          "name": "stdout"
        },
        {
          "output_type": "display_data",
          "data": {
            "image/png": "[encoded data removed]",
            "text/plain": [
              "<Figure size 720x360 with 1 Axes>"
            ]
          },
          "metadata": {
            "tags": [],
            "needs_background": "light"
          }
        }
      ]
    },
    {
      "cell_type": "markdown",
      "metadata": {
        "id": "Wd3I8CtjiLhH",
        "colab_type": "text"
      },
      "source": [
        "**Número de funcionários ativos e inativos**\n",
        "\n",
        "Vamos visualizar a nossa variável alvo *'left_Company'*, o que ela consegue nos dizer?\n",
        "\n",
        "Podemos notar que temos **11.428 funcionários ativos** e **3.571 funcionários inativos**.\n",
        "\n",
        "Logo, temos uma variável alvo desbalanceada. Isso pode ser um problema, \n",
        "\n",
        "pois isso pode enviesar os nossos dados a conhecer e reconhecer melhor apenas uma classe, nesse caso, a classe 0. "
      ]
    },
    {
      "cell_type": "code",
      "metadata": {
        "id": "zXOKogXHiS61",
        "colab_type": "code",
        "colab": {
          "base_uri": "https://localhost:8080/",
          "height": 407
        },
        "outputId": "fb377bc1-d7f5-45db-b87b-6bc16d84d7de"
      },
      "source": [
        "print(df['left_Company'].value_counts())\n",
        "\n",
        "plt.figure(figsize=(10,5))\n",
        "ax = sns.countplot(x='left_Company', data=df, palette='RdBu')\n",
        "ax.set_title('Left Company', fontsize=17);"
      ],
      "execution_count": null,
      "outputs": [
        {
          "output_type": "stream",
          "text": [
            "0    11428\n",
            "1     3571\n",
            "Name: left_Company, dtype: int64\n"
          ],
          "name": "stdout"
        },
        {
          "output_type": "display_data",
          "data": {
            "image/png": "[encoded data removed]",
            "text/plain": [
              "<Figure size 720x360 with 1 Axes>"
            ]
          },
          "metadata": {
            "tags": [],
            "needs_background": "light"
          }
        }
      ]
    },
    {
      "cell_type": "markdown",
      "metadata": {
        "id": "kaky4z62n0_G",
        "colab_type": "text"
      },
      "source": [
        "Uma outra análise que podemos fazer é da proporção de funcionários Ativos x Inativos. \n",
        "\n",
        "Podemos notar que **76.19%** dos dados correspondem a funcionários ativos, \n",
        "\n",
        "seguido de **23.80%** de funcionários inativos. \n",
        "\n",
        "Lembrando que 0 representa os Ativos e 1 representa os Inativos."
      ]
    },
    {
      "cell_type": "code",
      "metadata": {
        "id": "RP0SKGm_lVmy",
        "colab_type": "code",
        "colab": {
          "base_uri": "https://localhost:8080/",
          "height": 386
        },
        "outputId": "5a102d25-c899-4ef1-f219-95c85c456816"
      },
      "source": [
        "prop_func = (df['left_Company'].value_counts() / df.shape[0])*100\n",
        "print(prop_func)\n",
        "\n",
        "plt.figure(figsize=(10,5))\n",
        "prop_func.plot(kind='bar')\n",
        "plt.title('Proporção funcionários Ativos x Inativos', fontsize=15);"
      ],
      "execution_count": null,
      "outputs": [
        {
          "output_type": "stream",
          "text": [
            "0    76.191746\n",
            "1    23.808254\n",
            "Name: left_Company, dtype: float64\n"
          ],
          "name": "stdout"
        },
        {
          "output_type": "display_data",
          "data": {
            "image/png": "[encoded data removed]",
            "text/plain": [
              "<Figure size 720x360 with 1 Axes>"
            ]
          },
          "metadata": {
            "tags": [],
            "needs_background": "light"
          }
        }
      ]
    },
    {
      "cell_type": "markdown",
      "metadata": {
        "id": "TIDeFqsF-1pf",
        "colab_type": "text"
      },
      "source": [
        "**Número de funcionários(as) por Departamento.**\n",
        "\n",
        "Cinco dos seis departamentos possuem **2500** funcionários(as), restando apenas *Warehouse* com **2.499**."
      ]
    },
    {
      "cell_type": "code",
      "metadata": {
        "id": "PJIJ4t4P3kbp",
        "colab_type": "code",
        "colab": {
          "base_uri": "https://localhost:8080/",
          "height": 475
        },
        "outputId": "f79c7180-80d9-4524-8e51-9699bbd6003d"
      },
      "source": [
        "print(df['Department'].value_counts())\n",
        "\n",
        "plt.figure(figsize=(10,5))\n",
        "ax = sns.countplot(x='Department', data=df, palette='RdBu')\n",
        "ax.set_title('Department', fontsize=17);"
      ],
      "execution_count": null,
      "outputs": [
        {
          "output_type": "stream",
          "text": [
            "IT                 2500\n",
            "Finance            2500\n",
            "Sales              2500\n",
            "Human Resources    2500\n",
            "Operations         2500\n",
            "Warehouse          2499\n",
            "Name: Department, dtype: int64\n"
          ],
          "name": "stdout"
        },
        {
          "output_type": "display_data",
          "data": {
            "image/png": "[encoded data removed]",
            "text/plain": [
              "<Figure size 720x360 with 1 Axes>"
            ]
          },
          "metadata": {
            "tags": [],
            "needs_background": "light"
          }
        }
      ]
    },
    {
      "cell_type": "markdown",
      "metadata": {
        "id": "aITt8yrJ-4Xa",
        "colab_type": "text"
      },
      "source": [
        "**Número de funcionários(as) por Localização.**\n",
        "\n",
        "O maior número de funcionários(as) são do UK, porém com uma diferença bem pequena em relação aos outros países."
      ]
    },
    {
      "cell_type": "code",
      "metadata": {
        "id": "boYYTh1Y5qfg",
        "colab_type": "code",
        "colab": {
          "base_uri": "https://localhost:8080/",
          "height": 527
        },
        "outputId": "f0ce7342-6390-433b-fd5c-e2d06e07716e"
      },
      "source": [
        "print(df['GEO'].value_counts())\n",
        "\n",
        "plt.figure(figsize=(10,5))\n",
        "ax = sns.countplot(x='GEO', data=df, order=df['GEO'].value_counts().index,\n",
        "                  palette='RdBu')\n",
        "ax.set_title('GEO', fontsize=17);"
      ],
      "execution_count": null,
      "outputs": [
        {
          "output_type": "stream",
          "text": [
            "UK           1772\n",
            "France       1699\n",
            "Korea        1685\n",
            "Japan        1669\n",
            "China        1667\n",
            "Colombia     1659\n",
            "Turkey       1639\n",
            "US           1632\n",
            "Australia    1577\n",
            "Name: GEO, dtype: int64\n"
          ],
          "name": "stdout"
        },
        {
          "output_type": "display_data",
          "data": {
            "image/png": "[encoded data removed]",
            "text/plain": [
              "<Figure size 720x360 with 1 Axes>"
            ]
          },
          "metadata": {
            "tags": [],
            "needs_background": "light"
          }
        }
      ]
    },
    {
      "cell_type": "markdown",
      "metadata": {
        "id": "ddd8cpxe_Rp_",
        "colab_type": "text"
      },
      "source": [
        "**Número de funcionários(as) por Posição/Título e Gênero**\n",
        "\n",
        "Neste gráfico, resolvi fazer uma análise de funcionários(as) por posição e por gênero utilizando o parâmetro *hue*.\n",
        "\n",
        "Podemos notar uma igualdade interessante no gráfico, temos um número bem próximos e mulheres e homens ocupando o mesmo título."
      ]
    },
    {
      "cell_type": "code",
      "metadata": {
        "id": "Ix7Hv_Ho8DUa",
        "colab_type": "code",
        "colab": {
          "base_uri": "https://localhost:8080/",
          "height": 492
        },
        "outputId": "b6e0c826-7a67-46a6-f476-8cf9c8578fe2"
      },
      "source": [
        "print(df['Role'].value_counts())\n",
        "\n",
        "plt.figure(figsize=(10,5))\n",
        "ax = sns.countplot(x='Role', data=df, hue='Gender', order=df['Role'].value_counts().index,\n",
        "                   palette='RdBu')\n",
        "ax.set_title('Role', fontsize=17);"
      ],
      "execution_count": null,
      "outputs": [
        {
          "output_type": "stream",
          "text": [
            "Level 2-4          6889\n",
            "Level 1            3270\n",
            "Manager            2420\n",
            "Senior Manager     1320\n",
            "Director            660\n",
            "Senior Director     330\n",
            "VP                  110\n",
            "Name: Role, dtype: int64\n"
          ],
          "name": "stdout"
        },
        {
          "output_type": "display_data",
          "data": {
            "image/png": "[encoded data removed]",
            "text/plain": [
              "<Figure size 720x360 with 1 Axes>"
            ]
          },
          "metadata": {
            "tags": [],
            "needs_background": "light"
          }
        }
      ]
    },
    {
      "cell_type": "markdown",
      "metadata": {
        "id": "5Ms79LtKCZWP",
        "colab_type": "text"
      },
      "source": [
        "**Número de funcionários(as) por Salário e por Gênero**\n",
        "\n",
        "Aqui notamos, mais uma vez, algo próximo de uma igualdade relacionado a remuneração de mulheres e homens."
      ]
    },
    {
      "cell_type": "code",
      "metadata": {
        "id": "Thp9vk9bCce1",
        "colab_type": "code",
        "colab": {
          "base_uri": "https://localhost:8080/",
          "height": 423
        },
        "outputId": "1dee7aa7-2062-4c94-8c08-5ca49fd240e5"
      },
      "source": [
        "print(df['salary'].value_counts())\n",
        "\n",
        "plt.figure(figsize=(10,5))\n",
        "ax = sns.countplot(x='salary', data=df, hue='Gender', palette='RdBu')\n",
        "ax.set_title('Salary', fontsize=17);"
      ],
      "execution_count": null,
      "outputs": [
        {
          "output_type": "stream",
          "text": [
            "low       7316\n",
            "medium    6446\n",
            "high      1237\n",
            "Name: salary, dtype: int64\n"
          ],
          "name": "stdout"
        },
        {
          "output_type": "display_data",
          "data": {
            "image/png": "[encoded data removed]",
            "text/plain": [
              "<Figure size 720x360 with 1 Axes>"
            ]
          },
          "metadata": {
            "tags": [],
            "needs_background": "light"
          }
        }
      ]
    },
    {
      "cell_type": "markdown",
      "metadata": {
        "id": "VcEJu1drCSmO",
        "colab_type": "text"
      },
      "source": [
        "**Número de funcionários(as) por Sales**"
      ]
    },
    {
      "cell_type": "code",
      "metadata": {
        "id": "R0nOL_dk_mQS",
        "colab_type": "code",
        "colab": {
          "base_uri": "https://localhost:8080/",
          "height": 653
        },
        "outputId": "5e50a329-8b30-4450-89a2-223ef1f157e8"
      },
      "source": [
        "print(df['sales'].value_counts())\n",
        "\n",
        "plt.figure(figsize=(12,7))\n",
        "ax = sns.countplot(x='sales', data=df, order=df['sales'].value_counts().index\n",
        "                   ,palette='RdBu')\n",
        "ax.set_title('Sales', fontsize=17);"
      ],
      "execution_count": null,
      "outputs": [
        {
          "output_type": "stream",
          "text": [
            "sales          4140\n",
            "technical      2720\n",
            "support        2229\n",
            "IT             1227\n",
            "product_mng     902\n",
            "marketing       858\n",
            "RandD           787\n",
            "accounting      767\n",
            "hr              739\n",
            "management      630\n",
            "Name: sales, dtype: int64\n"
          ],
          "name": "stdout"
        },
        {
          "output_type": "display_data",
          "data": {
            "image/png": "[encoded data removed]",
            "text/plain": [
              "<Figure size 864x504 with 1 Axes>"
            ]
          },
          "metadata": {
            "tags": [],
            "needs_background": "light"
          }
        }
      ]
    },
    {
      "cell_type": "markdown",
      "metadata": {
        "id": "3E9Ab1KHeGJ_",
        "colab_type": "text"
      },
      "source": [
        "**Como se distribui os funcionários Ativos e Inativos por GEO?**\n",
        "\n",
        "0: Ativos\n",
        "1: Inativos"
      ]
    },
    {
      "cell_type": "code",
      "metadata": {
        "id": "gtw0usUFeOx-",
        "colab_type": "code",
        "colab": {
          "base_uri": "https://localhost:8080/",
          "height": 619
        },
        "outputId": "07f23d71-3cff-4773-c06a-4f174846100f"
      },
      "source": [
        "df.groupby(['GEO', 'left_Company']).agg({'GEO': 'count'})"
      ],
      "execution_count": null,
      "outputs": [
        {
          "output_type": "execute_result",
          "data": {
            "text/html": [
              "<div>\n",
              "<style scoped>\n",
              "    .dataframe tbody tr th:only-of-type {\n",
              "        vertical-align: middle;\n",
              "    }\n",
              "\n",
              "    .dataframe tbody tr th {\n",
              "        vertical-align: top;\n",
              "    }\n",
              "\n",
              "    .dataframe thead th {\n",
              "        text-align: right;\n",
              "    }\n",
              "</style>\n",
              "<table border=\"1\" class=\"dataframe\">\n",
              "  <thead>\n",
              "    <tr style=\"text-align: right;\">\n",
              "      <th></th>\n",
              "      <th></th>\n",
              "      <th>GEO</th>\n",
              "    </tr>\n",
              "    <tr>\n",
              "      <th>GEO</th>\n",
              "      <th>left_Company</th>\n",
              "      <th></th>\n",
              "    </tr>\n",
              "  </thead>\n",
              "  <tbody>\n",
              "    <tr>\n",
              "      <th rowspan=\"2\" valign=\"top\">Australia</th>\n",
              "      <th>0</th>\n",
              "      <td>1228</td>\n",
              "    </tr>\n",
              "    <tr>\n",
              "      <th>1</th>\n",
              "      <td>349</td>\n",
              "    </tr>\n",
              "    <tr>\n",
              "      <th rowspan=\"2\" valign=\"top\">China</th>\n",
              "      <th>0</th>\n",
              "      <td>1264</td>\n",
              "    </tr>\n",
              "    <tr>\n",
              "      <th>1</th>\n",
              "      <td>403</td>\n",
              "    </tr>\n",
              "    <tr>\n",
              "      <th rowspan=\"2\" valign=\"top\">Colombia</th>\n",
              "      <th>0</th>\n",
              "      <td>1251</td>\n",
              "    </tr>\n",
              "    <tr>\n",
              "      <th>1</th>\n",
              "      <td>408</td>\n",
              "    </tr>\n",
              "    <tr>\n",
              "      <th rowspan=\"2\" valign=\"top\">France</th>\n",
              "      <th>0</th>\n",
              "      <td>1296</td>\n",
              "    </tr>\n",
              "    <tr>\n",
              "      <th>1</th>\n",
              "      <td>403</td>\n",
              "    </tr>\n",
              "    <tr>\n",
              "      <th rowspan=\"2\" valign=\"top\">Japan</th>\n",
              "      <th>0</th>\n",
              "      <td>1269</td>\n",
              "    </tr>\n",
              "    <tr>\n",
              "      <th>1</th>\n",
              "      <td>400</td>\n",
              "    </tr>\n",
              "    <tr>\n",
              "      <th rowspan=\"2\" valign=\"top\">Korea</th>\n",
              "      <th>0</th>\n",
              "      <td>1300</td>\n",
              "    </tr>\n",
              "    <tr>\n",
              "      <th>1</th>\n",
              "      <td>385</td>\n",
              "    </tr>\n",
              "    <tr>\n",
              "      <th rowspan=\"2\" valign=\"top\">Turkey</th>\n",
              "      <th>0</th>\n",
              "      <td>1244</td>\n",
              "    </tr>\n",
              "    <tr>\n",
              "      <th>1</th>\n",
              "      <td>395</td>\n",
              "    </tr>\n",
              "    <tr>\n",
              "      <th rowspan=\"2\" valign=\"top\">UK</th>\n",
              "      <th>0</th>\n",
              "      <td>1337</td>\n",
              "    </tr>\n",
              "    <tr>\n",
              "      <th>1</th>\n",
              "      <td>435</td>\n",
              "    </tr>\n",
              "    <tr>\n",
              "      <th rowspan=\"2\" valign=\"top\">US</th>\n",
              "      <th>0</th>\n",
              "      <td>1239</td>\n",
              "    </tr>\n",
              "    <tr>\n",
              "      <th>1</th>\n",
              "      <td>393</td>\n",
              "    </tr>\n",
              "  </tbody>\n",
              "</table>\n",
              "</div>"
            ],
            "text/plain": [
              "                         GEO\n",
              "GEO       left_Company      \n",
              "Australia 0             1228\n",
              "          1              349\n",
              "China     0             1264\n",
              "          1              403\n",
              "Colombia  0             1251\n",
              "          1              408\n",
              "France    0             1296\n",
              "          1              403\n",
              "Japan     0             1269\n",
              "          1              400\n",
              "Korea     0             1300\n",
              "          1              385\n",
              "Turkey    0             1244\n",
              "          1              395\n",
              "UK        0             1337\n",
              "          1              435\n",
              "US        0             1239\n",
              "          1              393"
            ]
          },
          "metadata": {
            "tags": []
          },
          "execution_count": 18
        }
      ]
    },
    {
      "cell_type": "markdown",
      "metadata": {
        "id": "1eeXFHVKheuK",
        "colab_type": "text"
      },
      "source": [
        "**Como se distribui os funcionários ativos e inativos por departamento? Existe um departamento específico que tenha uma taxa maior ou menor de ativos ou inativos?**\n",
        "\n",
        "Concluimos que o departamento com maior número de Ativos é o de **Warehouse** e o com o menor número de Inativos temos **Finance** e **IT**."
      ]
    },
    {
      "cell_type": "code",
      "metadata": {
        "id": "PiDcYJZJgRof",
        "colab_type": "code",
        "colab": {
          "base_uri": "https://localhost:8080/",
          "height": 439
        },
        "outputId": "e5f8bee2-0409-4053-e7c3-8ad2e761103e"
      },
      "source": [
        "df.groupby(['Department', 'left_Company']).agg({'Department': 'count'})"
      ],
      "execution_count": null,
      "outputs": [
        {
          "output_type": "execute_result",
          "data": {
            "text/html": [
              "<div>\n",
              "<style scoped>\n",
              "    .dataframe tbody tr th:only-of-type {\n",
              "        vertical-align: middle;\n",
              "    }\n",
              "\n",
              "    .dataframe tbody tr th {\n",
              "        vertical-align: top;\n",
              "    }\n",
              "\n",
              "    .dataframe thead th {\n",
              "        text-align: right;\n",
              "    }\n",
              "</style>\n",
              "<table border=\"1\" class=\"dataframe\">\n",
              "  <thead>\n",
              "    <tr style=\"text-align: right;\">\n",
              "      <th></th>\n",
              "      <th></th>\n",
              "      <th>Department</th>\n",
              "    </tr>\n",
              "    <tr>\n",
              "      <th>Department</th>\n",
              "      <th>left_Company</th>\n",
              "      <th></th>\n",
              "    </tr>\n",
              "  </thead>\n",
              "  <tbody>\n",
              "    <tr>\n",
              "      <th rowspan=\"2\" valign=\"top\">Finance</th>\n",
              "      <th>0</th>\n",
              "      <td>1906</td>\n",
              "    </tr>\n",
              "    <tr>\n",
              "      <th>1</th>\n",
              "      <td>594</td>\n",
              "    </tr>\n",
              "    <tr>\n",
              "      <th rowspan=\"2\" valign=\"top\">Human Resources</th>\n",
              "      <th>0</th>\n",
              "      <td>1904</td>\n",
              "    </tr>\n",
              "    <tr>\n",
              "      <th>1</th>\n",
              "      <td>596</td>\n",
              "    </tr>\n",
              "    <tr>\n",
              "      <th rowspan=\"2\" valign=\"top\">IT</th>\n",
              "      <th>0</th>\n",
              "      <td>1906</td>\n",
              "    </tr>\n",
              "    <tr>\n",
              "      <th>1</th>\n",
              "      <td>594</td>\n",
              "    </tr>\n",
              "    <tr>\n",
              "      <th rowspan=\"2\" valign=\"top\">Operations</th>\n",
              "      <th>0</th>\n",
              "      <td>1901</td>\n",
              "    </tr>\n",
              "    <tr>\n",
              "      <th>1</th>\n",
              "      <td>599</td>\n",
              "    </tr>\n",
              "    <tr>\n",
              "      <th rowspan=\"2\" valign=\"top\">Sales</th>\n",
              "      <th>0</th>\n",
              "      <td>1902</td>\n",
              "    </tr>\n",
              "    <tr>\n",
              "      <th>1</th>\n",
              "      <td>598</td>\n",
              "    </tr>\n",
              "    <tr>\n",
              "      <th rowspan=\"2\" valign=\"top\">Warehouse</th>\n",
              "      <th>0</th>\n",
              "      <td>1909</td>\n",
              "    </tr>\n",
              "    <tr>\n",
              "      <th>1</th>\n",
              "      <td>590</td>\n",
              "    </tr>\n",
              "  </tbody>\n",
              "</table>\n",
              "</div>"
            ],
            "text/plain": [
              "                              Department\n",
              "Department      left_Company            \n",
              "Finance         0                   1906\n",
              "                1                    594\n",
              "Human Resources 0                   1904\n",
              "                1                    596\n",
              "IT              0                   1906\n",
              "                1                    594\n",
              "Operations      0                   1901\n",
              "                1                    599\n",
              "Sales           0                   1902\n",
              "                1                    598\n",
              "Warehouse       0                   1909\n",
              "                1                    590"
            ]
          },
          "metadata": {
            "tags": []
          },
          "execution_count": 19
        }
      ]
    },
    {
      "cell_type": "markdown",
      "metadata": {
        "id": "YdwAIRtyi56c",
        "colab_type": "text"
      },
      "source": [
        "**Como se distribui as posições de trabalho (Role) dos Ativos e Inativos?**\n",
        "\n",
        "Notamos que a posição **Level 2-4** possui o maior número de Ativos, mas também o maior número de Inativos."
      ]
    },
    {
      "cell_type": "code",
      "metadata": {
        "id": "7v-l7EBmjDe3",
        "colab_type": "code",
        "colab": {
          "base_uri": "https://localhost:8080/",
          "height": 499
        },
        "outputId": "66811fd2-b5ef-4bfc-ea41-ed23e3648fb0"
      },
      "source": [
        "df.groupby(['Role', 'left_Company']).agg({'Role': 'count'})"
      ],
      "execution_count": null,
      "outputs": [
        {
          "output_type": "execute_result",
          "data": {
            "text/html": [
              "<div>\n",
              "<style scoped>\n",
              "    .dataframe tbody tr th:only-of-type {\n",
              "        vertical-align: middle;\n",
              "    }\n",
              "\n",
              "    .dataframe tbody tr th {\n",
              "        vertical-align: top;\n",
              "    }\n",
              "\n",
              "    .dataframe thead th {\n",
              "        text-align: right;\n",
              "    }\n",
              "</style>\n",
              "<table border=\"1\" class=\"dataframe\">\n",
              "  <thead>\n",
              "    <tr style=\"text-align: right;\">\n",
              "      <th></th>\n",
              "      <th></th>\n",
              "      <th>Role</th>\n",
              "    </tr>\n",
              "    <tr>\n",
              "      <th>Role</th>\n",
              "      <th>left_Company</th>\n",
              "      <th></th>\n",
              "    </tr>\n",
              "  </thead>\n",
              "  <tbody>\n",
              "    <tr>\n",
              "      <th rowspan=\"2\" valign=\"top\">Director</th>\n",
              "      <th>0</th>\n",
              "      <td>491</td>\n",
              "    </tr>\n",
              "    <tr>\n",
              "      <th>1</th>\n",
              "      <td>169</td>\n",
              "    </tr>\n",
              "    <tr>\n",
              "      <th rowspan=\"2\" valign=\"top\">Level 1</th>\n",
              "      <th>0</th>\n",
              "      <td>2472</td>\n",
              "    </tr>\n",
              "    <tr>\n",
              "      <th>1</th>\n",
              "      <td>798</td>\n",
              "    </tr>\n",
              "    <tr>\n",
              "      <th rowspan=\"2\" valign=\"top\">Level 2-4</th>\n",
              "      <th>0</th>\n",
              "      <td>5254</td>\n",
              "    </tr>\n",
              "    <tr>\n",
              "      <th>1</th>\n",
              "      <td>1635</td>\n",
              "    </tr>\n",
              "    <tr>\n",
              "      <th rowspan=\"2\" valign=\"top\">Manager</th>\n",
              "      <th>0</th>\n",
              "      <td>1863</td>\n",
              "    </tr>\n",
              "    <tr>\n",
              "      <th>1</th>\n",
              "      <td>557</td>\n",
              "    </tr>\n",
              "    <tr>\n",
              "      <th rowspan=\"2\" valign=\"top\">Senior Director</th>\n",
              "      <th>0</th>\n",
              "      <td>245</td>\n",
              "    </tr>\n",
              "    <tr>\n",
              "      <th>1</th>\n",
              "      <td>85</td>\n",
              "    </tr>\n",
              "    <tr>\n",
              "      <th rowspan=\"2\" valign=\"top\">Senior Manager</th>\n",
              "      <th>0</th>\n",
              "      <td>1023</td>\n",
              "    </tr>\n",
              "    <tr>\n",
              "      <th>1</th>\n",
              "      <td>297</td>\n",
              "    </tr>\n",
              "    <tr>\n",
              "      <th rowspan=\"2\" valign=\"top\">VP</th>\n",
              "      <th>0</th>\n",
              "      <td>80</td>\n",
              "    </tr>\n",
              "    <tr>\n",
              "      <th>1</th>\n",
              "      <td>30</td>\n",
              "    </tr>\n",
              "  </tbody>\n",
              "</table>\n",
              "</div>"
            ],
            "text/plain": [
              "                              Role\n",
              "Role            left_Company      \n",
              "Director        0              491\n",
              "                1              169\n",
              "Level 1         0             2472\n",
              "                1              798\n",
              "Level 2-4       0             5254\n",
              "                1             1635\n",
              "Manager         0             1863\n",
              "                1              557\n",
              "Senior Director 0              245\n",
              "                1               85\n",
              "Senior Manager  0             1023\n",
              "                1              297\n",
              "VP              0               80\n",
              "                1               30"
            ]
          },
          "metadata": {
            "tags": []
          },
          "execution_count": 20
        }
      ]
    },
    {
      "cell_type": "markdown",
      "metadata": {
        "id": "TkGT7DM7juqr",
        "colab_type": "text"
      },
      "source": [
        "**Qual o nível médio de salário por GEO?**\n"
      ]
    },
    {
      "cell_type": "code",
      "metadata": {
        "id": "pW5FRQzbjzNZ",
        "colab_type": "code",
        "colab": {
          "base_uri": "https://localhost:8080/",
          "height": 890
        },
        "outputId": "bc5168be-8c16-4a45-c4ee-8f52b37356ee"
      },
      "source": [
        "df.groupby(['GEO', 'salary']).agg({'salary': 'count'})"
      ],
      "execution_count": null,
      "outputs": [
        {
          "output_type": "execute_result",
          "data": {
            "text/html": [
              "<div>\n",
              "<style scoped>\n",
              "    .dataframe tbody tr th:only-of-type {\n",
              "        vertical-align: middle;\n",
              "    }\n",
              "\n",
              "    .dataframe tbody tr th {\n",
              "        vertical-align: top;\n",
              "    }\n",
              "\n",
              "    .dataframe thead th {\n",
              "        text-align: right;\n",
              "    }\n",
              "</style>\n",
              "<table border=\"1\" class=\"dataframe\">\n",
              "  <thead>\n",
              "    <tr style=\"text-align: right;\">\n",
              "      <th></th>\n",
              "      <th></th>\n",
              "      <th>salary</th>\n",
              "    </tr>\n",
              "    <tr>\n",
              "      <th>GEO</th>\n",
              "      <th>salary</th>\n",
              "      <th></th>\n",
              "    </tr>\n",
              "  </thead>\n",
              "  <tbody>\n",
              "    <tr>\n",
              "      <th rowspan=\"3\" valign=\"top\">Australia</th>\n",
              "      <th>high</th>\n",
              "      <td>136</td>\n",
              "    </tr>\n",
              "    <tr>\n",
              "      <th>low</th>\n",
              "      <td>770</td>\n",
              "    </tr>\n",
              "    <tr>\n",
              "      <th>medium</th>\n",
              "      <td>671</td>\n",
              "    </tr>\n",
              "    <tr>\n",
              "      <th rowspan=\"3\" valign=\"top\">China</th>\n",
              "      <th>high</th>\n",
              "      <td>138</td>\n",
              "    </tr>\n",
              "    <tr>\n",
              "      <th>low</th>\n",
              "      <td>777</td>\n",
              "    </tr>\n",
              "    <tr>\n",
              "      <th>medium</th>\n",
              "      <td>752</td>\n",
              "    </tr>\n",
              "    <tr>\n",
              "      <th rowspan=\"3\" valign=\"top\">Colombia</th>\n",
              "      <th>high</th>\n",
              "      <td>129</td>\n",
              "    </tr>\n",
              "    <tr>\n",
              "      <th>low</th>\n",
              "      <td>792</td>\n",
              "    </tr>\n",
              "    <tr>\n",
              "      <th>medium</th>\n",
              "      <td>738</td>\n",
              "    </tr>\n",
              "    <tr>\n",
              "      <th rowspan=\"3\" valign=\"top\">France</th>\n",
              "      <th>high</th>\n",
              "      <td>155</td>\n",
              "    </tr>\n",
              "    <tr>\n",
              "      <th>low</th>\n",
              "      <td>806</td>\n",
              "    </tr>\n",
              "    <tr>\n",
              "      <th>medium</th>\n",
              "      <td>738</td>\n",
              "    </tr>\n",
              "    <tr>\n",
              "      <th rowspan=\"3\" valign=\"top\">Japan</th>\n",
              "      <th>high</th>\n",
              "      <td>117</td>\n",
              "    </tr>\n",
              "    <tr>\n",
              "      <th>low</th>\n",
              "      <td>842</td>\n",
              "    </tr>\n",
              "    <tr>\n",
              "      <th>medium</th>\n",
              "      <td>710</td>\n",
              "    </tr>\n",
              "    <tr>\n",
              "      <th rowspan=\"3\" valign=\"top\">Korea</th>\n",
              "      <th>high</th>\n",
              "      <td>137</td>\n",
              "    </tr>\n",
              "    <tr>\n",
              "      <th>low</th>\n",
              "      <td>862</td>\n",
              "    </tr>\n",
              "    <tr>\n",
              "      <th>medium</th>\n",
              "      <td>686</td>\n",
              "    </tr>\n",
              "    <tr>\n",
              "      <th rowspan=\"3\" valign=\"top\">Turkey</th>\n",
              "      <th>high</th>\n",
              "      <td>132</td>\n",
              "    </tr>\n",
              "    <tr>\n",
              "      <th>low</th>\n",
              "      <td>834</td>\n",
              "    </tr>\n",
              "    <tr>\n",
              "      <th>medium</th>\n",
              "      <td>673</td>\n",
              "    </tr>\n",
              "    <tr>\n",
              "      <th rowspan=\"3\" valign=\"top\">UK</th>\n",
              "      <th>high</th>\n",
              "      <td>147</td>\n",
              "    </tr>\n",
              "    <tr>\n",
              "      <th>low</th>\n",
              "      <td>864</td>\n",
              "    </tr>\n",
              "    <tr>\n",
              "      <th>medium</th>\n",
              "      <td>761</td>\n",
              "    </tr>\n",
              "    <tr>\n",
              "      <th rowspan=\"3\" valign=\"top\">US</th>\n",
              "      <th>high</th>\n",
              "      <td>146</td>\n",
              "    </tr>\n",
              "    <tr>\n",
              "      <th>low</th>\n",
              "      <td>769</td>\n",
              "    </tr>\n",
              "    <tr>\n",
              "      <th>medium</th>\n",
              "      <td>717</td>\n",
              "    </tr>\n",
              "  </tbody>\n",
              "</table>\n",
              "</div>"
            ],
            "text/plain": [
              "                  salary\n",
              "GEO       salary        \n",
              "Australia high       136\n",
              "          low        770\n",
              "          medium     671\n",
              "China     high       138\n",
              "          low        777\n",
              "          medium     752\n",
              "Colombia  high       129\n",
              "          low        792\n",
              "          medium     738\n",
              "France    high       155\n",
              "          low        806\n",
              "          medium     738\n",
              "Japan     high       117\n",
              "          low        842\n",
              "          medium     710\n",
              "Korea     high       137\n",
              "          low        862\n",
              "          medium     686\n",
              "Turkey    high       132\n",
              "          low        834\n",
              "          medium     673\n",
              "UK        high       147\n",
              "          low        864\n",
              "          medium     761\n",
              "US        high       146\n",
              "          low        769\n",
              "          medium     717"
            ]
          },
          "metadata": {
            "tags": []
          },
          "execution_count": 21
        }
      ]
    },
    {
      "cell_type": "markdown",
      "metadata": {
        "id": "Y3PmXWte4BEy",
        "colab_type": "text"
      },
      "source": [
        "## **Pré Processamento dos Dados**\n",
        "\n",
        "O pré processamento de dados é uma etapa de enorme importância na hora de construir um modelo de Machine Learning. \n",
        "\n",
        "\n",
        "Uma das coisas que precisamos prestar atenção é que o nosso dataset possui 63 colunas, ou seja, ele possui 63 dimensões. Ter um dataset com muitas dimensões pode acarretar em alguns problemas, como por exemplo, o algoritmo pode acabar se sobreajustando aos dados, além de levar mais tempo para treinar o nosso modelo.\n",
        "\n",
        "Para inciar nosso processo de pré processamento, eu irei eliminar algumas colunas que não julgo como fundamentais para o modelo. Por exemplo, as colunas **ID** e **Name** não trazem informações interessantes quando se trata de construir um modelo de classificação.\n",
        "\n",
        "Outras colunas que também podemos eliminar, são as colunas que possuem uma alta porcentagem de dados ausentes. Como já foi dito, existem técnicas e ferramentas para se tratar dados ausentes, mas quando se tem uma de um enorme volume deles em uma mesma coluna, o apropriado é elimina-los. Esse caso se aplica as seguintes colunas:\n",
        "\n",
        "\n",
        "*   **Rising_Star**: 99.85% NaN \n",
        "*   **Critical**: 96.79% NaN\n",
        "*   **CSR Factor**: 88.57% NaN\n",
        "*   **Men_Leave**: 67.56% NaN\n",
        "*   **Women_Leave**: 49.35% NaN"
      ]
    },
    {
      "cell_type": "code",
      "metadata": {
        "id": "Ih40GyOo7PEj",
        "colab_type": "code",
        "colab": {}
      },
      "source": [
        "df.drop(['ID', 'Name', 'Rising_Star', 'Critical', 'CSR Factor', 'Men_Leave', \n",
        "         'Women_Leave'], axis=1, inplace=True)"
      ],
      "execution_count": null,
      "outputs": []
    },
    {
      "cell_type": "code",
      "metadata": {
        "id": "SKltpusF9Zkl",
        "colab_type": "code",
        "colab": {
          "base_uri": "https://localhost:8080/",
          "height": 287
        },
        "outputId": "05a6883f-88a3-4d33-a092-0f7a9082b726"
      },
      "source": [
        "#visualizando o dataframe após a eliminar as colunas\n",
        "df.head()"
      ],
      "execution_count": null,
      "outputs": [
        {
          "output_type": "execute_result",
          "data": {
            "text/html": [
              "<div>\n",
              "<style scoped>\n",
              "    .dataframe tbody tr th:only-of-type {\n",
              "        vertical-align: middle;\n",
              "    }\n",
              "\n",
              "    .dataframe tbody tr th {\n",
              "        vertical-align: top;\n",
              "    }\n",
              "\n",
              "    .dataframe thead th {\n",
              "        text-align: right;\n",
              "    }\n",
              "</style>\n",
              "<table border=\"1\" class=\"dataframe\">\n",
              "  <thead>\n",
              "    <tr style=\"text-align: right;\">\n",
              "      <th></th>\n",
              "      <th>Department</th>\n",
              "      <th>GEO</th>\n",
              "      <th>Role</th>\n",
              "      <th>Will_Relocate</th>\n",
              "      <th>Trending Perf</th>\n",
              "      <th>Talent_Level</th>\n",
              "      <th>Validated_Talent_Level</th>\n",
              "      <th>Percent_Remote</th>\n",
              "      <th>EMP_Sat_OnPrem_1</th>\n",
              "      <th>EMP_Sat_OnPrem_2</th>\n",
              "      <th>EMP_Sat_OnPrem_3</th>\n",
              "      <th>EMP_Sat_OnPrem_4</th>\n",
              "      <th>EMP_Sat_OnPrem_5</th>\n",
              "      <th>EMP_Sat_Remote_1</th>\n",
              "      <th>EMP_Sat_Remote_2</th>\n",
              "      <th>EMP_Sat_Remote_3</th>\n",
              "      <th>EMP_Sat_Remote_4</th>\n",
              "      <th>EMP_Sat_Remote_5</th>\n",
              "      <th>EMP_Engagement_1</th>\n",
              "      <th>EMP_Engagement_2</th>\n",
              "      <th>EMP_Engagement_3</th>\n",
              "      <th>EMP_Engagement_4</th>\n",
              "      <th>EMP_Engagement_5</th>\n",
              "      <th>last_evaluation</th>\n",
              "      <th>number_project</th>\n",
              "      <th>average_montly_hours</th>\n",
              "      <th>time_spend_company</th>\n",
              "      <th>Work_accident</th>\n",
              "      <th>left_Company</th>\n",
              "      <th>promotion_last_5years</th>\n",
              "      <th>sales</th>\n",
              "      <th>salary</th>\n",
              "      <th>Gender</th>\n",
              "      <th>LinkedIn_Hits</th>\n",
              "      <th>Emp_Work_Status2</th>\n",
              "      <th>Emp_Work_Status_3</th>\n",
              "      <th>Emp_Work_Status_4</th>\n",
              "      <th>Emp_Work_Status_5</th>\n",
              "      <th>Emp_Identity</th>\n",
              "      <th>Emp_Role</th>\n",
              "      <th>Emp_Position</th>\n",
              "      <th>Emp_Title</th>\n",
              "      <th>Emp_Competitive_1</th>\n",
              "      <th>Emp_Competitive_2</th>\n",
              "      <th>Emp_Competitive_3</th>\n",
              "      <th>Emp_Competitive_4</th>\n",
              "      <th>Emp_Competitive_5</th>\n",
              "      <th>Emp_Collaborative_1</th>\n",
              "      <th>Emp_Collaborative_2</th>\n",
              "      <th>Emp_Collaborative_3</th>\n",
              "      <th>Emp_Collaborative_4</th>\n",
              "      <th>Emp_Collaborative_5</th>\n",
              "      <th>Sensor_StepCount</th>\n",
              "      <th>Sensor_Heartbeat(Average/Min)</th>\n",
              "      <th>Sensor_Proximity(1-highest/10-lowest)</th>\n",
              "    </tr>\n",
              "  </thead>\n",
              "  <tbody>\n",
              "    <tr>\n",
              "      <th>0</th>\n",
              "      <td>Operations</td>\n",
              "      <td>US</td>\n",
              "      <td>VP</td>\n",
              "      <td>0</td>\n",
              "      <td>3</td>\n",
              "      <td>6</td>\n",
              "      <td>6</td>\n",
              "      <td>0.4</td>\n",
              "      <td>3.0</td>\n",
              "      <td>3.0</td>\n",
              "      <td>4.0</td>\n",
              "      <td>3.0</td>\n",
              "      <td>5.0</td>\n",
              "      <td>2</td>\n",
              "      <td>3</td>\n",
              "      <td>2</td>\n",
              "      <td>3</td>\n",
              "      <td>2</td>\n",
              "      <td>5</td>\n",
              "      <td>5</td>\n",
              "      <td>4</td>\n",
              "      <td>4</td>\n",
              "      <td>3</td>\n",
              "      <td>0.36</td>\n",
              "      <td>3</td>\n",
              "      <td>168</td>\n",
              "      <td>3</td>\n",
              "      <td>1</td>\n",
              "      <td>0</td>\n",
              "      <td>0</td>\n",
              "      <td>sales</td>\n",
              "      <td>low</td>\n",
              "      <td>M</td>\n",
              "      <td>5</td>\n",
              "      <td>4</td>\n",
              "      <td>3</td>\n",
              "      <td>1</td>\n",
              "      <td>1</td>\n",
              "      <td>1</td>\n",
              "      <td>1</td>\n",
              "      <td>2</td>\n",
              "      <td>1</td>\n",
              "      <td>2</td>\n",
              "      <td>4</td>\n",
              "      <td>2</td>\n",
              "      <td>2</td>\n",
              "      <td>2</td>\n",
              "      <td>2</td>\n",
              "      <td>2</td>\n",
              "      <td>2</td>\n",
              "      <td>1</td>\n",
              "      <td>5</td>\n",
              "      <td>1841</td>\n",
              "      <td>61</td>\n",
              "      <td>9</td>\n",
              "    </tr>\n",
              "    <tr>\n",
              "      <th>1</th>\n",
              "      <td>Sales</td>\n",
              "      <td>UK</td>\n",
              "      <td>Senior Director</td>\n",
              "      <td>0</td>\n",
              "      <td>3</td>\n",
              "      <td>6</td>\n",
              "      <td>6</td>\n",
              "      <td>0.4</td>\n",
              "      <td>3.0</td>\n",
              "      <td>3.0</td>\n",
              "      <td>4.0</td>\n",
              "      <td>3.0</td>\n",
              "      <td>5.0</td>\n",
              "      <td>2</td>\n",
              "      <td>3</td>\n",
              "      <td>2</td>\n",
              "      <td>3</td>\n",
              "      <td>2</td>\n",
              "      <td>5</td>\n",
              "      <td>5</td>\n",
              "      <td>4</td>\n",
              "      <td>4</td>\n",
              "      <td>3</td>\n",
              "      <td>0.36</td>\n",
              "      <td>5</td>\n",
              "      <td>159</td>\n",
              "      <td>2</td>\n",
              "      <td>0</td>\n",
              "      <td>0</td>\n",
              "      <td>0</td>\n",
              "      <td>accounting</td>\n",
              "      <td>low</td>\n",
              "      <td>F</td>\n",
              "      <td>58</td>\n",
              "      <td>3</td>\n",
              "      <td>3</td>\n",
              "      <td>4</td>\n",
              "      <td>3</td>\n",
              "      <td>2</td>\n",
              "      <td>1</td>\n",
              "      <td>2</td>\n",
              "      <td>1</td>\n",
              "      <td>2</td>\n",
              "      <td>2</td>\n",
              "      <td>1</td>\n",
              "      <td>4</td>\n",
              "      <td>1</td>\n",
              "      <td>3</td>\n",
              "      <td>2</td>\n",
              "      <td>5</td>\n",
              "      <td>1</td>\n",
              "      <td>5</td>\n",
              "      <td>1990</td>\n",
              "      <td>90</td>\n",
              "      <td>8</td>\n",
              "    </tr>\n",
              "    <tr>\n",
              "      <th>2</th>\n",
              "      <td>Finance</td>\n",
              "      <td>France</td>\n",
              "      <td>Senior Director</td>\n",
              "      <td>0</td>\n",
              "      <td>3</td>\n",
              "      <td>6</td>\n",
              "      <td>6</td>\n",
              "      <td>0.4</td>\n",
              "      <td>3.0</td>\n",
              "      <td>3.0</td>\n",
              "      <td>4.0</td>\n",
              "      <td>3.0</td>\n",
              "      <td>5.0</td>\n",
              "      <td>2</td>\n",
              "      <td>3</td>\n",
              "      <td>2</td>\n",
              "      <td>3</td>\n",
              "      <td>2</td>\n",
              "      <td>5</td>\n",
              "      <td>5</td>\n",
              "      <td>4</td>\n",
              "      <td>4</td>\n",
              "      <td>3</td>\n",
              "      <td>0.36</td>\n",
              "      <td>2</td>\n",
              "      <td>282</td>\n",
              "      <td>3</td>\n",
              "      <td>0</td>\n",
              "      <td>0</td>\n",
              "      <td>0</td>\n",
              "      <td>product_mng</td>\n",
              "      <td>medium</td>\n",
              "      <td>F</td>\n",
              "      <td>42</td>\n",
              "      <td>2</td>\n",
              "      <td>4</td>\n",
              "      <td>1</td>\n",
              "      <td>3</td>\n",
              "      <td>1</td>\n",
              "      <td>1</td>\n",
              "      <td>2</td>\n",
              "      <td>2</td>\n",
              "      <td>1</td>\n",
              "      <td>5</td>\n",
              "      <td>1</td>\n",
              "      <td>2</td>\n",
              "      <td>5</td>\n",
              "      <td>2</td>\n",
              "      <td>2</td>\n",
              "      <td>4</td>\n",
              "      <td>4</td>\n",
              "      <td>4</td>\n",
              "      <td>3193</td>\n",
              "      <td>80</td>\n",
              "      <td>8</td>\n",
              "    </tr>\n",
              "    <tr>\n",
              "      <th>3</th>\n",
              "      <td>Human Resources</td>\n",
              "      <td>China</td>\n",
              "      <td>Senior Director</td>\n",
              "      <td>0</td>\n",
              "      <td>3</td>\n",
              "      <td>6</td>\n",
              "      <td>6</td>\n",
              "      <td>0.4</td>\n",
              "      <td>3.0</td>\n",
              "      <td>3.0</td>\n",
              "      <td>4.0</td>\n",
              "      <td>3.0</td>\n",
              "      <td>5.0</td>\n",
              "      <td>2</td>\n",
              "      <td>3</td>\n",
              "      <td>2</td>\n",
              "      <td>3</td>\n",
              "      <td>2</td>\n",
              "      <td>5</td>\n",
              "      <td>5</td>\n",
              "      <td>4</td>\n",
              "      <td>4</td>\n",
              "      <td>3</td>\n",
              "      <td>0.36</td>\n",
              "      <td>4</td>\n",
              "      <td>278</td>\n",
              "      <td>4</td>\n",
              "      <td>1</td>\n",
              "      <td>0</td>\n",
              "      <td>0</td>\n",
              "      <td>product_mng</td>\n",
              "      <td>high</td>\n",
              "      <td>M</td>\n",
              "      <td>37</td>\n",
              "      <td>3</td>\n",
              "      <td>1</td>\n",
              "      <td>4</td>\n",
              "      <td>5</td>\n",
              "      <td>2</td>\n",
              "      <td>1</td>\n",
              "      <td>2</td>\n",
              "      <td>1</td>\n",
              "      <td>1</td>\n",
              "      <td>1</td>\n",
              "      <td>2</td>\n",
              "      <td>5</td>\n",
              "      <td>1</td>\n",
              "      <td>1</td>\n",
              "      <td>2</td>\n",
              "      <td>4</td>\n",
              "      <td>4</td>\n",
              "      <td>1</td>\n",
              "      <td>3248</td>\n",
              "      <td>77</td>\n",
              "      <td>6</td>\n",
              "    </tr>\n",
              "    <tr>\n",
              "      <th>4</th>\n",
              "      <td>IT</td>\n",
              "      <td>Korea</td>\n",
              "      <td>Director</td>\n",
              "      <td>0</td>\n",
              "      <td>3</td>\n",
              "      <td>6</td>\n",
              "      <td>6</td>\n",
              "      <td>0.4</td>\n",
              "      <td>3.0</td>\n",
              "      <td>3.0</td>\n",
              "      <td>4.0</td>\n",
              "      <td>3.0</td>\n",
              "      <td>5.0</td>\n",
              "      <td>2</td>\n",
              "      <td>3</td>\n",
              "      <td>2</td>\n",
              "      <td>3</td>\n",
              "      <td>2</td>\n",
              "      <td>5</td>\n",
              "      <td>5</td>\n",
              "      <td>4</td>\n",
              "      <td>4</td>\n",
              "      <td>3</td>\n",
              "      <td>0.36</td>\n",
              "      <td>6</td>\n",
              "      <td>256</td>\n",
              "      <td>5</td>\n",
              "      <td>0</td>\n",
              "      <td>0</td>\n",
              "      <td>0</td>\n",
              "      <td>sales</td>\n",
              "      <td>low</td>\n",
              "      <td>F</td>\n",
              "      <td>6</td>\n",
              "      <td>4</td>\n",
              "      <td>5</td>\n",
              "      <td>4</td>\n",
              "      <td>5</td>\n",
              "      <td>1</td>\n",
              "      <td>1</td>\n",
              "      <td>2</td>\n",
              "      <td>1</td>\n",
              "      <td>1</td>\n",
              "      <td>4</td>\n",
              "      <td>1</td>\n",
              "      <td>5</td>\n",
              "      <td>3</td>\n",
              "      <td>5</td>\n",
              "      <td>1</td>\n",
              "      <td>2</td>\n",
              "      <td>5</td>\n",
              "      <td>4</td>\n",
              "      <td>3149</td>\n",
              "      <td>80</td>\n",
              "      <td>10</td>\n",
              "    </tr>\n",
              "  </tbody>\n",
              "</table>\n",
              "</div>"
            ],
            "text/plain": [
              "        Department  ... Sensor_Proximity(1-highest/10-lowest)\n",
              "0       Operations  ...                                     9\n",
              "1            Sales  ...                                     8\n",
              "2          Finance  ...                                     8\n",
              "3  Human Resources  ...                                     6\n",
              "4               IT  ...                                    10\n",
              "\n",
              "[5 rows x 55 columns]"
            ]
          },
          "metadata": {
            "tags": []
          },
          "execution_count": 23
        }
      ]
    },
    {
      "cell_type": "code",
      "metadata": {
        "id": "NOBxj0bk9gfC",
        "colab_type": "code",
        "colab": {
          "base_uri": "https://localhost:8080/",
          "height": 34
        },
        "outputId": "ee64eae2-24b3-4811-e769-bccb15632d0d"
      },
      "source": [
        "#verificando novamente a exclusão das colunas\n",
        "df.shape[1]"
      ],
      "execution_count": null,
      "outputs": [
        {
          "output_type": "execute_result",
          "data": {
            "text/plain": [
              "55"
            ]
          },
          "metadata": {
            "tags": []
          },
          "execution_count": 24
        }
      ]
    },
    {
      "cell_type": "markdown",
      "metadata": {
        "id": "x8J31GMW63lF",
        "colab_type": "text"
      },
      "source": [
        "As demais colunas que apresentam valores NaN, serão tratadas com a técnica de imputação de dados. Nesse caso, escolhi imputar os dados com a mediana correspondente a cada coluna que possui valores nulos.\n"
      ]
    },
    {
      "cell_type": "code",
      "metadata": {
        "id": "OvYMxD5xcWMb",
        "colab_type": "code",
        "colab": {}
      },
      "source": [
        "from sklearn.impute import SimpleImputer\n",
        "\n",
        "imputer = SimpleImputer(strategy='median')"
      ],
      "execution_count": null,
      "outputs": []
    },
    {
      "cell_type": "code",
      "metadata": {
        "id": "0SS8sAJGlu36",
        "colab_type": "code",
        "colab": {}
      },
      "source": [
        "#selecionando apenas colunas do tipo int e float para a imputação\n",
        "df_num = df.select_dtypes(exclude=['object'])\n",
        "\n",
        "#fazendo a transformação com o fit_transform \n",
        "#e começando a construir um novo df para os dados pós pre processamento\n",
        "X_num = imputer.fit_transform(df_num)\n",
        "df_num_input = pd.DataFrame(X_num, index=df_num.index, columns=df_num.columns)"
      ],
      "execution_count": null,
      "outputs": []
    },
    {
      "cell_type": "markdown",
      "metadata": {
        "id": "VTP7QnUx6Bwh",
        "colab_type": "text"
      },
      "source": [
        "Os algoritmos de Machine Learning perfomam melhor com dados numéricos, então precisamos transformar os dados categóricos em numéricos. Assim, transformamos as colunas em binárias."
      ]
    },
    {
      "cell_type": "code",
      "metadata": {
        "id": "Jjmc09e5mCAw",
        "colab_type": "code",
        "colab": {}
      },
      "source": [
        "#selecionaando apenas colunas do tipo object\n",
        "df_cat = df.select_dtypes(include=['object'])\n",
        "\n",
        "#aplicando a técnica de encoding\n",
        "df_cat = pd.get_dummies(df_cat, drop_first=True)"
      ],
      "execution_count": null,
      "outputs": []
    },
    {
      "cell_type": "code",
      "metadata": {
        "id": "M1icpcqR2rRv",
        "colab_type": "code",
        "colab": {
          "base_uri": "https://localhost:8080/",
          "height": 236
        },
        "outputId": "fcb76585-60e5-4945-d5ed-be7a5b79bda3"
      },
      "source": [
        "#concatenando os dataframes e assim temos um dataframe preparado para a construção do modelo\n",
        "df_prepared = pd.concat([df_num_input, df_cat], axis=1)\n",
        "df_prepared.head()"
      ],
      "execution_count": null,
      "outputs": [
        {
          "output_type": "execute_result",
          "data": {
            "text/html": [
              "<div>\n",
              "<style scoped>\n",
              "    .dataframe tbody tr th:only-of-type {\n",
              "        vertical-align: middle;\n",
              "    }\n",
              "\n",
              "    .dataframe tbody tr th {\n",
              "        vertical-align: top;\n",
              "    }\n",
              "\n",
              "    .dataframe thead th {\n",
              "        text-align: right;\n",
              "    }\n",
              "</style>\n",
              "<table border=\"1\" class=\"dataframe\">\n",
              "  <thead>\n",
              "    <tr style=\"text-align: right;\">\n",
              "      <th></th>\n",
              "      <th>Will_Relocate</th>\n",
              "      <th>Trending Perf</th>\n",
              "      <th>Talent_Level</th>\n",
              "      <th>Validated_Talent_Level</th>\n",
              "      <th>Percent_Remote</th>\n",
              "      <th>EMP_Sat_OnPrem_1</th>\n",
              "      <th>EMP_Sat_OnPrem_2</th>\n",
              "      <th>EMP_Sat_OnPrem_3</th>\n",
              "      <th>EMP_Sat_OnPrem_4</th>\n",
              "      <th>EMP_Sat_OnPrem_5</th>\n",
              "      <th>EMP_Sat_Remote_1</th>\n",
              "      <th>EMP_Sat_Remote_2</th>\n",
              "      <th>EMP_Sat_Remote_3</th>\n",
              "      <th>EMP_Sat_Remote_4</th>\n",
              "      <th>EMP_Sat_Remote_5</th>\n",
              "      <th>EMP_Engagement_1</th>\n",
              "      <th>EMP_Engagement_2</th>\n",
              "      <th>EMP_Engagement_3</th>\n",
              "      <th>EMP_Engagement_4</th>\n",
              "      <th>EMP_Engagement_5</th>\n",
              "      <th>last_evaluation</th>\n",
              "      <th>number_project</th>\n",
              "      <th>average_montly_hours</th>\n",
              "      <th>time_spend_company</th>\n",
              "      <th>Work_accident</th>\n",
              "      <th>left_Company</th>\n",
              "      <th>promotion_last_5years</th>\n",
              "      <th>LinkedIn_Hits</th>\n",
              "      <th>Emp_Work_Status2</th>\n",
              "      <th>Emp_Work_Status_3</th>\n",
              "      <th>Emp_Work_Status_4</th>\n",
              "      <th>Emp_Work_Status_5</th>\n",
              "      <th>Emp_Identity</th>\n",
              "      <th>Emp_Role</th>\n",
              "      <th>Emp_Position</th>\n",
              "      <th>Emp_Title</th>\n",
              "      <th>Emp_Competitive_1</th>\n",
              "      <th>Emp_Competitive_2</th>\n",
              "      <th>Emp_Competitive_3</th>\n",
              "      <th>Emp_Competitive_4</th>\n",
              "      <th>Emp_Competitive_5</th>\n",
              "      <th>Emp_Collaborative_1</th>\n",
              "      <th>Emp_Collaborative_2</th>\n",
              "      <th>Emp_Collaborative_3</th>\n",
              "      <th>Emp_Collaborative_4</th>\n",
              "      <th>Emp_Collaborative_5</th>\n",
              "      <th>Sensor_StepCount</th>\n",
              "      <th>Sensor_Heartbeat(Average/Min)</th>\n",
              "      <th>Sensor_Proximity(1-highest/10-lowest)</th>\n",
              "      <th>Department_Human Resources</th>\n",
              "      <th>Department_IT</th>\n",
              "      <th>Department_Operations</th>\n",
              "      <th>Department_Sales</th>\n",
              "      <th>Department_Warehouse</th>\n",
              "      <th>GEO_China</th>\n",
              "      <th>GEO_Colombia</th>\n",
              "      <th>GEO_France</th>\n",
              "      <th>GEO_Japan</th>\n",
              "      <th>GEO_Korea</th>\n",
              "      <th>GEO_Turkey</th>\n",
              "      <th>GEO_UK</th>\n",
              "      <th>GEO_US</th>\n",
              "      <th>Role_Level 1</th>\n",
              "      <th>Role_Level 2-4</th>\n",
              "      <th>Role_Manager</th>\n",
              "      <th>Role_Senior Director</th>\n",
              "      <th>Role_Senior Manager</th>\n",
              "      <th>Role_VP</th>\n",
              "      <th>sales_RandD</th>\n",
              "      <th>sales_accounting</th>\n",
              "      <th>sales_hr</th>\n",
              "      <th>sales_management</th>\n",
              "      <th>sales_marketing</th>\n",
              "      <th>sales_product_mng</th>\n",
              "      <th>sales_sales</th>\n",
              "      <th>sales_support</th>\n",
              "      <th>sales_technical</th>\n",
              "      <th>salary_low</th>\n",
              "      <th>salary_medium</th>\n",
              "      <th>Gender_M</th>\n",
              "    </tr>\n",
              "  </thead>\n",
              "  <tbody>\n",
              "    <tr>\n",
              "      <th>0</th>\n",
              "      <td>0.0</td>\n",
              "      <td>3.0</td>\n",
              "      <td>6.0</td>\n",
              "      <td>6.0</td>\n",
              "      <td>0.4</td>\n",
              "      <td>3.0</td>\n",
              "      <td>3.0</td>\n",
              "      <td>4.0</td>\n",
              "      <td>3.0</td>\n",
              "      <td>5.0</td>\n",
              "      <td>2.0</td>\n",
              "      <td>3.0</td>\n",
              "      <td>2.0</td>\n",
              "      <td>3.0</td>\n",
              "      <td>2.0</td>\n",
              "      <td>5.0</td>\n",
              "      <td>5.0</td>\n",
              "      <td>4.0</td>\n",
              "      <td>4.0</td>\n",
              "      <td>3.0</td>\n",
              "      <td>0.36</td>\n",
              "      <td>3.0</td>\n",
              "      <td>168.0</td>\n",
              "      <td>3.0</td>\n",
              "      <td>1.0</td>\n",
              "      <td>0.0</td>\n",
              "      <td>0.0</td>\n",
              "      <td>5.0</td>\n",
              "      <td>4.0</td>\n",
              "      <td>3.0</td>\n",
              "      <td>1.0</td>\n",
              "      <td>1.0</td>\n",
              "      <td>1.0</td>\n",
              "      <td>1.0</td>\n",
              "      <td>2.0</td>\n",
              "      <td>1.0</td>\n",
              "      <td>2.0</td>\n",
              "      <td>4.0</td>\n",
              "      <td>2.0</td>\n",
              "      <td>2.0</td>\n",
              "      <td>2.0</td>\n",
              "      <td>2.0</td>\n",
              "      <td>2.0</td>\n",
              "      <td>2.0</td>\n",
              "      <td>1.0</td>\n",
              "      <td>5.0</td>\n",
              "      <td>1841.0</td>\n",
              "      <td>61.0</td>\n",
              "      <td>9.0</td>\n",
              "      <td>0</td>\n",
              "      <td>0</td>\n",
              "      <td>1</td>\n",
              "      <td>0</td>\n",
              "      <td>0</td>\n",
              "      <td>0</td>\n",
              "      <td>0</td>\n",
              "      <td>0</td>\n",
              "      <td>0</td>\n",
              "      <td>0</td>\n",
              "      <td>0</td>\n",
              "      <td>0</td>\n",
              "      <td>1</td>\n",
              "      <td>0</td>\n",
              "      <td>0</td>\n",
              "      <td>0</td>\n",
              "      <td>0</td>\n",
              "      <td>0</td>\n",
              "      <td>1</td>\n",
              "      <td>0</td>\n",
              "      <td>0</td>\n",
              "      <td>0</td>\n",
              "      <td>0</td>\n",
              "      <td>0</td>\n",
              "      <td>0</td>\n",
              "      <td>1</td>\n",
              "      <td>0</td>\n",
              "      <td>0</td>\n",
              "      <td>1</td>\n",
              "      <td>0</td>\n",
              "      <td>1</td>\n",
              "    </tr>\n",
              "    <tr>\n",
              "      <th>1</th>\n",
              "      <td>0.0</td>\n",
              "      <td>3.0</td>\n",
              "      <td>6.0</td>\n",
              "      <td>6.0</td>\n",
              "      <td>0.4</td>\n",
              "      <td>3.0</td>\n",
              "      <td>3.0</td>\n",
              "      <td>4.0</td>\n",
              "      <td>3.0</td>\n",
              "      <td>5.0</td>\n",
              "      <td>2.0</td>\n",
              "      <td>3.0</td>\n",
              "      <td>2.0</td>\n",
              "      <td>3.0</td>\n",
              "      <td>2.0</td>\n",
              "      <td>5.0</td>\n",
              "      <td>5.0</td>\n",
              "      <td>4.0</td>\n",
              "      <td>4.0</td>\n",
              "      <td>3.0</td>\n",
              "      <td>0.36</td>\n",
              "      <td>5.0</td>\n",
              "      <td>159.0</td>\n",
              "      <td>2.0</td>\n",
              "      <td>0.0</td>\n",
              "      <td>0.0</td>\n",
              "      <td>0.0</td>\n",
              "      <td>58.0</td>\n",
              "      <td>3.0</td>\n",
              "      <td>3.0</td>\n",
              "      <td>4.0</td>\n",
              "      <td>3.0</td>\n",
              "      <td>2.0</td>\n",
              "      <td>1.0</td>\n",
              "      <td>2.0</td>\n",
              "      <td>1.0</td>\n",
              "      <td>2.0</td>\n",
              "      <td>2.0</td>\n",
              "      <td>1.0</td>\n",
              "      <td>4.0</td>\n",
              "      <td>1.0</td>\n",
              "      <td>3.0</td>\n",
              "      <td>2.0</td>\n",
              "      <td>5.0</td>\n",
              "      <td>1.0</td>\n",
              "      <td>5.0</td>\n",
              "      <td>1990.0</td>\n",
              "      <td>90.0</td>\n",
              "      <td>8.0</td>\n",
              "      <td>0</td>\n",
              "      <td>0</td>\n",
              "      <td>0</td>\n",
              "      <td>1</td>\n",
              "      <td>0</td>\n",
              "      <td>0</td>\n",
              "      <td>0</td>\n",
              "      <td>0</td>\n",
              "      <td>0</td>\n",
              "      <td>0</td>\n",
              "      <td>0</td>\n",
              "      <td>1</td>\n",
              "      <td>0</td>\n",
              "      <td>0</td>\n",
              "      <td>0</td>\n",
              "      <td>0</td>\n",
              "      <td>1</td>\n",
              "      <td>0</td>\n",
              "      <td>0</td>\n",
              "      <td>0</td>\n",
              "      <td>1</td>\n",
              "      <td>0</td>\n",
              "      <td>0</td>\n",
              "      <td>0</td>\n",
              "      <td>0</td>\n",
              "      <td>0</td>\n",
              "      <td>0</td>\n",
              "      <td>0</td>\n",
              "      <td>1</td>\n",
              "      <td>0</td>\n",
              "      <td>0</td>\n",
              "    </tr>\n",
              "    <tr>\n",
              "      <th>2</th>\n",
              "      <td>0.0</td>\n",
              "      <td>3.0</td>\n",
              "      <td>6.0</td>\n",
              "      <td>6.0</td>\n",
              "      <td>0.4</td>\n",
              "      <td>3.0</td>\n",
              "      <td>3.0</td>\n",
              "      <td>4.0</td>\n",
              "      <td>3.0</td>\n",
              "      <td>5.0</td>\n",
              "      <td>2.0</td>\n",
              "      <td>3.0</td>\n",
              "      <td>2.0</td>\n",
              "      <td>3.0</td>\n",
              "      <td>2.0</td>\n",
              "      <td>5.0</td>\n",
              "      <td>5.0</td>\n",
              "      <td>4.0</td>\n",
              "      <td>4.0</td>\n",
              "      <td>3.0</td>\n",
              "      <td>0.36</td>\n",
              "      <td>2.0</td>\n",
              "      <td>282.0</td>\n",
              "      <td>3.0</td>\n",
              "      <td>0.0</td>\n",
              "      <td>0.0</td>\n",
              "      <td>0.0</td>\n",
              "      <td>42.0</td>\n",
              "      <td>2.0</td>\n",
              "      <td>4.0</td>\n",
              "      <td>1.0</td>\n",
              "      <td>3.0</td>\n",
              "      <td>1.0</td>\n",
              "      <td>1.0</td>\n",
              "      <td>2.0</td>\n",
              "      <td>2.0</td>\n",
              "      <td>1.0</td>\n",
              "      <td>5.0</td>\n",
              "      <td>1.0</td>\n",
              "      <td>2.0</td>\n",
              "      <td>5.0</td>\n",
              "      <td>2.0</td>\n",
              "      <td>2.0</td>\n",
              "      <td>4.0</td>\n",
              "      <td>4.0</td>\n",
              "      <td>4.0</td>\n",
              "      <td>3193.0</td>\n",
              "      <td>80.0</td>\n",
              "      <td>8.0</td>\n",
              "      <td>0</td>\n",
              "      <td>0</td>\n",
              "      <td>0</td>\n",
              "      <td>0</td>\n",
              "      <td>0</td>\n",
              "      <td>0</td>\n",
              "      <td>0</td>\n",
              "      <td>1</td>\n",
              "      <td>0</td>\n",
              "      <td>0</td>\n",
              "      <td>0</td>\n",
              "      <td>0</td>\n",
              "      <td>0</td>\n",
              "      <td>0</td>\n",
              "      <td>0</td>\n",
              "      <td>0</td>\n",
              "      <td>1</td>\n",
              "      <td>0</td>\n",
              "      <td>0</td>\n",
              "      <td>0</td>\n",
              "      <td>0</td>\n",
              "      <td>0</td>\n",
              "      <td>0</td>\n",
              "      <td>0</td>\n",
              "      <td>1</td>\n",
              "      <td>0</td>\n",
              "      <td>0</td>\n",
              "      <td>0</td>\n",
              "      <td>0</td>\n",
              "      <td>1</td>\n",
              "      <td>0</td>\n",
              "    </tr>\n",
              "    <tr>\n",
              "      <th>3</th>\n",
              "      <td>0.0</td>\n",
              "      <td>3.0</td>\n",
              "      <td>6.0</td>\n",
              "      <td>6.0</td>\n",
              "      <td>0.4</td>\n",
              "      <td>3.0</td>\n",
              "      <td>3.0</td>\n",
              "      <td>4.0</td>\n",
              "      <td>3.0</td>\n",
              "      <td>5.0</td>\n",
              "      <td>2.0</td>\n",
              "      <td>3.0</td>\n",
              "      <td>2.0</td>\n",
              "      <td>3.0</td>\n",
              "      <td>2.0</td>\n",
              "      <td>5.0</td>\n",
              "      <td>5.0</td>\n",
              "      <td>4.0</td>\n",
              "      <td>4.0</td>\n",
              "      <td>3.0</td>\n",
              "      <td>0.36</td>\n",
              "      <td>4.0</td>\n",
              "      <td>278.0</td>\n",
              "      <td>4.0</td>\n",
              "      <td>1.0</td>\n",
              "      <td>0.0</td>\n",
              "      <td>0.0</td>\n",
              "      <td>37.0</td>\n",
              "      <td>3.0</td>\n",
              "      <td>1.0</td>\n",
              "      <td>4.0</td>\n",
              "      <td>5.0</td>\n",
              "      <td>2.0</td>\n",
              "      <td>1.0</td>\n",
              "      <td>2.0</td>\n",
              "      <td>1.0</td>\n",
              "      <td>1.0</td>\n",
              "      <td>1.0</td>\n",
              "      <td>2.0</td>\n",
              "      <td>5.0</td>\n",
              "      <td>1.0</td>\n",
              "      <td>1.0</td>\n",
              "      <td>2.0</td>\n",
              "      <td>4.0</td>\n",
              "      <td>4.0</td>\n",
              "      <td>1.0</td>\n",
              "      <td>3248.0</td>\n",
              "      <td>77.0</td>\n",
              "      <td>6.0</td>\n",
              "      <td>1</td>\n",
              "      <td>0</td>\n",
              "      <td>0</td>\n",
              "      <td>0</td>\n",
              "      <td>0</td>\n",
              "      <td>1</td>\n",
              "      <td>0</td>\n",
              "      <td>0</td>\n",
              "      <td>0</td>\n",
              "      <td>0</td>\n",
              "      <td>0</td>\n",
              "      <td>0</td>\n",
              "      <td>0</td>\n",
              "      <td>0</td>\n",
              "      <td>0</td>\n",
              "      <td>0</td>\n",
              "      <td>1</td>\n",
              "      <td>0</td>\n",
              "      <td>0</td>\n",
              "      <td>0</td>\n",
              "      <td>0</td>\n",
              "      <td>0</td>\n",
              "      <td>0</td>\n",
              "      <td>0</td>\n",
              "      <td>1</td>\n",
              "      <td>0</td>\n",
              "      <td>0</td>\n",
              "      <td>0</td>\n",
              "      <td>0</td>\n",
              "      <td>0</td>\n",
              "      <td>1</td>\n",
              "    </tr>\n",
              "    <tr>\n",
              "      <th>4</th>\n",
              "      <td>0.0</td>\n",
              "      <td>3.0</td>\n",
              "      <td>6.0</td>\n",
              "      <td>6.0</td>\n",
              "      <td>0.4</td>\n",
              "      <td>3.0</td>\n",
              "      <td>3.0</td>\n",
              "      <td>4.0</td>\n",
              "      <td>3.0</td>\n",
              "      <td>5.0</td>\n",
              "      <td>2.0</td>\n",
              "      <td>3.0</td>\n",
              "      <td>2.0</td>\n",
              "      <td>3.0</td>\n",
              "      <td>2.0</td>\n",
              "      <td>5.0</td>\n",
              "      <td>5.0</td>\n",
              "      <td>4.0</td>\n",
              "      <td>4.0</td>\n",
              "      <td>3.0</td>\n",
              "      <td>0.36</td>\n",
              "      <td>6.0</td>\n",
              "      <td>256.0</td>\n",
              "      <td>5.0</td>\n",
              "      <td>0.0</td>\n",
              "      <td>0.0</td>\n",
              "      <td>0.0</td>\n",
              "      <td>6.0</td>\n",
              "      <td>4.0</td>\n",
              "      <td>5.0</td>\n",
              "      <td>4.0</td>\n",
              "      <td>5.0</td>\n",
              "      <td>1.0</td>\n",
              "      <td>1.0</td>\n",
              "      <td>2.0</td>\n",
              "      <td>1.0</td>\n",
              "      <td>1.0</td>\n",
              "      <td>4.0</td>\n",
              "      <td>1.0</td>\n",
              "      <td>5.0</td>\n",
              "      <td>3.0</td>\n",
              "      <td>5.0</td>\n",
              "      <td>1.0</td>\n",
              "      <td>2.0</td>\n",
              "      <td>5.0</td>\n",
              "      <td>4.0</td>\n",
              "      <td>3149.0</td>\n",
              "      <td>80.0</td>\n",
              "      <td>10.0</td>\n",
              "      <td>0</td>\n",
              "      <td>1</td>\n",
              "      <td>0</td>\n",
              "      <td>0</td>\n",
              "      <td>0</td>\n",
              "      <td>0</td>\n",
              "      <td>0</td>\n",
              "      <td>0</td>\n",
              "      <td>0</td>\n",
              "      <td>1</td>\n",
              "      <td>0</td>\n",
              "      <td>0</td>\n",
              "      <td>0</td>\n",
              "      <td>0</td>\n",
              "      <td>0</td>\n",
              "      <td>0</td>\n",
              "      <td>0</td>\n",
              "      <td>0</td>\n",
              "      <td>0</td>\n",
              "      <td>0</td>\n",
              "      <td>0</td>\n",
              "      <td>0</td>\n",
              "      <td>0</td>\n",
              "      <td>0</td>\n",
              "      <td>0</td>\n",
              "      <td>1</td>\n",
              "      <td>0</td>\n",
              "      <td>0</td>\n",
              "      <td>1</td>\n",
              "      <td>0</td>\n",
              "      <td>0</td>\n",
              "    </tr>\n",
              "  </tbody>\n",
              "</table>\n",
              "</div>"
            ],
            "text/plain": [
              "   Will_Relocate  Trending Perf  ...  salary_medium  Gender_M\n",
              "0            0.0            3.0  ...              0         1\n",
              "1            0.0            3.0  ...              0         0\n",
              "2            0.0            3.0  ...              1         0\n",
              "3            0.0            3.0  ...              0         1\n",
              "4            0.0            3.0  ...              0         0\n",
              "\n",
              "[5 rows x 80 columns]"
            ]
          },
          "metadata": {
            "tags": []
          },
          "execution_count": 28
        }
      ]
    },
    {
      "cell_type": "markdown",
      "metadata": {
        "id": "ZU7c87eQAw03",
        "colab_type": "text"
      },
      "source": [
        "# **Construindo o Modelo com Random Forest**"
      ]
    },
    {
      "cell_type": "code",
      "metadata": {
        "id": "Gb-Sb2S3p6PC",
        "colab_type": "code",
        "colab": {}
      },
      "source": [
        "from sklearn.model_selection import train_test_split\n",
        "\n",
        "SEED = 42\n",
        "np.random.seed(SEED)\n",
        "\n",
        "#separando as variáveis independente e dependente\n",
        "X = df_prepared.drop('left_Company', axis=1)\n",
        "y = df_prepared['left_Company']\n",
        "\n",
        "#separando dados de treino e teste\n",
        "X_train, X_test, y_train, y_test = train_test_split(X, y, test_size=0.3, stratify=y ,\n",
        "                                                   random_state=SEED)"
      ],
      "execution_count": null,
      "outputs": []
    },
    {
      "cell_type": "markdown",
      "metadata": {
        "id": "g95l9hLAXrvz",
        "colab_type": "text"
      },
      "source": [
        "Para facilitar irei construir um pipeline, assim podemos colocar todo os steps que queremos que seja aplicado, até a chegado ao estimador.\n",
        "\n",
        "Como foi dito, temos uma alta dimensionalidade de dados, para solucionar esse problema irei aplicar a técnica de Principal Component Analysis (PCA)."
      ]
    },
    {
      "cell_type": "code",
      "metadata": {
        "id": "bRWIaVch5CVD",
        "colab_type": "code",
        "colab": {
          "base_uri": "https://localhost:8080/",
          "height": 34
        },
        "outputId": "a3d933fa-cf5c-49f1-dea3-6c1662b52d34"
      },
      "source": [
        "from sklearn.pipeline import Pipeline\n",
        "from sklearn.decomposition import PCA\n",
        "from sklearn.ensemble import RandomForestClassifier\n",
        "\n",
        "rf_model = Pipeline(steps=[                                                                  \n",
        "    ('PCA', PCA(n_components=2)),\n",
        "    ('rf_clf', RandomForestClassifier(n_estimators=10, random_state=SEED))                   \n",
        "])\n",
        "\n",
        "#treinando o modelo\n",
        "rf_model.fit(X_train, y_train)\n",
        "\n",
        "#fazendo as previsões utilizando o X_test\n",
        "y_pred_rf = rf_model.predict(X_test)\n",
        "y_pred_rf"
      ],
      "execution_count": null,
      "outputs": [
        {
          "output_type": "execute_result",
          "data": {
            "text/plain": [
              "array([0., 0., 0., ..., 0., 1., 0.])"
            ]
          },
          "metadata": {
            "tags": []
          },
          "execution_count": 30
        }
      ]
    },
    {
      "cell_type": "code",
      "metadata": {
        "id": "_g2w0XPZ5H9y",
        "colab_type": "code",
        "colab": {
          "base_uri": "https://localhost:8080/",
          "height": 104
        },
        "outputId": "22346ae4-f98d-4d01-95de-7be10284536e"
      },
      "source": [
        "#o predict_proba nos dá a probalidade de cada classe pertencer àquela instância\n",
        "#aqui mostro as 5 primeiras instâncias/linhas\n",
        "rf_model.predict_proba(X_test)[0:5]"
      ],
      "execution_count": null,
      "outputs": [
        {
          "output_type": "execute_result",
          "data": {
            "text/plain": [
              "array([[1. , 0. ],\n",
              "       [1. , 0. ],\n",
              "       [1. , 0. ],\n",
              "       [0.7, 0.3],\n",
              "       [1. , 0. ]])"
            ]
          },
          "metadata": {
            "tags": []
          },
          "execution_count": 31
        }
      ]
    },
    {
      "cell_type": "code",
      "metadata": {
        "id": "FvAI9VZK5JzA",
        "colab_type": "code",
        "colab": {
          "base_uri": "https://localhost:8080/",
          "height": 34
        },
        "outputId": "112405c4-1059-4b70-bfd1-392bfc17c236"
      },
      "source": [
        "#descobrindo a acurácia(os acertos) do nosso modelo \n",
        "from sklearn.metrics import accuracy_score\n",
        "\n",
        "accuracy_rf = accuracy_score(y_test, y_pred_rf)\n",
        "print(f'[Acurácia Random Forest]: {accuracy_rf}')"
      ],
      "execution_count": null,
      "outputs": [
        {
          "output_type": "stream",
          "text": [
            "[Acurácia Random Forest]: 0.9217777777777778\n"
          ],
          "name": "stdout"
        }
      ]
    },
    {
      "cell_type": "markdown",
      "metadata": {
        "id": "jjiT8HKubuD0",
        "colab_type": "text"
      },
      "source": [
        "Utilizar somente a acurácia para descobrir se o modelo é bom, não é melhor opção, ainda mais em um modelo de classificação. Então utilizarei a técnica de **Validação Cruzada** que nos ajudará a validar o nosso modelo."
      ]
    },
    {
      "cell_type": "code",
      "metadata": {
        "id": "TJN9rcXY9Ocg",
        "colab_type": "code",
        "colab": {
          "base_uri": "https://localhost:8080/",
          "height": 52
        },
        "outputId": "015f502a-0009-494d-ee8b-dae3746c369c"
      },
      "source": [
        "from sklearn.model_selection import cross_validate\n",
        "from sklearn.model_selection import StratifiedKFold\n",
        "\n",
        "SEED = 42\n",
        "np.random.seed(SEED)\n",
        "\n",
        "#aleatorizando os nosso dados e fazendo a validação cruzada\n",
        "cv = StratifiedKFold(n_splits = 5, shuffle=True)\n",
        "results_cv_rf = cross_validate(rf_model, X, y, cv=cv, return_train_score=False)\n",
        "\n",
        "mean_cv_rf = results_cv_rf['test_score'].mean()\n",
        "std_cv_rf = results_cv_rf['test_score'].std()\n",
        "print('Accuracy médio RF - com CV: %.2f' % (mean_cv_rf * 100))\n",
        "print('Accuracy intervalo RF - com CV: [%.2f, %.2f]' % (\n",
        "    (mean_cv_rf - 2 *std_cv_rf) * 100, (mean_cv_rf + 2 * std_cv_rf) * 100))"
      ],
      "execution_count": null,
      "outputs": [
        {
          "output_type": "stream",
          "text": [
            "Accuracy médio RF - com CV: 92.32\n",
            "Accuracy intervalo RF - com CV: [91.45, 93.19]\n"
          ],
          "name": "stdout"
        }
      ]
    },
    {
      "cell_type": "markdown",
      "metadata": {
        "id": "rkLbI0thZTuT",
        "colab_type": "text"
      },
      "source": [
        "O resultado foi semelhante a da acurácia sem a Validação Cruzada, isso é um bom sinal de que estamos no caminho certo..."
      ]
    },
    {
      "cell_type": "markdown",
      "metadata": {
        "id": "AlXeibgXbk8Q",
        "colab_type": "text"
      },
      "source": [
        "## **Ajustando o Modelo**\n",
        "\n",
        "Uma maneira de descobrir se o modelo está tendo a melhor perfomance que ele pode ter, é alterar os hiperparâmetros do algoritmo utilizado até encontrar uma ótima combinação. \n",
        "\n",
        "E é exatamente isso que GridSearchCV faz. Só precisamos passar quais hiperparâmetros que desejamos que ele experimente e quais valores tentar, e ele avaliará todas as combinações de valores possíveis por meio de validação cruzada."
      ]
    },
    {
      "cell_type": "code",
      "metadata": {
        "id": "Bo4JD_HUIdeI",
        "colab_type": "code",
        "colab": {
          "base_uri": "https://localhost:8080/",
          "height": 322
        },
        "outputId": "7cc15c80-fcbc-42ec-8440-6d5bfabf1e8b"
      },
      "source": [
        "from sklearn.model_selection import GridSearchCV\n",
        "from sklearn.model_selection import StratifiedKFold\n",
        "\n",
        "SEED = 42\n",
        "np.random.seed(SEED)\n",
        "cv = StratifiedKFold(n_splits = 5, shuffle=True)\n",
        "\n",
        "#setando os parâmetros que queremos testar\n",
        "param_grid_rf = [\n",
        "    {'rf_clf__n_estimators':[10, 100], 'rf_clf__criterion': ['gini', 'entropy'], 'rf_clf__class_weight':['balanced']},\n",
        "    {'rf_clf__bootstrap':[False], 'rf_clf__n_estimators':[10, 100], 'rf_clf__criterion': ['gini', 'entropy']}  \n",
        "]\n",
        "\n",
        "grid_search_rf = GridSearchCV(rf_model, param_grid_rf, \n",
        "                           cv=StratifiedKFold(n_splits = 5, shuffle=True), \n",
        "                           scoring='accuracy')\n",
        "#treinamento com o GriSearch\n",
        "grid_search_rf.fit(X_train, y_train)\n",
        "\n",
        "#resultados obtidos com o treinamento de cada parâmetro\n",
        "results_grid_rf = pd.DataFrame(grid_search_rf.cv_results_)\n",
        "results_grid_rf.head()"
      ],
      "execution_count": null,
      "outputs": [
        {
          "output_type": "execute_result",
          "data": {
            "text/html": [
              "<div>\n",
              "<style scoped>\n",
              "    .dataframe tbody tr th:only-of-type {\n",
              "        vertical-align: middle;\n",
              "    }\n",
              "\n",
              "    .dataframe tbody tr th {\n",
              "        vertical-align: top;\n",
              "    }\n",
              "\n",
              "    .dataframe thead th {\n",
              "        text-align: right;\n",
              "    }\n",
              "</style>\n",
              "<table border=\"1\" class=\"dataframe\">\n",
              "  <thead>\n",
              "    <tr style=\"text-align: right;\">\n",
              "      <th></th>\n",
              "      <th>mean_fit_time</th>\n",
              "      <th>std_fit_time</th>\n",
              "      <th>mean_score_time</th>\n",
              "      <th>std_score_time</th>\n",
              "      <th>param_rf_clf__class_weight</th>\n",
              "      <th>param_rf_clf__criterion</th>\n",
              "      <th>param_rf_clf__n_estimators</th>\n",
              "      <th>param_rf_clf__bootstrap</th>\n",
              "      <th>params</th>\n",
              "      <th>split0_test_score</th>\n",
              "      <th>split1_test_score</th>\n",
              "      <th>split2_test_score</th>\n",
              "      <th>split3_test_score</th>\n",
              "      <th>split4_test_score</th>\n",
              "      <th>mean_test_score</th>\n",
              "      <th>std_test_score</th>\n",
              "      <th>rank_test_score</th>\n",
              "    </tr>\n",
              "  </thead>\n",
              "  <tbody>\n",
              "    <tr>\n",
              "      <th>0</th>\n",
              "      <td>0.154375</td>\n",
              "      <td>0.007739</td>\n",
              "      <td>0.009268</td>\n",
              "      <td>0.001336</td>\n",
              "      <td>balanced</td>\n",
              "      <td>gini</td>\n",
              "      <td>10</td>\n",
              "      <td>NaN</td>\n",
              "      <td>{'rf_clf__class_weight': 'balanced', 'rf_clf__...</td>\n",
              "      <td>0.925238</td>\n",
              "      <td>0.926190</td>\n",
              "      <td>0.927143</td>\n",
              "      <td>0.927619</td>\n",
              "      <td>0.923773</td>\n",
              "      <td>0.925993</td>\n",
              "      <td>0.001379</td>\n",
              "      <td>2</td>\n",
              "    </tr>\n",
              "    <tr>\n",
              "      <th>1</th>\n",
              "      <td>0.736714</td>\n",
              "      <td>0.011848</td>\n",
              "      <td>0.040530</td>\n",
              "      <td>0.002262</td>\n",
              "      <td>balanced</td>\n",
              "      <td>gini</td>\n",
              "      <td>100</td>\n",
              "      <td>NaN</td>\n",
              "      <td>{'rf_clf__class_weight': 'balanced', 'rf_clf__...</td>\n",
              "      <td>0.926190</td>\n",
              "      <td>0.920476</td>\n",
              "      <td>0.925238</td>\n",
              "      <td>0.922381</td>\n",
              "      <td>0.930919</td>\n",
              "      <td>0.925041</td>\n",
              "      <td>0.003573</td>\n",
              "      <td>3</td>\n",
              "    </tr>\n",
              "    <tr>\n",
              "      <th>2</th>\n",
              "      <td>0.201269</td>\n",
              "      <td>0.011114</td>\n",
              "      <td>0.007584</td>\n",
              "      <td>0.000191</td>\n",
              "      <td>balanced</td>\n",
              "      <td>entropy</td>\n",
              "      <td>10</td>\n",
              "      <td>NaN</td>\n",
              "      <td>{'rf_clf__class_weight': 'balanced', 'rf_clf__...</td>\n",
              "      <td>0.924762</td>\n",
              "      <td>0.925714</td>\n",
              "      <td>0.922857</td>\n",
              "      <td>0.927619</td>\n",
              "      <td>0.930919</td>\n",
              "      <td>0.926374</td>\n",
              "      <td>0.002743</td>\n",
              "      <td>1</td>\n",
              "    </tr>\n",
              "    <tr>\n",
              "      <th>3</th>\n",
              "      <td>1.196042</td>\n",
              "      <td>0.019851</td>\n",
              "      <td>0.038682</td>\n",
              "      <td>0.000484</td>\n",
              "      <td>balanced</td>\n",
              "      <td>entropy</td>\n",
              "      <td>100</td>\n",
              "      <td>NaN</td>\n",
              "      <td>{'rf_clf__class_weight': 'balanced', 'rf_clf__...</td>\n",
              "      <td>0.927143</td>\n",
              "      <td>0.917619</td>\n",
              "      <td>0.925714</td>\n",
              "      <td>0.921905</td>\n",
              "      <td>0.929490</td>\n",
              "      <td>0.924374</td>\n",
              "      <td>0.004180</td>\n",
              "      <td>4</td>\n",
              "    </tr>\n",
              "    <tr>\n",
              "      <th>4</th>\n",
              "      <td>0.179222</td>\n",
              "      <td>0.005353</td>\n",
              "      <td>0.007766</td>\n",
              "      <td>0.000228</td>\n",
              "      <td>NaN</td>\n",
              "      <td>gini</td>\n",
              "      <td>10</td>\n",
              "      <td>False</td>\n",
              "      <td>{'rf_clf__bootstrap': False, 'rf_clf__criterio...</td>\n",
              "      <td>0.922381</td>\n",
              "      <td>0.922381</td>\n",
              "      <td>0.925714</td>\n",
              "      <td>0.920952</td>\n",
              "      <td>0.926632</td>\n",
              "      <td>0.923612</td>\n",
              "      <td>0.002175</td>\n",
              "      <td>5</td>\n",
              "    </tr>\n",
              "  </tbody>\n",
              "</table>\n",
              "</div>"
            ],
            "text/plain": [
              "   mean_fit_time  std_fit_time  ...  std_test_score  rank_test_score\n",
              "0       0.154375      0.007739  ...        0.001379                2\n",
              "1       0.736714      0.011848  ...        0.003573                3\n",
              "2       0.201269      0.011114  ...        0.002743                1\n",
              "3       1.196042      0.019851  ...        0.004180                4\n",
              "4       0.179222      0.005353  ...        0.002175                5\n",
              "\n",
              "[5 rows x 17 columns]"
            ]
          },
          "metadata": {
            "tags": []
          },
          "execution_count": 34
        }
      ]
    },
    {
      "cell_type": "code",
      "metadata": {
        "id": "accIVJfSes2F",
        "colab_type": "code",
        "colab": {
          "base_uri": "https://localhost:8080/",
          "height": 69
        },
        "outputId": "2d6e2c3b-ec65-416a-a773-a1e6dac2f58d"
      },
      "source": [
        "#descobrindo os melhores parâmetros\n",
        "grid_search_rf.best_params_"
      ],
      "execution_count": null,
      "outputs": [
        {
          "output_type": "execute_result",
          "data": {
            "text/plain": [
              "{'rf_clf__class_weight': 'balanced',\n",
              " 'rf_clf__criterion': 'entropy',\n",
              " 'rf_clf__n_estimators': 10}"
            ]
          },
          "metadata": {
            "tags": []
          },
          "execution_count": 35
        }
      ]
    },
    {
      "cell_type": "code",
      "metadata": {
        "id": "1IDmB37qZhID",
        "colab_type": "code",
        "colab": {
          "base_uri": "https://localhost:8080/",
          "height": 345
        },
        "outputId": "73df16cb-6417-401d-c905-3ca6bc762750"
      },
      "source": [
        "#treinando o RandomForest agora com os melhores parâmetros\n",
        "best_est_rf = grid_search_rf.best_estimator_\n",
        "best_est_rf.fit(X_train, y_train)"
      ],
      "execution_count": null,
      "outputs": [
        {
          "output_type": "execute_result",
          "data": {
            "text/plain": [
              "Pipeline(memory=None,\n",
              "         steps=[('PCA',\n",
              "                 PCA(copy=True, iterated_power='auto', n_components=2,\n",
              "                     random_state=None, svd_solver='auto', tol=0.0,\n",
              "                     whiten=False)),\n",
              "                ('rf_clf',\n",
              "                 RandomForestClassifier(bootstrap=True, ccp_alpha=0.0,\n",
              "                                        class_weight='balanced',\n",
              "                                        criterion='entropy', max_depth=None,\n",
              "                                        max_features='auto',\n",
              "                                        max_leaf_nodes=None, max_samples=None,\n",
              "                                        min_impurity_decrease=0.0,\n",
              "                                        min_impurity_split=None,\n",
              "                                        min_samples_leaf=1, min_samples_split=2,\n",
              "                                        min_weight_fraction_leaf=0.0,\n",
              "                                        n_estimators=10, n_jobs=None,\n",
              "                                        oob_score=False, random_state=42,\n",
              "                                        verbose=0, warm_start=False))],\n",
              "         verbose=False)"
            ]
          },
          "metadata": {
            "tags": []
          },
          "execution_count": 36
        }
      ]
    },
    {
      "cell_type": "code",
      "metadata": {
        "id": "7wd34JftcSXj",
        "colab_type": "code",
        "colab": {}
      },
      "source": [
        "y_pred_acc_rf= best_est_rf.predict(X_test)"
      ],
      "execution_count": null,
      "outputs": []
    },
    {
      "cell_type": "markdown",
      "metadata": {
        "id": "hjdz_pi0GLpZ",
        "colab_type": "text"
      },
      "source": [
        "## **Métricas de Avaliação do Modelo - Random Forest**"
      ]
    },
    {
      "cell_type": "markdown",
      "metadata": {
        "id": "FlSs5y8b9KLj",
        "colab_type": "text"
      },
      "source": [
        "Avaliamos o modelo de classificação utilizando a acurácia e obtemos uma acurácia média de 92%. Porém, em problemas de classificação utilizar somente a acurácia para saber se nosso modelo está performando bem não é muito correto. Temos outras métricas que podem nos auxiliar na hora de analisar se um modelo está obtendo um bom resultado. \n",
        "\n",
        "Temos o precision(precisão) que nos diz o quão preciso está sendo o nosso modelo na hora de acertar a classificação. O recall(revocação) é a fração de instâncias relevantes que são recuperadas. E o f1-score é uma média harmônica de ambos."
      ]
    },
    {
      "cell_type": "code",
      "metadata": {
        "id": "qnhPuxzsUgMw",
        "colab_type": "code",
        "colab": {
          "base_uri": "https://localhost:8080/",
          "height": 86
        },
        "outputId": "0812313b-5d0f-4f21-b97c-a1da6d5511d2"
      },
      "source": [
        "from sklearn.metrics import accuracy_score, recall_score, precision_score, f1_score\n",
        "\n",
        "print('Accuracy Score: ' + str(accuracy_score(y_test,y_pred_acc_rf)))\n",
        "print('Precision Score: ' + str(precision_score(y_test,y_pred_acc_rf)))\n",
        "print('Recall Score: ' + str(recall_score(y_test,y_pred_acc_rf)))\n",
        "print('F1 Score: ' + str(f1_score(y_test,y_pred_acc_rf)))"
      ],
      "execution_count": null,
      "outputs": [
        {
          "output_type": "stream",
          "text": [
            "Accuracy Score: 0.92\n",
            "Precision Score: 0.87940234791889\n",
            "Recall Score: 0.76937441643324\n",
            "F1 Score: 0.8207171314741036\n"
          ],
          "name": "stdout"
        }
      ]
    },
    {
      "cell_type": "markdown",
      "metadata": {
        "id": "HMdHlat9_VzJ",
        "colab_type": "text"
      },
      "source": [
        "**Matriz de Confusão**\n",
        "\n",
        "A Matriz de Confusão é também utilizada para avaliar a perfomance do modelo. \n",
        "\n",
        "Essa é a estrutura:\n",
        "\n",
        "[*Verdadeiros Negativos, Falsos Positivos*\n",
        "\n",
        "*Falsos Negativos, Verdadeiros Positivos]*"
      ]
    },
    {
      "cell_type": "code",
      "metadata": {
        "id": "SHy-ooDA_k1J",
        "colab_type": "code",
        "colab": {
          "base_uri": "https://localhost:8080/",
          "height": 329
        },
        "outputId": "755f4bed-de7e-404a-f39d-032ab73bdb64"
      },
      "source": [
        "from sklearn.metrics import confusion_matrix\n",
        "from sklearn.metrics import plot_confusion_matrix\n",
        "\n",
        "print(confusion_matrix(y_test, y_pred_acc_rf))\n",
        "\n",
        "# plotando a matrix de confusão\n",
        "skplt.metrics.plot_confusion_matrix(y_test, y_pred_acc_rf, normalize=True);"
      ],
      "execution_count": null,
      "outputs": [
        {
          "output_type": "stream",
          "text": [
            "[[3316  113]\n",
            " [ 247  824]]\n"
          ],
          "name": "stdout"
        },
        {
          "output_type": "display_data",
          "data": {
            "image/png": "[encoded data removed]",
            "text/plain": [
              "<Figure size 432x288 with 2 Axes>"
            ]
          },
          "metadata": {
            "tags": [],
            "needs_background": "light"
          }
        }
      ]
    },
    {
      "cell_type": "markdown",
      "metadata": {
        "id": "AMOzN725cNuu",
        "colab_type": "text"
      },
      "source": [
        "O classification_report nos traz um resumo das principais métricas que já vimos anteriormente. "
      ]
    },
    {
      "cell_type": "code",
      "metadata": {
        "id": "V5_gSyLc9SH3",
        "colab_type": "code",
        "colab": {
          "base_uri": "https://localhost:8080/",
          "height": 173
        },
        "outputId": "c7e5f97f-083d-4cdd-9fb4-fa51b3f18127"
      },
      "source": [
        "from sklearn.metrics import classification_report\n",
        "\n",
        "print(classification_report(y_test, y_pred_acc_rf))"
      ],
      "execution_count": null,
      "outputs": [
        {
          "output_type": "stream",
          "text": [
            "              precision    recall  f1-score   support\n",
            "\n",
            "         0.0       0.93      0.97      0.95      3429\n",
            "         1.0       0.88      0.77      0.82      1071\n",
            "\n",
            "    accuracy                           0.92      4500\n",
            "   macro avg       0.91      0.87      0.88      4500\n",
            "weighted avg       0.92      0.92      0.92      4500\n",
            "\n"
          ],
          "name": "stdout"
        }
      ]
    },
    {
      "cell_type": "markdown",
      "metadata": {
        "id": "QCfLeB9OfoC6",
        "colab_type": "text"
      },
      "source": [
        "**Feature Importances**\n",
        "\n",
        "Permutation Feature Importance é uma técnica de inspeção de modelo que pode ser usada para qualquer estimador ajustado quando os dados são tabulares. Este procedimento quebra a relação entre o recurso e o destino, portanto, a queda na pontuação do modelo é um indicativo de quanto o modelo depende do recurso. "
      ]
    },
    {
      "cell_type": "code",
      "metadata": {
        "id": "kykg6khHd_B3",
        "colab_type": "code",
        "colab": {
          "base_uri": "https://localhost:8080/",
          "height": 501
        },
        "outputId": "bfb8960b-cd00-4400-8651-017cfe23bbcb"
      },
      "source": [
        "from sklearn.inspection import permutation_importance\n",
        "\n",
        "r = permutation_importance(best_est_rf, X_train, y_train,\n",
        "                            random_state=SEED)\n",
        "\n",
        "for i in r.importances_mean.argsort()[::-1]:\n",
        "     if r.importances_mean[i] - 2 * r.importances_std[i] > 0:\n",
        "         print(f'{df_prepared.columns[i]:<8}'\n",
        "               f' -> {r.importances_mean[i]:.3f}'\n",
        "               f' +/- {r.importances_std[i]:.3f}')"
      ],
      "execution_count": null,
      "outputs": [
        {
          "output_type": "stream",
          "text": [
            "Emp_Collaborative_5 -> 0.357 +/- 0.002\n",
            "average_montly_hours -> 0.188 +/- 0.002\n",
            "promotion_last_5years -> 0.049 +/- 0.001\n",
            "Sensor_StepCount -> 0.035 +/- 0.001\n",
            "Sensor_Heartbeat(Average/Min) -> 0.004 +/- 0.000\n",
            "number_project -> 0.003 +/- 0.000\n",
            "EMP_Sat_Remote_5 -> 0.002 +/- 0.000\n",
            "EMP_Sat_Remote_3 -> 0.002 +/- 0.000\n",
            "EMP_Sat_Remote_2 -> 0.002 +/- 0.000\n",
            "EMP_Engagement_1 -> 0.001 +/- 0.000\n",
            "time_spend_company -> 0.001 +/- 0.000\n",
            "EMP_Sat_Remote_1 -> 0.001 +/- 0.000\n",
            "EMP_Engagement_2 -> 0.001 +/- 0.000\n",
            "EMP_Sat_OnPrem_5 -> 0.001 +/- 0.000\n",
            "EMP_Sat_Remote_4 -> 0.001 +/- 0.000\n",
            "EMP_Engagement_4 -> 0.000 +/- 0.000\n",
            "EMP_Engagement_5 -> 0.000 +/- 0.000\n",
            "Emp_Title -> 0.000 +/- 0.000\n",
            "Emp_Work_Status_3 -> 0.000 +/- 0.000\n",
            "Emp_Work_Status_4 -> 0.000 +/- 0.000\n",
            "Emp_Competitive_2 -> 0.000 +/- 0.000\n",
            "Emp_Collaborative_1 -> 0.000 +/- 0.000\n",
            "Emp_Collaborative_3 -> 0.000 +/- 0.000\n",
            "Emp_Identity -> 0.000 +/- 0.000\n",
            "Emp_Competitive_3 -> 0.000 +/- 0.000\n",
            "Emp_Competitive_4 -> 0.000 +/- 0.000\n",
            "last_evaluation -> 0.000 +/- 0.000\n",
            "Percent_Remote -> 0.000 +/- 0.000\n"
          ],
          "name": "stdout"
        }
      ]
    },
    {
      "cell_type": "markdown",
      "metadata": {
        "id": "qDpz8KLvfTPM",
        "colab_type": "text"
      },
      "source": [
        "# **Construindo o Modelo com KNeighbors**\n",
        "\n",
        "O KNeighbors é um classificador que implementa a votação de k-vizinhos mais próximos a cada instância.\n",
        "\n",
        "Iremos repetir os mesmos passos aqui para a construção desse novo modelo."
      ]
    },
    {
      "cell_type": "code",
      "metadata": {
        "id": "UpLumJ0hhy4M",
        "colab_type": "code",
        "colab": {
          "base_uri": "https://localhost:8080/",
          "height": 34
        },
        "outputId": "0005720e-22db-48e0-bb8f-901c4bc199b4"
      },
      "source": [
        "from sklearn.pipeline import Pipeline\n",
        "from sklearn.decomposition import PCA\n",
        "from sklearn.neighbors import KNeighborsClassifier\n",
        "\n",
        "knn_model = Pipeline(steps=[                                                                  \n",
        "    ('PCA', PCA(n_components=2)),\n",
        "    ('knn_clf', KNeighborsClassifier())                   \n",
        "])\n",
        "\n",
        "knn_model.fit(X_train, y_train)\n",
        "\n",
        "y_pred_knn = knn_model.predict(X_test)\n",
        "y_pred_knn"
      ],
      "execution_count": null,
      "outputs": [
        {
          "output_type": "execute_result",
          "data": {
            "text/plain": [
              "array([0., 0., 0., ..., 0., 1., 0.])"
            ]
          },
          "metadata": {
            "tags": []
          },
          "execution_count": 42
        }
      ]
    },
    {
      "cell_type": "code",
      "metadata": {
        "id": "9_YNXcpogSqj",
        "colab_type": "code",
        "colab": {
          "base_uri": "https://localhost:8080/",
          "height": 104
        },
        "outputId": "530ab538-d223-409b-f997-57ba4ed61d1c"
      },
      "source": [
        "knn_model.predict_proba(X_test)[0:5]"
      ],
      "execution_count": null,
      "outputs": [
        {
          "output_type": "execute_result",
          "data": {
            "text/plain": [
              "array([[1. , 0. ],\n",
              "       [1. , 0. ],\n",
              "       [1. , 0. ],\n",
              "       [0.6, 0.4],\n",
              "       [1. , 0. ]])"
            ]
          },
          "metadata": {
            "tags": []
          },
          "execution_count": 43
        }
      ]
    },
    {
      "cell_type": "code",
      "metadata": {
        "id": "tmeFZpppgWXY",
        "colab_type": "code",
        "colab": {
          "base_uri": "https://localhost:8080/",
          "height": 34
        },
        "outputId": "bcb47895-fed1-4709-d963-d5190fc3e379"
      },
      "source": [
        "from sklearn.metrics import accuracy_score\n",
        "\n",
        "accuracy_knn = accuracy_score(y_test, y_pred_knn)\n",
        "print(f'[Acurácia KNN]: {accuracy_knn}')"
      ],
      "execution_count": null,
      "outputs": [
        {
          "output_type": "stream",
          "text": [
            "[Acurácia KNN]: 0.9111111111111111\n"
          ],
          "name": "stdout"
        }
      ]
    },
    {
      "cell_type": "markdown",
      "metadata": {
        "id": "26lrwGXhhHks",
        "colab_type": "text"
      },
      "source": [
        "**Validação Cruzada**"
      ]
    },
    {
      "cell_type": "code",
      "metadata": {
        "id": "W5LPpPGhhDSm",
        "colab_type": "code",
        "colab": {
          "base_uri": "https://localhost:8080/",
          "height": 52
        },
        "outputId": "1caaef07-722d-4836-d6d4-1ce799f2d631"
      },
      "source": [
        "from sklearn.model_selection import cross_validate\n",
        "from sklearn.model_selection import StratifiedKFold\n",
        "\n",
        "SEED = 42\n",
        "np.random.seed(SEED)\n",
        "\n",
        "cv = StratifiedKFold(n_splits = 5, shuffle=True)\n",
        "results_cv_knn = cross_validate(knn_model, X, y, cv=cv, return_train_score=False)\n",
        "\n",
        "mean_cv_knn = results_cv_knn['test_score'].mean()\n",
        "std_cv_knn = results_cv_knn['test_score'].std()\n",
        "print('Accuracy médio KNN - com CV: %.2f' % (mean_cv_knn * 100))\n",
        "print('Accuracy intervalo KNN - com CV = [%.2f, %.2f]' % (\n",
        "    (mean_cv_knn - 2 *std_cv_knn) * 100, (mean_cv_knn + 2 * std_cv_knn) * 100))"
      ],
      "execution_count": null,
      "outputs": [
        {
          "output_type": "stream",
          "text": [
            "Accuracy médio KNN - com CV: 92.10\n",
            "Accuracy intervalo KNN - com CV = [91.13, 93.07]\n"
          ],
          "name": "stdout"
        }
      ]
    },
    {
      "cell_type": "markdown",
      "metadata": {
        "id": "yznuX0uhdIFp",
        "colab_type": "text"
      },
      "source": [
        "Pela acurácia podemos notar que esse modelo está tendo um desempenho bem semelhante ao anterior."
      ]
    },
    {
      "cell_type": "markdown",
      "metadata": {
        "id": "t0eNT9IJiCv-",
        "colab_type": "text"
      },
      "source": [
        "## **Ajustando o Modelo**"
      ]
    },
    {
      "cell_type": "code",
      "metadata": {
        "id": "TAEwpwgGiD3Q",
        "colab_type": "code",
        "colab": {
          "base_uri": "https://localhost:8080/",
          "height": 305
        },
        "outputId": "30d24d87-e7d9-42ee-dfd7-51745a6638c7"
      },
      "source": [
        "from sklearn.model_selection import GridSearchCV\n",
        "from sklearn.model_selection import StratifiedKFold\n",
        "\n",
        "SEED = 42\n",
        "np.random.seed(SEED)\n",
        "cv = StratifiedKFold(n_splits = 5, shuffle=True)\n",
        "\n",
        "param_grid_knn = [\n",
        "    {'knn_clf__n_neighbors': [3, 5, 7], 'knn_clf__weights': ['uniform', 'distance']},\n",
        "]  \n",
        "\n",
        "grid_search_knn = GridSearchCV(knn_model, param_grid_knn, \n",
        "                           cv=StratifiedKFold(n_splits = 5, shuffle=True), \n",
        "                           scoring='accuracy')\n",
        "grid_search_knn.fit(X_train, y_train)\n",
        "\n",
        "results_grid_knn = pd.DataFrame(grid_search_knn.cv_results_)\n",
        "results_grid_knn.head()"
      ],
      "execution_count": null,
      "outputs": [
        {
          "output_type": "execute_result",
          "data": {
            "text/html": [
              "<div>\n",
              "<style scoped>\n",
              "    .dataframe tbody tr th:only-of-type {\n",
              "        vertical-align: middle;\n",
              "    }\n",
              "\n",
              "    .dataframe tbody tr th {\n",
              "        vertical-align: top;\n",
              "    }\n",
              "\n",
              "    .dataframe thead th {\n",
              "        text-align: right;\n",
              "    }\n",
              "</style>\n",
              "<table border=\"1\" class=\"dataframe\">\n",
              "  <thead>\n",
              "    <tr style=\"text-align: right;\">\n",
              "      <th></th>\n",
              "      <th>mean_fit_time</th>\n",
              "      <th>std_fit_time</th>\n",
              "      <th>mean_score_time</th>\n",
              "      <th>std_score_time</th>\n",
              "      <th>param_knn_clf__n_neighbors</th>\n",
              "      <th>param_knn_clf__weights</th>\n",
              "      <th>params</th>\n",
              "      <th>split0_test_score</th>\n",
              "      <th>split1_test_score</th>\n",
              "      <th>split2_test_score</th>\n",
              "      <th>split3_test_score</th>\n",
              "      <th>split4_test_score</th>\n",
              "      <th>mean_test_score</th>\n",
              "      <th>std_test_score</th>\n",
              "      <th>rank_test_score</th>\n",
              "    </tr>\n",
              "  </thead>\n",
              "  <tbody>\n",
              "    <tr>\n",
              "      <th>0</th>\n",
              "      <td>0.060454</td>\n",
              "      <td>0.001430</td>\n",
              "      <td>0.088957</td>\n",
              "      <td>0.002768</td>\n",
              "      <td>3</td>\n",
              "      <td>uniform</td>\n",
              "      <td>{'knn_clf__n_neighbors': 3, 'knn_clf__weights'...</td>\n",
              "      <td>0.920476</td>\n",
              "      <td>0.916190</td>\n",
              "      <td>0.922381</td>\n",
              "      <td>0.921905</td>\n",
              "      <td>0.920438</td>\n",
              "      <td>0.920278</td>\n",
              "      <td>0.002184</td>\n",
              "      <td>1</td>\n",
              "    </tr>\n",
              "    <tr>\n",
              "      <th>1</th>\n",
              "      <td>0.058805</td>\n",
              "      <td>0.001261</td>\n",
              "      <td>0.010990</td>\n",
              "      <td>0.000049</td>\n",
              "      <td>3</td>\n",
              "      <td>distance</td>\n",
              "      <td>{'knn_clf__n_neighbors': 3, 'knn_clf__weights'...</td>\n",
              "      <td>0.917143</td>\n",
              "      <td>0.915238</td>\n",
              "      <td>0.923333</td>\n",
              "      <td>0.920000</td>\n",
              "      <td>0.917103</td>\n",
              "      <td>0.918564</td>\n",
              "      <td>0.002829</td>\n",
              "      <td>4</td>\n",
              "    </tr>\n",
              "    <tr>\n",
              "      <th>2</th>\n",
              "      <td>0.059953</td>\n",
              "      <td>0.004563</td>\n",
              "      <td>0.087190</td>\n",
              "      <td>0.000640</td>\n",
              "      <td>5</td>\n",
              "      <td>uniform</td>\n",
              "      <td>{'knn_clf__n_neighbors': 5, 'knn_clf__weights'...</td>\n",
              "      <td>0.919524</td>\n",
              "      <td>0.917619</td>\n",
              "      <td>0.917619</td>\n",
              "      <td>0.918571</td>\n",
              "      <td>0.917103</td>\n",
              "      <td>0.918087</td>\n",
              "      <td>0.000861</td>\n",
              "      <td>5</td>\n",
              "    </tr>\n",
              "    <tr>\n",
              "      <th>3</th>\n",
              "      <td>0.058209</td>\n",
              "      <td>0.000351</td>\n",
              "      <td>0.012034</td>\n",
              "      <td>0.000066</td>\n",
              "      <td>5</td>\n",
              "      <td>distance</td>\n",
              "      <td>{'knn_clf__n_neighbors': 5, 'knn_clf__weights'...</td>\n",
              "      <td>0.918095</td>\n",
              "      <td>0.915238</td>\n",
              "      <td>0.917619</td>\n",
              "      <td>0.925238</td>\n",
              "      <td>0.919009</td>\n",
              "      <td>0.919040</td>\n",
              "      <td>0.003340</td>\n",
              "      <td>3</td>\n",
              "    </tr>\n",
              "    <tr>\n",
              "      <th>4</th>\n",
              "      <td>0.058362</td>\n",
              "      <td>0.000708</td>\n",
              "      <td>0.089723</td>\n",
              "      <td>0.001789</td>\n",
              "      <td>7</td>\n",
              "      <td>uniform</td>\n",
              "      <td>{'knn_clf__n_neighbors': 7, 'knn_clf__weights'...</td>\n",
              "      <td>0.917619</td>\n",
              "      <td>0.916667</td>\n",
              "      <td>0.917143</td>\n",
              "      <td>0.918571</td>\n",
              "      <td>0.919009</td>\n",
              "      <td>0.917802</td>\n",
              "      <td>0.000872</td>\n",
              "      <td>6</td>\n",
              "    </tr>\n",
              "  </tbody>\n",
              "</table>\n",
              "</div>"
            ],
            "text/plain": [
              "   mean_fit_time  std_fit_time  ...  std_test_score  rank_test_score\n",
              "0       0.060454      0.001430  ...        0.002184                1\n",
              "1       0.058805      0.001261  ...        0.002829                4\n",
              "2       0.059953      0.004563  ...        0.000861                5\n",
              "3       0.058209      0.000351  ...        0.003340                3\n",
              "4       0.058362      0.000708  ...        0.000872                6\n",
              "\n",
              "[5 rows x 15 columns]"
            ]
          },
          "metadata": {
            "tags": []
          },
          "execution_count": 46
        }
      ]
    },
    {
      "cell_type": "code",
      "metadata": {
        "id": "fnOmyj_ai6-n",
        "colab_type": "code",
        "colab": {
          "base_uri": "https://localhost:8080/",
          "height": 34
        },
        "outputId": "445e946e-9951-4ed4-9f3b-999ac849d238"
      },
      "source": [
        "grid_search_knn.best_params_"
      ],
      "execution_count": null,
      "outputs": [
        {
          "output_type": "execute_result",
          "data": {
            "text/plain": [
              "{'knn_clf__n_neighbors': 3, 'knn_clf__weights': 'uniform'}"
            ]
          },
          "metadata": {
            "tags": []
          },
          "execution_count": 47
        }
      ]
    },
    {
      "cell_type": "code",
      "metadata": {
        "id": "ZLYV5rl_EWRE",
        "colab_type": "code",
        "colab": {
          "base_uri": "https://localhost:8080/",
          "height": 207
        },
        "outputId": "fec75a2a-5135-4d39-f4ac-a8182dec3b50"
      },
      "source": [
        "best_est_knn = grid_search_knn.best_estimator_\n",
        "best_est_knn.fit(X_train, y_train)"
      ],
      "execution_count": null,
      "outputs": [
        {
          "output_type": "execute_result",
          "data": {
            "text/plain": [
              "Pipeline(memory=None,\n",
              "         steps=[('PCA',\n",
              "                 PCA(copy=True, iterated_power='auto', n_components=2,\n",
              "                     random_state=None, svd_solver='auto', tol=0.0,\n",
              "                     whiten=False)),\n",
              "                ('knn_clf',\n",
              "                 KNeighborsClassifier(algorithm='auto', leaf_size=30,\n",
              "                                      metric='minkowski', metric_params=None,\n",
              "                                      n_jobs=None, n_neighbors=3, p=2,\n",
              "                                      weights='uniform'))],\n",
              "         verbose=False)"
            ]
          },
          "metadata": {
            "tags": []
          },
          "execution_count": 48
        }
      ]
    },
    {
      "cell_type": "code",
      "metadata": {
        "id": "H6QAvVNPEdqz",
        "colab_type": "code",
        "colab": {}
      },
      "source": [
        "y_pred_acc_knn= best_est_knn.predict(X_test)"
      ],
      "execution_count": null,
      "outputs": []
    },
    {
      "cell_type": "code",
      "metadata": {
        "id": "LU0Z4Oo_EiTJ",
        "colab_type": "code",
        "colab": {
          "base_uri": "https://localhost:8080/",
          "height": 86
        },
        "outputId": "79fb419a-be30-4a6b-baf5-8b7865386ec3"
      },
      "source": [
        "print('Accuracy Score: ' + str(accuracy_score(y_test,y_pred_acc_knn)))\n",
        "print('Precision Score: ' + str(precision_score(y_test,y_pred_acc_knn)))\n",
        "print('Recall Score: ' + str(recall_score(y_test,y_pred_acc_knn)))\n",
        "print('F1 Score: ' + str(f1_score(y_test,y_pred_acc_knn)))"
      ],
      "execution_count": null,
      "outputs": [
        {
          "output_type": "stream",
          "text": [
            "Accuracy Score: 0.9148888888888889\n",
            "Precision Score: 0.8405940594059406\n",
            "Recall Score: 0.7927170868347339\n",
            "F1 Score: 0.8159538683325324\n"
          ],
          "name": "stdout"
        }
      ]
    },
    {
      "cell_type": "markdown",
      "metadata": {
        "id": "90w0H_ucFPc6",
        "colab_type": "text"
      },
      "source": [
        "## **Métricas de Classificação do Modelo - KNN**"
      ]
    },
    {
      "cell_type": "code",
      "metadata": {
        "id": "vjFGtpSLEtu4",
        "colab_type": "code",
        "colab": {
          "base_uri": "https://localhost:8080/",
          "height": 329
        },
        "outputId": "0ec28b95-00e5-40a1-ea25-58fad25a0090"
      },
      "source": [
        "print(confusion_matrix(y_test, y_pred_acc_knn))\n",
        "\n",
        "# plotando a matrix de confusão\n",
        "skplt.metrics.plot_confusion_matrix(y_test, y_pred_acc_knn, normalize=True);"
      ],
      "execution_count": null,
      "outputs": [
        {
          "output_type": "stream",
          "text": [
            "[[3268  161]\n",
            " [ 222  849]]\n"
          ],
          "name": "stdout"
        },
        {
          "output_type": "display_data",
          "data": {
            "image/png": "[encoded data removed]",
            "text/plain": [
              "<Figure size 432x288 with 2 Axes>"
            ]
          },
          "metadata": {
            "tags": [],
            "needs_background": "light"
          }
        }
      ]
    },
    {
      "cell_type": "code",
      "metadata": {
        "id": "2t_N8dRTFVyS",
        "colab_type": "code",
        "colab": {
          "base_uri": "https://localhost:8080/",
          "height": 173
        },
        "outputId": "01c6c91d-9863-4611-b7c6-ef523756531c"
      },
      "source": [
        "from sklearn.metrics import classification_report\n",
        "\n",
        "print(classification_report(y_test, y_pred_acc_knn))"
      ],
      "execution_count": null,
      "outputs": [
        {
          "output_type": "stream",
          "text": [
            "              precision    recall  f1-score   support\n",
            "\n",
            "         0.0       0.94      0.95      0.94      3429\n",
            "         1.0       0.84      0.79      0.82      1071\n",
            "\n",
            "    accuracy                           0.91      4500\n",
            "   macro avg       0.89      0.87      0.88      4500\n",
            "weighted avg       0.91      0.91      0.91      4500\n",
            "\n"
          ],
          "name": "stdout"
        }
      ]
    },
    {
      "cell_type": "markdown",
      "metadata": {
        "id": "ko1-t9pSdkP7",
        "colab_type": "text"
      },
      "source": [
        "Comparando a perfomance dos dois modelos:\n",
        "\n",
        "Ambos tiveram o desempenho parecido como podemos notar mais uma vez."
      ]
    },
    {
      "cell_type": "code",
      "metadata": {
        "id": "yGs3tgh0FfMQ",
        "colab_type": "code",
        "colab": {
          "base_uri": "https://localhost:8080/",
          "height": 242
        },
        "outputId": "1caf2869-2d12-49fa-9a53-8fee11bf5bc2"
      },
      "source": [
        "print('Métricas Random Forest:\\n')\n",
        "print('Accuracy Score: ' + str(accuracy_score(y_test,y_pred_acc_rf)))\n",
        "print('Precision Score: ' + str(precision_score(y_test,y_pred_acc_rf)))\n",
        "print('Recall Score: ' + str(recall_score(y_test,y_pred_acc_rf)))\n",
        "print('F1 Score KNN: ' + str(f1_score(y_test,y_pred_acc_rf)))\n",
        "print('------------------------------------')\n",
        "\n",
        "print('Métricas KNN:\\n')\n",
        "print('Accuracy Score: ' + str(accuracy_score(y_test,y_pred_acc_knn)))\n",
        "print('Precision Score: ' + str(precision_score(y_test,y_pred_acc_knn)))\n",
        "print('Recall Score: ' + str(recall_score(y_test,y_pred_acc_knn)))\n",
        "print('F1 Score KNN: ' + str(f1_score(y_test,y_pred_acc_knn)))"
      ],
      "execution_count": null,
      "outputs": [
        {
          "output_type": "stream",
          "text": [
            "Métricas Random Forest:\n",
            "\n",
            "Accuracy Score: 0.92\n",
            "Precision Score: 0.87940234791889\n",
            "Recall Score: 0.76937441643324\n",
            "F1 Score KNN: 0.8207171314741036\n",
            "------------------------------------\n",
            "Métricas KNN:\n",
            "\n",
            "Accuracy Score: 0.9148888888888889\n",
            "Precision Score: 0.8405940594059406\n",
            "Recall Score: 0.7927170868347339\n",
            "F1 Score KNN: 0.8159538683325324\n"
          ],
          "name": "stdout"
        }
      ]
    }
  ]
}