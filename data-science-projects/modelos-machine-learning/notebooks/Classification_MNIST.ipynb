{
  "nbformat": 4,
  "nbformat_minor": 0,
  "metadata": {
    "colab": {
      "name": "classification-MNIST.ipynb",
      "provenance": []
    },
    "kernelspec": {
      "name": "python3",
      "display_name": "Python 3"
    }
  },
  "cells": [
    {
      "cell_type": "markdown",
      "metadata": {
        "id": "Kyhp8wCGnU07",
        "colab_type": "text"
      },
      "source": [
        "# **MNIST - Classification**\n",
        "\n",
        "This project was made based on chapter 3 of the book *Hands–On Machine Learning with Scikit–Learn and TensorFlow*.\n",
        "\n",
        "<center><img src=\"https://media.giphy.com/media/UtnxCnjWAOL1J6TNUR/giphy.gif\" width=\"300\"></center>"
      ]
    },
    {
      "cell_type": "code",
      "metadata": {
        "id": "4dV21-1znAtq",
        "colab_type": "code",
        "colab": {}
      },
      "source": [
        "import os\n",
        "import pandas as pd\n",
        "import numpy as np\n",
        "\n",
        "np.random.seed(42)\n",
        "\n",
        "import matplotlib as mpl\n",
        "import matplotlib.pyplot as plt\n",
        "mpl.rc('axes', labelsize=14)\n",
        "mpl.rc('xtick', labelsize=12)\n",
        "mpl.rc('ytick', labelsize=12)"
      ],
      "execution_count": 1,
      "outputs": []
    },
    {
      "cell_type": "code",
      "metadata": {
        "id": "_ao1MtbrnTDQ",
        "colab_type": "code",
        "colab": {}
      },
      "source": [
        "def sort_by_target(mnist):\n",
        "  reorder_train = np.array(sorted([(target, i) for i, target in enumerate(mnist.target[:60000])]))[:, 1]\n",
        "  reorder_test = np.array(sorted([(target, i) for i, target in enumerate(mnist.target[60000:])]))[:, 1]\n",
        "  mnist.data[:60000] = mnist.data[reorder_train]\n",
        "  mnist.target[:60000] = mnist.target[reorder_train]\n",
        "  mnist.data[60000:] = mnist.data[reorder_test + 60000]\n",
        "  mnist.target[60000:] = mnist.target[reorder_test + 60000]"
      ],
      "execution_count": 4,
      "outputs": []
    },
    {
      "cell_type": "code",
      "metadata": {
        "id": "xfBxiSu5olVq",
        "colab_type": "code",
        "colab": {}
      },
      "source": [
        "from sklearn.datasets import fetch_openml\n",
        "\n",
        "mnist = fetch_openml('mnist_784', version=1, cache=True)\n",
        "mnist['target'] = mnist['target'].astype(np.int8)\n",
        "sort_by_target(mnist) #fetch_openml() returns an unsorted dataset"
      ],
      "execution_count": 5,
      "outputs": []
    },
    {
      "cell_type": "code",
      "metadata": {
        "id": "FLjz6Eq7o-4b",
        "colab_type": "code",
        "colab": {
          "base_uri": "https://localhost:8080/",
          "height": 1000
        },
        "outputId": "45f6abee-93d3-4170-fa05-2babcef2fb35"
      },
      "source": [
        "mnist"
      ],
      "execution_count": 6,
      "outputs": [
        {
          "output_type": "execute_result",
          "data": {
            "text/plain": [
              "{'DESCR': \"**Author**: Yann LeCun, Corinna Cortes, Christopher J.C. Burges  \\n**Source**: [MNIST Website](http://yann.lecun.com/exdb/mnist/) - Date unknown  \\n**Please cite**:  \\n\\nThe MNIST database of handwritten digits with 784 features, raw data available at: http://yann.lecun.com/exdb/mnist/. It can be split in a training set of the first 60,000 examples, and a test set of 10,000 examples  \\n\\nIt is a subset of a larger set available from NIST. The digits have been size-normalized and centered in a fixed-size image. It is a good database for people who want to try learning techniques and pattern recognition methods on real-world data while spending minimal efforts on preprocessing and formatting. The original black and white (bilevel) images from NIST were size normalized to fit in a 20x20 pixel box while preserving their aspect ratio. The resulting images contain grey levels as a result of the anti-aliasing technique used by the normalization algorithm. the images were centered in a 28x28 image by computing the center of mass of the pixels, and translating the image so as to position this point at the center of the 28x28 field.  \\n\\nWith some classification methods (particularly template-based methods, such as SVM and K-nearest neighbors), the error rate improves when the digits are centered by bounding box rather than center of mass. If you do this kind of pre-processing, you should report it in your publications. The MNIST database was constructed from NIST's NIST originally designated SD-3 as their training set and SD-1 as their test set. However, SD-3 is much cleaner and easier to recognize than SD-1. The reason for this can be found on the fact that SD-3 was collected among Census Bureau employees, while SD-1 was collected among high-school students. Drawing sensible conclusions from learning experiments requires that the result be independent of the choice of training set and test among the complete set of samples. Therefore it was necessary to build a new database by mixing NIST's datasets.  \\n\\nThe MNIST training set is composed of 30,000 patterns from SD-3 and 30,000 patterns from SD-1. Our test set was composed of 5,000 patterns from SD-3 and 5,000 patterns from SD-1. The 60,000 pattern training set contained examples from approximately 250 writers. We made sure that the sets of writers of the training set and test set were disjoint. SD-1 contains 58,527 digit images written by 500 different writers. In contrast to SD-3, where blocks of data from each writer appeared in sequence, the data in SD-1 is scrambled. Writer identities for SD-1 is available and we used this information to unscramble the writers. We then split SD-1 in two: characters written by the first 250 writers went into our new training set. The remaining 250 writers were placed in our test set. Thus we had two sets with nearly 30,000 examples each. The new training set was completed with enough examples from SD-3, starting at pattern # 0, to make a full set of 60,000 training patterns. Similarly, the new test set was completed with SD-3 examples starting at pattern # 35,000 to make a full set with 60,000 test patterns. Only a subset of 10,000 test images (5,000 from SD-1 and 5,000 from SD-3) is available on this site. The full 60,000 sample training set is available.\\n\\nDownloaded from openml.org.\",\n",
              " 'categories': {},\n",
              " 'data': array([[0., 0., 0., ..., 0., 0., 0.],\n",
              "        [0., 0., 0., ..., 0., 0., 0.],\n",
              "        [0., 0., 0., ..., 0., 0., 0.],\n",
              "        ...,\n",
              "        [0., 0., 0., ..., 0., 0., 0.],\n",
              "        [0., 0., 0., ..., 0., 0., 0.],\n",
              "        [0., 0., 0., ..., 0., 0., 0.]]),\n",
              " 'details': {'default_target_attribute': 'class',\n",
              "  'file_id': '52667',\n",
              "  'format': 'ARFF',\n",
              "  'id': '554',\n",
              "  'licence': 'Public',\n",
              "  'md5_checksum': '0298d579eb1b86163de7723944c7e495',\n",
              "  'name': 'mnist_784',\n",
              "  'processing_date': '2018-10-03 21:23:30',\n",
              "  'status': 'active',\n",
              "  'tag': ['AzurePilot',\n",
              "   'OpenML-CC18',\n",
              "   'OpenML100',\n",
              "   'study_1',\n",
              "   'study_123',\n",
              "   'study_41',\n",
              "   'study_99',\n",
              "   'vision'],\n",
              "  'upload_date': '2014-09-29T03:28:38',\n",
              "  'url': 'https://www.openml.org/data/v1/download/52667/mnist_784.arff',\n",
              "  'version': '1',\n",
              "  'visibility': 'public'},\n",
              " 'feature_names': ['pixel1',\n",
              "  'pixel2',\n",
              "  'pixel3',\n",
              "  'pixel4',\n",
              "  'pixel5',\n",
              "  'pixel6',\n",
              "  'pixel7',\n",
              "  'pixel8',\n",
              "  'pixel9',\n",
              "  'pixel10',\n",
              "  'pixel11',\n",
              "  'pixel12',\n",
              "  'pixel13',\n",
              "  'pixel14',\n",
              "  'pixel15',\n",
              "  'pixel16',\n",
              "  'pixel17',\n",
              "  'pixel18',\n",
              "  'pixel19',\n",
              "  'pixel20',\n",
              "  'pixel21',\n",
              "  'pixel22',\n",
              "  'pixel23',\n",
              "  'pixel24',\n",
              "  'pixel25',\n",
              "  'pixel26',\n",
              "  'pixel27',\n",
              "  'pixel28',\n",
              "  'pixel29',\n",
              "  'pixel30',\n",
              "  'pixel31',\n",
              "  'pixel32',\n",
              "  'pixel33',\n",
              "  'pixel34',\n",
              "  'pixel35',\n",
              "  'pixel36',\n",
              "  'pixel37',\n",
              "  'pixel38',\n",
              "  'pixel39',\n",
              "  'pixel40',\n",
              "  'pixel41',\n",
              "  'pixel42',\n",
              "  'pixel43',\n",
              "  'pixel44',\n",
              "  'pixel45',\n",
              "  'pixel46',\n",
              "  'pixel47',\n",
              "  'pixel48',\n",
              "  'pixel49',\n",
              "  'pixel50',\n",
              "  'pixel51',\n",
              "  'pixel52',\n",
              "  'pixel53',\n",
              "  'pixel54',\n",
              "  'pixel55',\n",
              "  'pixel56',\n",
              "  'pixel57',\n",
              "  'pixel58',\n",
              "  'pixel59',\n",
              "  'pixel60',\n",
              "  'pixel61',\n",
              "  'pixel62',\n",
              "  'pixel63',\n",
              "  'pixel64',\n",
              "  'pixel65',\n",
              "  'pixel66',\n",
              "  'pixel67',\n",
              "  'pixel68',\n",
              "  'pixel69',\n",
              "  'pixel70',\n",
              "  'pixel71',\n",
              "  'pixel72',\n",
              "  'pixel73',\n",
              "  'pixel74',\n",
              "  'pixel75',\n",
              "  'pixel76',\n",
              "  'pixel77',\n",
              "  'pixel78',\n",
              "  'pixel79',\n",
              "  'pixel80',\n",
              "  'pixel81',\n",
              "  'pixel82',\n",
              "  'pixel83',\n",
              "  'pixel84',\n",
              "  'pixel85',\n",
              "  'pixel86',\n",
              "  'pixel87',\n",
              "  'pixel88',\n",
              "  'pixel89',\n",
              "  'pixel90',\n",
              "  'pixel91',\n",
              "  'pixel92',\n",
              "  'pixel93',\n",
              "  'pixel94',\n",
              "  'pixel95',\n",
              "  'pixel96',\n",
              "  'pixel97',\n",
              "  'pixel98',\n",
              "  'pixel99',\n",
              "  'pixel100',\n",
              "  'pixel101',\n",
              "  'pixel102',\n",
              "  'pixel103',\n",
              "  'pixel104',\n",
              "  'pixel105',\n",
              "  'pixel106',\n",
              "  'pixel107',\n",
              "  'pixel108',\n",
              "  'pixel109',\n",
              "  'pixel110',\n",
              "  'pixel111',\n",
              "  'pixel112',\n",
              "  'pixel113',\n",
              "  'pixel114',\n",
              "  'pixel115',\n",
              "  'pixel116',\n",
              "  'pixel117',\n",
              "  'pixel118',\n",
              "  'pixel119',\n",
              "  'pixel120',\n",
              "  'pixel121',\n",
              "  'pixel122',\n",
              "  'pixel123',\n",
              "  'pixel124',\n",
              "  'pixel125',\n",
              "  'pixel126',\n",
              "  'pixel127',\n",
              "  'pixel128',\n",
              "  'pixel129',\n",
              "  'pixel130',\n",
              "  'pixel131',\n",
              "  'pixel132',\n",
              "  'pixel133',\n",
              "  'pixel134',\n",
              "  'pixel135',\n",
              "  'pixel136',\n",
              "  'pixel137',\n",
              "  'pixel138',\n",
              "  'pixel139',\n",
              "  'pixel140',\n",
              "  'pixel141',\n",
              "  'pixel142',\n",
              "  'pixel143',\n",
              "  'pixel144',\n",
              "  'pixel145',\n",
              "  'pixel146',\n",
              "  'pixel147',\n",
              "  'pixel148',\n",
              "  'pixel149',\n",
              "  'pixel150',\n",
              "  'pixel151',\n",
              "  'pixel152',\n",
              "  'pixel153',\n",
              "  'pixel154',\n",
              "  'pixel155',\n",
              "  'pixel156',\n",
              "  'pixel157',\n",
              "  'pixel158',\n",
              "  'pixel159',\n",
              "  'pixel160',\n",
              "  'pixel161',\n",
              "  'pixel162',\n",
              "  'pixel163',\n",
              "  'pixel164',\n",
              "  'pixel165',\n",
              "  'pixel166',\n",
              "  'pixel167',\n",
              "  'pixel168',\n",
              "  'pixel169',\n",
              "  'pixel170',\n",
              "  'pixel171',\n",
              "  'pixel172',\n",
              "  'pixel173',\n",
              "  'pixel174',\n",
              "  'pixel175',\n",
              "  'pixel176',\n",
              "  'pixel177',\n",
              "  'pixel178',\n",
              "  'pixel179',\n",
              "  'pixel180',\n",
              "  'pixel181',\n",
              "  'pixel182',\n",
              "  'pixel183',\n",
              "  'pixel184',\n",
              "  'pixel185',\n",
              "  'pixel186',\n",
              "  'pixel187',\n",
              "  'pixel188',\n",
              "  'pixel189',\n",
              "  'pixel190',\n",
              "  'pixel191',\n",
              "  'pixel192',\n",
              "  'pixel193',\n",
              "  'pixel194',\n",
              "  'pixel195',\n",
              "  'pixel196',\n",
              "  'pixel197',\n",
              "  'pixel198',\n",
              "  'pixel199',\n",
              "  'pixel200',\n",
              "  'pixel201',\n",
              "  'pixel202',\n",
              "  'pixel203',\n",
              "  'pixel204',\n",
              "  'pixel205',\n",
              "  'pixel206',\n",
              "  'pixel207',\n",
              "  'pixel208',\n",
              "  'pixel209',\n",
              "  'pixel210',\n",
              "  'pixel211',\n",
              "  'pixel212',\n",
              "  'pixel213',\n",
              "  'pixel214',\n",
              "  'pixel215',\n",
              "  'pixel216',\n",
              "  'pixel217',\n",
              "  'pixel218',\n",
              "  'pixel219',\n",
              "  'pixel220',\n",
              "  'pixel221',\n",
              "  'pixel222',\n",
              "  'pixel223',\n",
              "  'pixel224',\n",
              "  'pixel225',\n",
              "  'pixel226',\n",
              "  'pixel227',\n",
              "  'pixel228',\n",
              "  'pixel229',\n",
              "  'pixel230',\n",
              "  'pixel231',\n",
              "  'pixel232',\n",
              "  'pixel233',\n",
              "  'pixel234',\n",
              "  'pixel235',\n",
              "  'pixel236',\n",
              "  'pixel237',\n",
              "  'pixel238',\n",
              "  'pixel239',\n",
              "  'pixel240',\n",
              "  'pixel241',\n",
              "  'pixel242',\n",
              "  'pixel243',\n",
              "  'pixel244',\n",
              "  'pixel245',\n",
              "  'pixel246',\n",
              "  'pixel247',\n",
              "  'pixel248',\n",
              "  'pixel249',\n",
              "  'pixel250',\n",
              "  'pixel251',\n",
              "  'pixel252',\n",
              "  'pixel253',\n",
              "  'pixel254',\n",
              "  'pixel255',\n",
              "  'pixel256',\n",
              "  'pixel257',\n",
              "  'pixel258',\n",
              "  'pixel259',\n",
              "  'pixel260',\n",
              "  'pixel261',\n",
              "  'pixel262',\n",
              "  'pixel263',\n",
              "  'pixel264',\n",
              "  'pixel265',\n",
              "  'pixel266',\n",
              "  'pixel267',\n",
              "  'pixel268',\n",
              "  'pixel269',\n",
              "  'pixel270',\n",
              "  'pixel271',\n",
              "  'pixel272',\n",
              "  'pixel273',\n",
              "  'pixel274',\n",
              "  'pixel275',\n",
              "  'pixel276',\n",
              "  'pixel277',\n",
              "  'pixel278',\n",
              "  'pixel279',\n",
              "  'pixel280',\n",
              "  'pixel281',\n",
              "  'pixel282',\n",
              "  'pixel283',\n",
              "  'pixel284',\n",
              "  'pixel285',\n",
              "  'pixel286',\n",
              "  'pixel287',\n",
              "  'pixel288',\n",
              "  'pixel289',\n",
              "  'pixel290',\n",
              "  'pixel291',\n",
              "  'pixel292',\n",
              "  'pixel293',\n",
              "  'pixel294',\n",
              "  'pixel295',\n",
              "  'pixel296',\n",
              "  'pixel297',\n",
              "  'pixel298',\n",
              "  'pixel299',\n",
              "  'pixel300',\n",
              "  'pixel301',\n",
              "  'pixel302',\n",
              "  'pixel303',\n",
              "  'pixel304',\n",
              "  'pixel305',\n",
              "  'pixel306',\n",
              "  'pixel307',\n",
              "  'pixel308',\n",
              "  'pixel309',\n",
              "  'pixel310',\n",
              "  'pixel311',\n",
              "  'pixel312',\n",
              "  'pixel313',\n",
              "  'pixel314',\n",
              "  'pixel315',\n",
              "  'pixel316',\n",
              "  'pixel317',\n",
              "  'pixel318',\n",
              "  'pixel319',\n",
              "  'pixel320',\n",
              "  'pixel321',\n",
              "  'pixel322',\n",
              "  'pixel323',\n",
              "  'pixel324',\n",
              "  'pixel325',\n",
              "  'pixel326',\n",
              "  'pixel327',\n",
              "  'pixel328',\n",
              "  'pixel329',\n",
              "  'pixel330',\n",
              "  'pixel331',\n",
              "  'pixel332',\n",
              "  'pixel333',\n",
              "  'pixel334',\n",
              "  'pixel335',\n",
              "  'pixel336',\n",
              "  'pixel337',\n",
              "  'pixel338',\n",
              "  'pixel339',\n",
              "  'pixel340',\n",
              "  'pixel341',\n",
              "  'pixel342',\n",
              "  'pixel343',\n",
              "  'pixel344',\n",
              "  'pixel345',\n",
              "  'pixel346',\n",
              "  'pixel347',\n",
              "  'pixel348',\n",
              "  'pixel349',\n",
              "  'pixel350',\n",
              "  'pixel351',\n",
              "  'pixel352',\n",
              "  'pixel353',\n",
              "  'pixel354',\n",
              "  'pixel355',\n",
              "  'pixel356',\n",
              "  'pixel357',\n",
              "  'pixel358',\n",
              "  'pixel359',\n",
              "  'pixel360',\n",
              "  'pixel361',\n",
              "  'pixel362',\n",
              "  'pixel363',\n",
              "  'pixel364',\n",
              "  'pixel365',\n",
              "  'pixel366',\n",
              "  'pixel367',\n",
              "  'pixel368',\n",
              "  'pixel369',\n",
              "  'pixel370',\n",
              "  'pixel371',\n",
              "  'pixel372',\n",
              "  'pixel373',\n",
              "  'pixel374',\n",
              "  'pixel375',\n",
              "  'pixel376',\n",
              "  'pixel377',\n",
              "  'pixel378',\n",
              "  'pixel379',\n",
              "  'pixel380',\n",
              "  'pixel381',\n",
              "  'pixel382',\n",
              "  'pixel383',\n",
              "  'pixel384',\n",
              "  'pixel385',\n",
              "  'pixel386',\n",
              "  'pixel387',\n",
              "  'pixel388',\n",
              "  'pixel389',\n",
              "  'pixel390',\n",
              "  'pixel391',\n",
              "  'pixel392',\n",
              "  'pixel393',\n",
              "  'pixel394',\n",
              "  'pixel395',\n",
              "  'pixel396',\n",
              "  'pixel397',\n",
              "  'pixel398',\n",
              "  'pixel399',\n",
              "  'pixel400',\n",
              "  'pixel401',\n",
              "  'pixel402',\n",
              "  'pixel403',\n",
              "  'pixel404',\n",
              "  'pixel405',\n",
              "  'pixel406',\n",
              "  'pixel407',\n",
              "  'pixel408',\n",
              "  'pixel409',\n",
              "  'pixel410',\n",
              "  'pixel411',\n",
              "  'pixel412',\n",
              "  'pixel413',\n",
              "  'pixel414',\n",
              "  'pixel415',\n",
              "  'pixel416',\n",
              "  'pixel417',\n",
              "  'pixel418',\n",
              "  'pixel419',\n",
              "  'pixel420',\n",
              "  'pixel421',\n",
              "  'pixel422',\n",
              "  'pixel423',\n",
              "  'pixel424',\n",
              "  'pixel425',\n",
              "  'pixel426',\n",
              "  'pixel427',\n",
              "  'pixel428',\n",
              "  'pixel429',\n",
              "  'pixel430',\n",
              "  'pixel431',\n",
              "  'pixel432',\n",
              "  'pixel433',\n",
              "  'pixel434',\n",
              "  'pixel435',\n",
              "  'pixel436',\n",
              "  'pixel437',\n",
              "  'pixel438',\n",
              "  'pixel439',\n",
              "  'pixel440',\n",
              "  'pixel441',\n",
              "  'pixel442',\n",
              "  'pixel443',\n",
              "  'pixel444',\n",
              "  'pixel445',\n",
              "  'pixel446',\n",
              "  'pixel447',\n",
              "  'pixel448',\n",
              "  'pixel449',\n",
              "  'pixel450',\n",
              "  'pixel451',\n",
              "  'pixel452',\n",
              "  'pixel453',\n",
              "  'pixel454',\n",
              "  'pixel455',\n",
              "  'pixel456',\n",
              "  'pixel457',\n",
              "  'pixel458',\n",
              "  'pixel459',\n",
              "  'pixel460',\n",
              "  'pixel461',\n",
              "  'pixel462',\n",
              "  'pixel463',\n",
              "  'pixel464',\n",
              "  'pixel465',\n",
              "  'pixel466',\n",
              "  'pixel467',\n",
              "  'pixel468',\n",
              "  'pixel469',\n",
              "  'pixel470',\n",
              "  'pixel471',\n",
              "  'pixel472',\n",
              "  'pixel473',\n",
              "  'pixel474',\n",
              "  'pixel475',\n",
              "  'pixel476',\n",
              "  'pixel477',\n",
              "  'pixel478',\n",
              "  'pixel479',\n",
              "  'pixel480',\n",
              "  'pixel481',\n",
              "  'pixel482',\n",
              "  'pixel483',\n",
              "  'pixel484',\n",
              "  'pixel485',\n",
              "  'pixel486',\n",
              "  'pixel487',\n",
              "  'pixel488',\n",
              "  'pixel489',\n",
              "  'pixel490',\n",
              "  'pixel491',\n",
              "  'pixel492',\n",
              "  'pixel493',\n",
              "  'pixel494',\n",
              "  'pixel495',\n",
              "  'pixel496',\n",
              "  'pixel497',\n",
              "  'pixel498',\n",
              "  'pixel499',\n",
              "  'pixel500',\n",
              "  'pixel501',\n",
              "  'pixel502',\n",
              "  'pixel503',\n",
              "  'pixel504',\n",
              "  'pixel505',\n",
              "  'pixel506',\n",
              "  'pixel507',\n",
              "  'pixel508',\n",
              "  'pixel509',\n",
              "  'pixel510',\n",
              "  'pixel511',\n",
              "  'pixel512',\n",
              "  'pixel513',\n",
              "  'pixel514',\n",
              "  'pixel515',\n",
              "  'pixel516',\n",
              "  'pixel517',\n",
              "  'pixel518',\n",
              "  'pixel519',\n",
              "  'pixel520',\n",
              "  'pixel521',\n",
              "  'pixel522',\n",
              "  'pixel523',\n",
              "  'pixel524',\n",
              "  'pixel525',\n",
              "  'pixel526',\n",
              "  'pixel527',\n",
              "  'pixel528',\n",
              "  'pixel529',\n",
              "  'pixel530',\n",
              "  'pixel531',\n",
              "  'pixel532',\n",
              "  'pixel533',\n",
              "  'pixel534',\n",
              "  'pixel535',\n",
              "  'pixel536',\n",
              "  'pixel537',\n",
              "  'pixel538',\n",
              "  'pixel539',\n",
              "  'pixel540',\n",
              "  'pixel541',\n",
              "  'pixel542',\n",
              "  'pixel543',\n",
              "  'pixel544',\n",
              "  'pixel545',\n",
              "  'pixel546',\n",
              "  'pixel547',\n",
              "  'pixel548',\n",
              "  'pixel549',\n",
              "  'pixel550',\n",
              "  'pixel551',\n",
              "  'pixel552',\n",
              "  'pixel553',\n",
              "  'pixel554',\n",
              "  'pixel555',\n",
              "  'pixel556',\n",
              "  'pixel557',\n",
              "  'pixel558',\n",
              "  'pixel559',\n",
              "  'pixel560',\n",
              "  'pixel561',\n",
              "  'pixel562',\n",
              "  'pixel563',\n",
              "  'pixel564',\n",
              "  'pixel565',\n",
              "  'pixel566',\n",
              "  'pixel567',\n",
              "  'pixel568',\n",
              "  'pixel569',\n",
              "  'pixel570',\n",
              "  'pixel571',\n",
              "  'pixel572',\n",
              "  'pixel573',\n",
              "  'pixel574',\n",
              "  'pixel575',\n",
              "  'pixel576',\n",
              "  'pixel577',\n",
              "  'pixel578',\n",
              "  'pixel579',\n",
              "  'pixel580',\n",
              "  'pixel581',\n",
              "  'pixel582',\n",
              "  'pixel583',\n",
              "  'pixel584',\n",
              "  'pixel585',\n",
              "  'pixel586',\n",
              "  'pixel587',\n",
              "  'pixel588',\n",
              "  'pixel589',\n",
              "  'pixel590',\n",
              "  'pixel591',\n",
              "  'pixel592',\n",
              "  'pixel593',\n",
              "  'pixel594',\n",
              "  'pixel595',\n",
              "  'pixel596',\n",
              "  'pixel597',\n",
              "  'pixel598',\n",
              "  'pixel599',\n",
              "  'pixel600',\n",
              "  'pixel601',\n",
              "  'pixel602',\n",
              "  'pixel603',\n",
              "  'pixel604',\n",
              "  'pixel605',\n",
              "  'pixel606',\n",
              "  'pixel607',\n",
              "  'pixel608',\n",
              "  'pixel609',\n",
              "  'pixel610',\n",
              "  'pixel611',\n",
              "  'pixel612',\n",
              "  'pixel613',\n",
              "  'pixel614',\n",
              "  'pixel615',\n",
              "  'pixel616',\n",
              "  'pixel617',\n",
              "  'pixel618',\n",
              "  'pixel619',\n",
              "  'pixel620',\n",
              "  'pixel621',\n",
              "  'pixel622',\n",
              "  'pixel623',\n",
              "  'pixel624',\n",
              "  'pixel625',\n",
              "  'pixel626',\n",
              "  'pixel627',\n",
              "  'pixel628',\n",
              "  'pixel629',\n",
              "  'pixel630',\n",
              "  'pixel631',\n",
              "  'pixel632',\n",
              "  'pixel633',\n",
              "  'pixel634',\n",
              "  'pixel635',\n",
              "  'pixel636',\n",
              "  'pixel637',\n",
              "  'pixel638',\n",
              "  'pixel639',\n",
              "  'pixel640',\n",
              "  'pixel641',\n",
              "  'pixel642',\n",
              "  'pixel643',\n",
              "  'pixel644',\n",
              "  'pixel645',\n",
              "  'pixel646',\n",
              "  'pixel647',\n",
              "  'pixel648',\n",
              "  'pixel649',\n",
              "  'pixel650',\n",
              "  'pixel651',\n",
              "  'pixel652',\n",
              "  'pixel653',\n",
              "  'pixel654',\n",
              "  'pixel655',\n",
              "  'pixel656',\n",
              "  'pixel657',\n",
              "  'pixel658',\n",
              "  'pixel659',\n",
              "  'pixel660',\n",
              "  'pixel661',\n",
              "  'pixel662',\n",
              "  'pixel663',\n",
              "  'pixel664',\n",
              "  'pixel665',\n",
              "  'pixel666',\n",
              "  'pixel667',\n",
              "  'pixel668',\n",
              "  'pixel669',\n",
              "  'pixel670',\n",
              "  'pixel671',\n",
              "  'pixel672',\n",
              "  'pixel673',\n",
              "  'pixel674',\n",
              "  'pixel675',\n",
              "  'pixel676',\n",
              "  'pixel677',\n",
              "  'pixel678',\n",
              "  'pixel679',\n",
              "  'pixel680',\n",
              "  'pixel681',\n",
              "  'pixel682',\n",
              "  'pixel683',\n",
              "  'pixel684',\n",
              "  'pixel685',\n",
              "  'pixel686',\n",
              "  'pixel687',\n",
              "  'pixel688',\n",
              "  'pixel689',\n",
              "  'pixel690',\n",
              "  'pixel691',\n",
              "  'pixel692',\n",
              "  'pixel693',\n",
              "  'pixel694',\n",
              "  'pixel695',\n",
              "  'pixel696',\n",
              "  'pixel697',\n",
              "  'pixel698',\n",
              "  'pixel699',\n",
              "  'pixel700',\n",
              "  'pixel701',\n",
              "  'pixel702',\n",
              "  'pixel703',\n",
              "  'pixel704',\n",
              "  'pixel705',\n",
              "  'pixel706',\n",
              "  'pixel707',\n",
              "  'pixel708',\n",
              "  'pixel709',\n",
              "  'pixel710',\n",
              "  'pixel711',\n",
              "  'pixel712',\n",
              "  'pixel713',\n",
              "  'pixel714',\n",
              "  'pixel715',\n",
              "  'pixel716',\n",
              "  'pixel717',\n",
              "  'pixel718',\n",
              "  'pixel719',\n",
              "  'pixel720',\n",
              "  'pixel721',\n",
              "  'pixel722',\n",
              "  'pixel723',\n",
              "  'pixel724',\n",
              "  'pixel725',\n",
              "  'pixel726',\n",
              "  'pixel727',\n",
              "  'pixel728',\n",
              "  'pixel729',\n",
              "  'pixel730',\n",
              "  'pixel731',\n",
              "  'pixel732',\n",
              "  'pixel733',\n",
              "  'pixel734',\n",
              "  'pixel735',\n",
              "  'pixel736',\n",
              "  'pixel737',\n",
              "  'pixel738',\n",
              "  'pixel739',\n",
              "  'pixel740',\n",
              "  'pixel741',\n",
              "  'pixel742',\n",
              "  'pixel743',\n",
              "  'pixel744',\n",
              "  'pixel745',\n",
              "  'pixel746',\n",
              "  'pixel747',\n",
              "  'pixel748',\n",
              "  'pixel749',\n",
              "  'pixel750',\n",
              "  'pixel751',\n",
              "  'pixel752',\n",
              "  'pixel753',\n",
              "  'pixel754',\n",
              "  'pixel755',\n",
              "  'pixel756',\n",
              "  'pixel757',\n",
              "  'pixel758',\n",
              "  'pixel759',\n",
              "  'pixel760',\n",
              "  'pixel761',\n",
              "  'pixel762',\n",
              "  'pixel763',\n",
              "  'pixel764',\n",
              "  'pixel765',\n",
              "  'pixel766',\n",
              "  'pixel767',\n",
              "  'pixel768',\n",
              "  'pixel769',\n",
              "  'pixel770',\n",
              "  'pixel771',\n",
              "  'pixel772',\n",
              "  'pixel773',\n",
              "  'pixel774',\n",
              "  'pixel775',\n",
              "  'pixel776',\n",
              "  'pixel777',\n",
              "  'pixel778',\n",
              "  'pixel779',\n",
              "  'pixel780',\n",
              "  'pixel781',\n",
              "  'pixel782',\n",
              "  'pixel783',\n",
              "  'pixel784'],\n",
              " 'frame': None,\n",
              " 'target': array([0, 0, 0, ..., 9, 9, 9], dtype=int8),\n",
              " 'target_names': ['class'],\n",
              " 'url': 'https://www.openml.org/d/554'}"
            ]
          },
          "metadata": {
            "tags": []
          },
          "execution_count": 6
        }
      ]
    },
    {
      "cell_type": "code",
      "metadata": {
        "id": "mwYFU8nWpFUO",
        "colab_type": "code",
        "colab": {
          "base_uri": "https://localhost:8080/",
          "height": 134
        },
        "outputId": "b7121fd2-2bb2-49be-a165-78aa39dab47b"
      },
      "source": [
        "mnist['data']"
      ],
      "execution_count": 7,
      "outputs": [
        {
          "output_type": "execute_result",
          "data": {
            "text/plain": [
              "array([[0., 0., 0., ..., 0., 0., 0.],\n",
              "       [0., 0., 0., ..., 0., 0., 0.],\n",
              "       [0., 0., 0., ..., 0., 0., 0.],\n",
              "       ...,\n",
              "       [0., 0., 0., ..., 0., 0., 0.],\n",
              "       [0., 0., 0., ..., 0., 0., 0.],\n",
              "       [0., 0., 0., ..., 0., 0., 0.]])"
            ]
          },
          "metadata": {
            "tags": []
          },
          "execution_count": 7
        }
      ]
    },
    {
      "cell_type": "code",
      "metadata": {
        "id": "FjWs-MX_pa7Z",
        "colab_type": "code",
        "colab": {
          "base_uri": "https://localhost:8080/",
          "height": 34
        },
        "outputId": "827bf6e7-b9d0-45ed-b1ca-4188b8cf48f4"
      },
      "source": [
        "mnist['data'].shape"
      ],
      "execution_count": 8,
      "outputs": [
        {
          "output_type": "execute_result",
          "data": {
            "text/plain": [
              "(70000, 784)"
            ]
          },
          "metadata": {
            "tags": []
          },
          "execution_count": 8
        }
      ]
    },
    {
      "cell_type": "code",
      "metadata": {
        "id": "4mxPqCYwpe3D",
        "colab_type": "code",
        "colab": {
          "base_uri": "https://localhost:8080/",
          "height": 34
        },
        "outputId": "98a97eef-018e-49f1-c241-e7b66823ea38"
      },
      "source": [
        "mnist['target']"
      ],
      "execution_count": 9,
      "outputs": [
        {
          "output_type": "execute_result",
          "data": {
            "text/plain": [
              "array([0, 0, 0, ..., 9, 9, 9], dtype=int8)"
            ]
          },
          "metadata": {
            "tags": []
          },
          "execution_count": 9
        }
      ]
    },
    {
      "cell_type": "code",
      "metadata": {
        "id": "RJoAln_GpgbN",
        "colab_type": "code",
        "colab": {
          "base_uri": "https://localhost:8080/",
          "height": 34
        },
        "outputId": "40fab5c8-4897-4938-b973-f9457eff03bd"
      },
      "source": [
        "mnist['target'].shape"
      ],
      "execution_count": 10,
      "outputs": [
        {
          "output_type": "execute_result",
          "data": {
            "text/plain": [
              "(70000,)"
            ]
          },
          "metadata": {
            "tags": []
          },
          "execution_count": 10
        }
      ]
    },
    {
      "cell_type": "code",
      "metadata": {
        "id": "u6kMdYd_pijO",
        "colab_type": "code",
        "colab": {
          "base_uri": "https://localhost:8080/",
          "height": 34
        },
        "outputId": "9d85eab7-e0f7-4f8b-e603-af111bb9fbc0"
      },
      "source": [
        "X, y = mnist['data'], mnist['target']\n",
        "X.shape"
      ],
      "execution_count": 11,
      "outputs": [
        {
          "output_type": "execute_result",
          "data": {
            "text/plain": [
              "(70000, 784)"
            ]
          },
          "metadata": {
            "tags": []
          },
          "execution_count": 11
        }
      ]
    },
    {
      "cell_type": "code",
      "metadata": {
        "id": "jq9-ihV-pqd-",
        "colab_type": "code",
        "colab": {
          "base_uri": "https://localhost:8080/",
          "height": 34
        },
        "outputId": "19778501-2809-4c2d-bfef-d21309019f15"
      },
      "source": [
        "28*28"
      ],
      "execution_count": 12,
      "outputs": [
        {
          "output_type": "execute_result",
          "data": {
            "text/plain": [
              "784"
            ]
          },
          "metadata": {
            "tags": []
          },
          "execution_count": 12
        }
      ]
    },
    {
      "cell_type": "code",
      "metadata": {
        "id": "LFXcRybJpr0_",
        "colab_type": "code",
        "colab": {
          "base_uri": "https://localhost:8080/",
          "height": 248
        },
        "outputId": "06e4971a-c1f2-4fa3-91c1-25e97df738a6"
      },
      "source": [
        "some_digit = X[36000]\n",
        "some_digit_image = some_digit.reshape(28, 28)\n",
        "\n",
        "plt.imshow(some_digit_image, cmap=mpl.cm.binary,\n",
        "           interpolation='nearest')\n",
        "plt.axis('off')\n",
        "plt.show()"
      ],
      "execution_count": 14,
      "outputs": [
        {
          "output_type": "display_data",
          "data": {
            "image/png": "[encoded data removed]",
            "text/plain": [
              "<Figure size 432x288 with 1 Axes>"
            ]
          },
          "metadata": {
            "tags": [],
            "needs_background": "light"
          }
        }
      ]
    },
    {
      "cell_type": "code",
      "metadata": {
        "id": "Bd6PWxwtp8Ca",
        "colab_type": "code",
        "colab": {
          "base_uri": "https://localhost:8080/",
          "height": 34
        },
        "outputId": "26d21be4-a0e9-4d79-b5d7-83af20e3e367"
      },
      "source": [
        "y[36000]"
      ],
      "execution_count": 15,
      "outputs": [
        {
          "output_type": "execute_result",
          "data": {
            "text/plain": [
              "5"
            ]
          },
          "metadata": {
            "tags": []
          },
          "execution_count": 15
        }
      ]
    },
    {
      "cell_type": "code",
      "metadata": {
        "id": "pQuOXRjPqDLb",
        "colab_type": "code",
        "colab": {}
      },
      "source": [
        "def plot_digit(data):\n",
        "  image = data.reshape(28, 28)\n",
        "  plt.imshow(some_digit_image, cmap=mpl.cm.binary,\n",
        "           interpolation='nearest')\n",
        "  plt.axis('off')"
      ],
      "execution_count": 16,
      "outputs": []
    },
    {
      "cell_type": "markdown",
      "metadata": {
        "id": "Tc7l6eISqXtd",
        "colab_type": "text"
      },
      "source": [
        "**Some digits**"
      ]
    },
    {
      "cell_type": "markdown",
      "metadata": {
        "id": "6gUxOSf-RZuu",
        "colab_type": "text"
      },
      "source": [
        "![image.png](data:image/png;base64,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)"
      ]
    },
    {
      "cell_type": "markdown",
      "metadata": {
        "id": "nGsnaAIgrMGi",
        "colab_type": "text"
      },
      "source": [
        "Criando um conjunto de treino e teste, os dados da MNIST já estão dividido em conjunto de treinamento (as primeiras 60 mil imagens) e um conjunto de teste (as últimas 10 mil imagens)"
      ]
    },
    {
      "cell_type": "code",
      "metadata": {
        "id": "FoS6u0TyqPOg",
        "colab_type": "code",
        "colab": {}
      },
      "source": [
        "X_train, X_test, y_train, y_test = X[:60000], X[60000:], y[:60000], y[60000:]"
      ],
      "execution_count": 17,
      "outputs": []
    },
    {
      "cell_type": "markdown",
      "metadata": {
        "id": "wmsfSDNhrOxY",
        "colab_type": "text"
      },
      "source": [
        "Let's shuffle the training set, this will ensure that all subsets of the cross-validation are similar (so you make sure that no subsets are left without any digits). In addition, some ML algorithms are sensitive to the order of the training instances and, if they obtain many similar instances, they will malfunction. Shuffling the data set ensures that this does not happen."
      ]
    },
    {
      "cell_type": "code",
      "metadata": {
        "id": "EItoxzugrMy8",
        "colab_type": "code",
        "colab": {}
      },
      "source": [
        "shuffle_index = np.random.permutation(60000)\n",
        "X_train, y_train = X_train[shuffle_index], y_train[shuffle_index]"
      ],
      "execution_count": 18,
      "outputs": []
    },
    {
      "cell_type": "markdown",
      "metadata": {
        "id": "oqLWRzwyrgbr",
        "colab_type": "text"
      },
      "source": [
        "## **Binary Classifier**\n",
        "\n",
        "For simplicity, we will first create a single digit identifier (**digit 5**)."
      ]
    },
    {
      "cell_type": "code",
      "metadata": {
        "id": "1aVwieYVrfPr",
        "colab_type": "code",
        "colab": {}
      },
      "source": [
        "y_train_5 = (y_train == 5)\n",
        "y_test_5 = (y_test == 5)"
      ],
      "execution_count": 19,
      "outputs": []
    },
    {
      "cell_type": "code",
      "metadata": {
        "id": "ayA38QyWsRgh",
        "colab_type": "code",
        "colab": {
          "base_uri": "https://localhost:8080/",
          "height": 34
        },
        "outputId": "18854562-d003-4bb8-ebb4-b1be5fafdd41"
      },
      "source": [
        "y_train_5"
      ],
      "execution_count": 20,
      "outputs": [
        {
          "output_type": "execute_result",
          "data": {
            "text/plain": [
              "array([False, False, False, ..., False, False, False])"
            ]
          },
          "metadata": {
            "tags": []
          },
          "execution_count": 20
        }
      ]
    },
    {
      "cell_type": "markdown",
      "metadata": {
        "id": "1pKwuOl6sUMn",
        "colab_type": "text"
      },
      "source": [
        "### **SGDClassifier**"
      ]
    },
    {
      "cell_type": "code",
      "metadata": {
        "id": "QNKSALjOsS2n",
        "colab_type": "code",
        "colab": {
          "base_uri": "https://localhost:8080/",
          "height": 118
        },
        "outputId": "a64c631f-c198-4c43-e23d-d909809a55cf"
      },
      "source": [
        "from sklearn.linear_model import SGDClassifier\n",
        "\n",
        "sgd_clf = SGDClassifier(max_iter=5, tol=-np.infty, random_state=42)\n",
        "sgd_clf.fit(X_train, y_train_5)"
      ],
      "execution_count": 21,
      "outputs": [
        {
          "output_type": "execute_result",
          "data": {
            "text/plain": [
              "SGDClassifier(alpha=0.0001, average=False, class_weight=None,\n",
              "              early_stopping=False, epsilon=0.1, eta0=0.0, fit_intercept=True,\n",
              "              l1_ratio=0.15, learning_rate='optimal', loss='hinge', max_iter=5,\n",
              "              n_iter_no_change=5, n_jobs=None, penalty='l2', power_t=0.5,\n",
              "              random_state=42, shuffle=True, tol=-inf, validation_fraction=0.1,\n",
              "              verbose=0, warm_start=False)"
            ]
          },
          "metadata": {
            "tags": []
          },
          "execution_count": 21
        }
      ]
    },
    {
      "cell_type": "code",
      "metadata": {
        "id": "m6KVjrF-sxkL",
        "colab_type": "code",
        "colab": {
          "base_uri": "https://localhost:8080/",
          "height": 34
        },
        "outputId": "0b3f7b41-00c2-4a7e-b804-02ee90a07f25"
      },
      "source": [
        "sgd_clf.predict([some_digit])"
      ],
      "execution_count": 22,
      "outputs": [
        {
          "output_type": "execute_result",
          "data": {
            "text/plain": [
              "array([ True])"
            ]
          },
          "metadata": {
            "tags": []
          },
          "execution_count": 22
        }
      ]
    },
    {
      "cell_type": "code",
      "metadata": {
        "id": "nNgxJR1fs2Qe",
        "colab_type": "code",
        "colab": {
          "base_uri": "https://localhost:8080/",
          "height": 34
        },
        "outputId": "ba75db0c-a1e9-4bed-db08-9a0900be5251"
      },
      "source": [
        "from sklearn.model_selection import cross_val_score\n",
        "\n",
        "cross_val_score(sgd_clf, X_train, y_train_5, cv=3, scoring='accuracy')"
      ],
      "execution_count": 23,
      "outputs": [
        {
          "output_type": "execute_result",
          "data": {
            "text/plain": [
              "array([0.96225, 0.9645 , 0.94765])"
            ]
          },
          "metadata": {
            "tags": []
          },
          "execution_count": 23
        }
      ]
    },
    {
      "cell_type": "markdown",
      "metadata": {
        "id": "88Ql--99tcH5",
        "colab_type": "text"
      },
      "source": [
        "The accuracy for classifiers is generally not the preferred measure of performance, especially when you are dealing with asymmetric data sets (that is, when some classes are much more frequent than others)."
      ]
    },
    {
      "cell_type": "markdown",
      "metadata": {
        "id": "Smy9sccotoLc",
        "colab_type": "text"
      },
      "source": [
        "**Confusion Matrix**"
      ]
    },
    {
      "cell_type": "code",
      "metadata": {
        "id": "_Tf5NnIJtBk_",
        "colab_type": "code",
        "colab": {}
      },
      "source": [
        "from sklearn.model_selection import cross_val_predict\n",
        "\n",
        "y_train_pred = cross_val_predict(sgd_clf, X_train, y_train_5, cv=3)"
      ],
      "execution_count": 24,
      "outputs": []
    },
    {
      "cell_type": "code",
      "metadata": {
        "id": "9oOnMfNTt0ry",
        "colab_type": "code",
        "colab": {
          "base_uri": "https://localhost:8080/",
          "height": 34
        },
        "outputId": "670d18c1-86ec-40ff-f342-1d2334161e7d"
      },
      "source": [
        "y_train_pred"
      ],
      "execution_count": 25,
      "outputs": [
        {
          "output_type": "execute_result",
          "data": {
            "text/plain": [
              "array([False, False, False, ..., False, False, False])"
            ]
          },
          "metadata": {
            "tags": []
          },
          "execution_count": 25
        }
      ]
    },
    {
      "cell_type": "code",
      "metadata": {
        "id": "uPuDHKLPt2QO",
        "colab_type": "code",
        "colab": {
          "base_uri": "https://localhost:8080/",
          "height": 50
        },
        "outputId": "233e8948-e6f1-457c-b657-505e3b1a7e7c"
      },
      "source": [
        "from sklearn.metrics import confusion_matrix\n",
        "\n",
        "confusion_matrix(y_train_5, y_train_pred)"
      ],
      "execution_count": 26,
      "outputs": [
        {
          "output_type": "execute_result",
          "data": {
            "text/plain": [
              "array([[53417,  1162],\n",
              "       [ 1350,  4071]])"
            ]
          },
          "metadata": {
            "tags": []
          },
          "execution_count": 26
        }
      ]
    },
    {
      "cell_type": "markdown",
      "metadata": {
        "id": "ibByvC2zukPx",
        "colab_type": "text"
      },
      "source": [
        "**Precision and Recall**"
      ]
    },
    {
      "cell_type": "code",
      "metadata": {
        "id": "lCl9eH4IuS14",
        "colab_type": "code",
        "colab": {
          "base_uri": "https://localhost:8080/",
          "height": 34
        },
        "outputId": "34e794cc-a963-411b-a146-9a1229d89f08"
      },
      "source": [
        "from sklearn.metrics import precision_score, recall_score\n",
        "precision_score(y_train_5, y_train_pred)"
      ],
      "execution_count": 30,
      "outputs": [
        {
          "output_type": "execute_result",
          "data": {
            "text/plain": [
              "0.7779476399770686"
            ]
          },
          "metadata": {
            "tags": []
          },
          "execution_count": 30
        }
      ]
    },
    {
      "cell_type": "code",
      "metadata": {
        "id": "grP6PTyP1X6o",
        "colab_type": "code",
        "colab": {
          "base_uri": "https://localhost:8080/",
          "height": 34
        },
        "outputId": "bc0d2a1a-a257-45da-987f-ca9d886718cb"
      },
      "source": [
        "recall_score(y_train_5, y_train_pred)"
      ],
      "execution_count": 31,
      "outputs": [
        {
          "output_type": "execute_result",
          "data": {
            "text/plain": [
              "0.7509684560044272"
            ]
          },
          "metadata": {
            "tags": []
          },
          "execution_count": 31
        }
      ]
    },
    {
      "cell_type": "code",
      "metadata": {
        "id": "XOliAi4J1bWQ",
        "colab_type": "code",
        "colab": {
          "base_uri": "https://localhost:8080/",
          "height": 34
        },
        "outputId": "8d1146df-c5ce-4376-accf-7a3fe5425563"
      },
      "source": [
        "from sklearn.metrics import f1_score\n",
        "\n",
        "f1_score(y_train_5, y_train_pred)"
      ],
      "execution_count": 32,
      "outputs": [
        {
          "output_type": "execute_result",
          "data": {
            "text/plain": [
              "0.7642200112633752"
            ]
          },
          "metadata": {
            "tags": []
          },
          "execution_count": 32
        }
      ]
    },
    {
      "cell_type": "code",
      "metadata": {
        "id": "Ycpym-cY1iX4",
        "colab_type": "code",
        "colab": {
          "base_uri": "https://localhost:8080/",
          "height": 34
        },
        "outputId": "f097a53b-77f4-4cc0-d840-8a83c7ebb5b6"
      },
      "source": [
        "y_scores = sgd_clf.decision_function([some_digit])\n",
        "y_scores"
      ],
      "execution_count": 33,
      "outputs": [
        {
          "output_type": "execute_result",
          "data": {
            "text/plain": [
              "array([150526.40944343])"
            ]
          },
          "metadata": {
            "tags": []
          },
          "execution_count": 33
        }
      ]
    },
    {
      "cell_type": "code",
      "metadata": {
        "id": "8HhN1wu71sw-",
        "colab_type": "code",
        "colab": {
          "base_uri": "https://localhost:8080/",
          "height": 34
        },
        "outputId": "2837d093-0f2e-4d10-e544-859cb37344e6"
      },
      "source": [
        "threshold = 0\n",
        "y_some_digit_pred = (y_scores > threshold)\n",
        "y_some_digit_pred"
      ],
      "execution_count": 34,
      "outputs": [
        {
          "output_type": "execute_result",
          "data": {
            "text/plain": [
              "array([ True])"
            ]
          },
          "metadata": {
            "tags": []
          },
          "execution_count": 34
        }
      ]
    },
    {
      "cell_type": "code",
      "metadata": {
        "id": "IzFKrSrK1zjC",
        "colab_type": "code",
        "colab": {
          "base_uri": "https://localhost:8080/",
          "height": 34
        },
        "outputId": "9e15780a-84e0-48aa-bfc9-f02493581371"
      },
      "source": [
        "threshold = 200000\n",
        "y_some_digit_pred = (y_scores > threshold)\n",
        "y_some_digit_pred"
      ],
      "execution_count": 35,
      "outputs": [
        {
          "output_type": "execute_result",
          "data": {
            "text/plain": [
              "array([False])"
            ]
          },
          "metadata": {
            "tags": []
          },
          "execution_count": 35
        }
      ]
    },
    {
      "cell_type": "code",
      "metadata": {
        "id": "-xBnAHg5121w",
        "colab_type": "code",
        "colab": {}
      },
      "source": [
        "y_scores = cross_val_predict(sgd_clf, X_train, y_train_5, cv=3,\n",
        "                             method='decision_function')"
      ],
      "execution_count": 36,
      "outputs": []
    },
    {
      "cell_type": "code",
      "metadata": {
        "id": "TfvSC2er2CRI",
        "colab_type": "code",
        "colab": {}
      },
      "source": [
        "from sklearn.metrics import precision_recall_curve\n",
        "\n",
        "precisions, recalls, thresholds = precision_recall_curve(y_train_5, y_scores)"
      ],
      "execution_count": 37,
      "outputs": []
    },
    {
      "cell_type": "code",
      "metadata": {
        "id": "KG4B3JOa2P93",
        "colab_type": "code",
        "colab": {
          "base_uri": "https://localhost:8080/",
          "height": 292
        },
        "outputId": "9a993b53-0b2e-478d-b6cc-9fe1de3ffbf6"
      },
      "source": [
        "def plot_precision_recall_vs_threshold(precision, recalls, threshold):\n",
        "  plt.plot(thresholds, precisions[:-1], 'b--', label='Precision', linewidth=2)\n",
        "  plt.plot(thresholds, recalls[:-1], 'g-', label='Recall', linewidth=2)\n",
        "  plt.xlabel('Threshold', fontsize=16)\n",
        "  plt.legend(loc='upper left', fontsize=16)\n",
        "  plt.ylim([0, 1])\n",
        "\n",
        "plt.figure(figsize=(8, 4))\n",
        "plot_precision_recall_vs_threshold(precisions, recalls, thresholds)\n",
        "plt.xlim([-700000, 700000])\n",
        "plt.show()"
      ],
      "execution_count": 38,
      "outputs": [
        {
          "output_type": "display_data",
          "data": {
            "image/png": "[encoded data removed]",
            "text/plain": [
              "<Figure size 576x288 with 1 Axes>"
            ]
          },
          "metadata": {
            "tags": [],
            "needs_background": "light"
          }
        }
      ]
    },
    {
      "cell_type": "markdown",
      "metadata": {
        "id": "TrtfM-1j2tbe",
        "colab_type": "text"
      },
      "source": [
        "**ROC Curves**"
      ]
    },
    {
      "cell_type": "code",
      "metadata": {
        "id": "sDr10IYL2fph",
        "colab_type": "code",
        "colab": {}
      },
      "source": [
        "from sklearn.metrics import roc_curve\n",
        "\n",
        "fpr, tpr, thresholds = roc_curve(y_train_5, y_scores)"
      ],
      "execution_count": 41,
      "outputs": []
    },
    {
      "cell_type": "code",
      "metadata": {
        "id": "DPILm5vy2wta",
        "colab_type": "code",
        "colab": {
          "base_uri": "https://localhost:8080/",
          "height": 401
        },
        "outputId": "7552fdeb-56b9-4461-c0fc-9f577333947b"
      },
      "source": [
        "def plot_roc_curve(fpr, tpr, label=None):\n",
        "  plt.plot(fpr, tpr, linewidth=2, label=label)\n",
        "  plt.plot([0, 1], [0, 1], 'k--')\n",
        "  plt.axis([0, 1, 0, 1])\n",
        "  plt.xlabel('False Positive Rate', fontsize=16)\n",
        "  plt.ylabel('True Positive Rate', fontsize=16)\n",
        "\n",
        "plt.figure(figsize=(8, 6))\n",
        "plot_roc_curve(fpr, tpr)\n",
        "plt.show()"
      ],
      "execution_count": 42,
      "outputs": [
        {
          "output_type": "display_data",
          "data": {
            "image/png": "[encoded data removed]",
            "text/plain": [
              "<Figure size 576x432 with 1 Axes>"
            ]
          },
          "metadata": {
            "tags": [],
            "needs_background": "light"
          }
        }
      ]
    },
    {
      "cell_type": "code",
      "metadata": {
        "id": "BvHa9jB92xvn",
        "colab_type": "code",
        "colab": {
          "base_uri": "https://localhost:8080/",
          "height": 34
        },
        "outputId": "8a9ee0b0-b751-4e80-aaec-28f5e305df73"
      },
      "source": [
        "from sklearn.metrics import roc_auc_score\n",
        "\n",
        "roc_auc_score(y_train_5, y_scores)"
      ],
      "execution_count": 43,
      "outputs": [
        {
          "output_type": "execute_result",
          "data": {
            "text/plain": [
              "0.9562435587387078"
            ]
          },
          "metadata": {
            "tags": []
          },
          "execution_count": 43
        }
      ]
    },
    {
      "cell_type": "code",
      "metadata": {
        "id": "Gj13iINP23Ev",
        "colab_type": "code",
        "colab": {}
      },
      "source": [
        "from sklearn.ensemble import RandomForestClassifier\n",
        "\n",
        "forest_clf = RandomForestClassifier(n_estimators=10, random_state=42)\n",
        "y_probas_forest = cross_val_predict(forest_clf, X_train, y_train_5, cv=3, \n",
        "                                    method='predict_proba')"
      ],
      "execution_count": 44,
      "outputs": []
    },
    {
      "cell_type": "code",
      "metadata": {
        "id": "7kffeTNC29WM",
        "colab_type": "code",
        "colab": {}
      },
      "source": [
        "y_scores_forest = y_probas_forest[:, 1] # score = proba of positive class\n",
        "fpr_forest, tpr_forest, thresholds_forest = roc_curve(y_train_5, y_scores_forest)"
      ],
      "execution_count": 45,
      "outputs": []
    },
    {
      "cell_type": "code",
      "metadata": {
        "id": "ktMdD32z2-gO",
        "colab_type": "code",
        "colab": {
          "base_uri": "https://localhost:8080/",
          "height": 401
        },
        "outputId": "2f5a30e6-cd61-40d5-e591-00c4cb309040"
      },
      "source": [
        "plt.figure(figsize=(8, 6))\n",
        "plt.plot(fpr, tpr, 'b:', linewidth=2, label='SGD')\n",
        "plot_roc_curve(fpr_forest, tpr_forest, 'Random Forest')\n",
        "plt.legend(loc='lower right', fontsize=16)\n",
        "plt.show()"
      ],
      "execution_count": 46,
      "outputs": [
        {
          "output_type": "display_data",
          "data": {
            "image/png": "[encoded data removed]",
            "text/plain": [
              "<Figure size 576x432 with 1 Axes>"
            ]
          },
          "metadata": {
            "tags": [],
            "needs_background": "light"
          }
        }
      ]
    },
    {
      "cell_type": "code",
      "metadata": {
        "id": "XRSvIPKt2_jq",
        "colab_type": "code",
        "colab": {
          "base_uri": "https://localhost:8080/",
          "height": 34
        },
        "outputId": "95249e09-3fcf-4f3f-c066-e244ef93cc71"
      },
      "source": [
        "roc_auc_score(y_train_5, y_scores_forest)"
      ],
      "execution_count": 47,
      "outputs": [
        {
          "output_type": "execute_result",
          "data": {
            "text/plain": [
              "0.9931243366003829"
            ]
          },
          "metadata": {
            "tags": []
          },
          "execution_count": 47
        }
      ]
    },
    {
      "cell_type": "code",
      "metadata": {
        "id": "7ifRJAbI3Aj8",
        "colab_type": "code",
        "colab": {
          "base_uri": "https://localhost:8080/",
          "height": 34
        },
        "outputId": "22f1ccb9-8ad2-4068-a96d-6a9e5f4d79b7"
      },
      "source": [
        "y_train_pred_forest = cross_val_predict(forest_clf, X_train, y_train_5, cv=3)\n",
        "precision_score(y_train_5, y_train_pred_forest)"
      ],
      "execution_count": 48,
      "outputs": [
        {
          "output_type": "execute_result",
          "data": {
            "text/plain": [
              "0.9852973447443494"
            ]
          },
          "metadata": {
            "tags": []
          },
          "execution_count": 48
        }
      ]
    },
    {
      "cell_type": "code",
      "metadata": {
        "id": "tQb6HP8e3ByF",
        "colab_type": "code",
        "colab": {
          "base_uri": "https://localhost:8080/",
          "height": 34
        },
        "outputId": "18e6c944-e667-4f76-f232-98f5a3bc7586"
      },
      "source": [
        "recall_score(y_train_5, y_train_pred_forest)"
      ],
      "execution_count": 49,
      "outputs": [
        {
          "output_type": "execute_result",
          "data": {
            "text/plain": [
              "0.8282604685482383"
            ]
          },
          "metadata": {
            "tags": []
          },
          "execution_count": 49
        }
      ]
    },
    {
      "cell_type": "markdown",
      "metadata": {
        "id": "uC4ceUj93HAX",
        "colab_type": "text"
      },
      "source": [
        "## **Multiclass Classification**"
      ]
    },
    {
      "cell_type": "markdown",
      "metadata": {
        "id": "0WyPxBK84B9w",
        "colab_type": "text"
      },
      "source": [
        "**Random Forest**"
      ]
    },
    {
      "cell_type": "code",
      "metadata": {
        "id": "y0TQN5Oc3Czn",
        "colab_type": "code",
        "colab": {}
      },
      "source": [
        "from sklearn.ensemble import RandomForestClassifier\n",
        "\n",
        "forest_clf = RandomForestClassifier(n_estimators=10, random_state=42)"
      ],
      "execution_count": 50,
      "outputs": []
    },
    {
      "cell_type": "code",
      "metadata": {
        "id": "Jv5yKbB_3h3z",
        "colab_type": "code",
        "colab": {
          "base_uri": "https://localhost:8080/",
          "height": 34
        },
        "outputId": "2b5073a6-1600-4723-8f06-3353c1f5cc9e"
      },
      "source": [
        "forest_clf.fit(X_train, y_train)\n",
        "forest_clf.predict([some_digit])"
      ],
      "execution_count": 52,
      "outputs": [
        {
          "output_type": "execute_result",
          "data": {
            "text/plain": [
              "array([5], dtype=int8)"
            ]
          },
          "metadata": {
            "tags": []
          },
          "execution_count": 52
        }
      ]
    },
    {
      "cell_type": "code",
      "metadata": {
        "id": "LjW3IkMw3cFU",
        "colab_type": "code",
        "colab": {
          "base_uri": "https://localhost:8080/",
          "height": 34
        },
        "outputId": "06917cd9-b435-4ec8-e681-c6827f24a8e8"
      },
      "source": [
        "forest_clf.predict_proba([some_digit])"
      ],
      "execution_count": 53,
      "outputs": [
        {
          "output_type": "execute_result",
          "data": {
            "text/plain": [
              "array([[0.1, 0. , 0. , 0.1, 0. , 0.8, 0. , 0. , 0. , 0. ]])"
            ]
          },
          "metadata": {
            "tags": []
          },
          "execution_count": 53
        }
      ]
    },
    {
      "cell_type": "code",
      "metadata": {
        "id": "nqW-K-8_3hDy",
        "colab_type": "code",
        "colab": {
          "base_uri": "https://localhost:8080/",
          "height": 34
        },
        "outputId": "a46f5541-0fdb-496f-f025-03f96567668e"
      },
      "source": [
        "cross_val_score(forest_clf, X_train, y_train, cv=3, scoring='accuracy')"
      ],
      "execution_count": 54,
      "outputs": [
        {
          "output_type": "execute_result",
          "data": {
            "text/plain": [
              "array([0.9421 , 0.94275, 0.9405 ])"
            ]
          },
          "metadata": {
            "tags": []
          },
          "execution_count": 54
        }
      ]
    },
    {
      "cell_type": "markdown",
      "metadata": {
        "id": "D_ahv38N4ETb",
        "colab_type": "text"
      },
      "source": [
        "**SGD Classifier**"
      ]
    },
    {
      "cell_type": "code",
      "metadata": {
        "id": "EL0vawk637CK",
        "colab_type": "code",
        "colab": {
          "base_uri": "https://localhost:8080/",
          "height": 34
        },
        "outputId": "c92c2aa8-eb83-4d70-d483-031f693feb0e"
      },
      "source": [
        "from sklearn.multiclass import OneVsOneClassifier\n",
        "\n",
        "ovo_clf = OneVsOneClassifier(SGDClassifier(max_iter=5, tol=-np.infty, random_state=42))\n",
        "ovo_clf.fit(X_train, y_train)\n",
        "ovo_clf.predict([some_digit])"
      ],
      "execution_count": 57,
      "outputs": [
        {
          "output_type": "execute_result",
          "data": {
            "text/plain": [
              "array([5], dtype=int8)"
            ]
          },
          "metadata": {
            "tags": []
          },
          "execution_count": 57
        }
      ]
    },
    {
      "cell_type": "code",
      "metadata": {
        "id": "YM8Yv-kx4NGA",
        "colab_type": "code",
        "colab": {
          "base_uri": "https://localhost:8080/",
          "height": 34
        },
        "outputId": "f2a680cf-fa84-465d-a5c5-d6fb55326c4e"
      },
      "source": [
        "cross_val_score(sgd_clf, X_train, y_train, cv=3, scoring='accuracy')"
      ],
      "execution_count": 58,
      "outputs": [
        {
          "output_type": "execute_result",
          "data": {
            "text/plain": [
              "array([0.8618, 0.8675, 0.8389])"
            ]
          },
          "metadata": {
            "tags": []
          },
          "execution_count": 58
        }
      ]
    },
    {
      "cell_type": "code",
      "metadata": {
        "id": "2gscnS0C4Qmk",
        "colab_type": "code",
        "colab": {}
      },
      "source": [
        "from sklearn.preprocessing import StandardScaler\n",
        "\n",
        "scaler = StandardScaler()\n",
        "X_train_scaled = scaler.fit_transform(X_train.astype(np.float64))"
      ],
      "execution_count": 59,
      "outputs": []
    },
    {
      "cell_type": "code",
      "metadata": {
        "id": "FNJphE1E4iLF",
        "colab_type": "code",
        "colab": {
          "base_uri": "https://localhost:8080/",
          "height": 34
        },
        "outputId": "2cd41860-ffa6-440b-d3fa-bdf2b38dc26d"
      },
      "source": [
        "cross_val_score(sgd_clf, X_train_scaled, y_train, cv=3, scoring='accuracy')"
      ],
      "execution_count": 60,
      "outputs": [
        {
          "output_type": "execute_result",
          "data": {
            "text/plain": [
              "array([0.9091 , 0.90955, 0.9062 ])"
            ]
          },
          "metadata": {
            "tags": []
          },
          "execution_count": 60
        }
      ]
    },
    {
      "cell_type": "markdown",
      "metadata": {
        "id": "QfF694Dx78xI",
        "colab_type": "text"
      },
      "source": [
        "## **Error Analysis**"
      ]
    },
    {
      "cell_type": "code",
      "metadata": {
        "id": "3yTbsEuq4imT",
        "colab_type": "code",
        "colab": {
          "base_uri": "https://localhost:8080/",
          "height": 185
        },
        "outputId": "66fde4cd-f2a5-4302-93b1-2e58bf1d6d65"
      },
      "source": [
        "y_train_pred = cross_val_predict(sgd_clf, X_train_scaled, y_train, cv=3)\n",
        "conf_mx = confusion_matrix(y_train, y_train_pred)\n",
        "conf_mx"
      ],
      "execution_count": 61,
      "outputs": [
        {
          "output_type": "execute_result",
          "data": {
            "text/plain": [
              "array([[5728,    3,   18,   10,   11,   48,   54,   10,   38,    3],\n",
              "       [   2, 6472,   43,   27,    6,   41,    6,    9,  124,   12],\n",
              "       [  59,   39, 5300,  103,   96,   24,   99,   57,  167,   14],\n",
              "       [  60,   42,  133, 5357,    4,  213,   35,   52,  135,  100],\n",
              "       [  14,   28,   33,    9, 5366,    8,   56,   33,   88,  207],\n",
              "       [  68,   49,   30,  197,   76, 4566,  118,   33,  190,   94],\n",
              "       [  35,   28,   31,    1,   47,   86, 5639,    9,   42,    0],\n",
              "       [  22,   20,   70,   29,   65,   11,    6, 5789,   18,  235],\n",
              "       [  55,  158,   63,  157,   11,  155,   61,   24, 5022,  145],\n",
              "       [  38,   37,   30,   85,  185,   24,    2,  216,   74, 5258]])"
            ]
          },
          "metadata": {
            "tags": []
          },
          "execution_count": 61
        }
      ]
    },
    {
      "cell_type": "code",
      "metadata": {
        "id": "MdU6EJOJ5VPf",
        "colab_type": "code",
        "colab": {
          "base_uri": "https://localhost:8080/",
          "height": 278
        },
        "outputId": "4f344294-e702-495f-d93f-c6e1d67b9526"
      },
      "source": [
        "plt.matshow(conf_mx, cmap=plt.cm.gray)\n",
        "plt.show()"
      ],
      "execution_count": 64,
      "outputs": [
        {
          "output_type": "display_data",
          "data": {
            "image/png": "[encoded data removed]",
            "text/plain": [
              "<Figure size 288x288 with 1 Axes>"
            ]
          },
          "metadata": {
            "tags": [],
            "needs_background": "light"
          }
        }
      ]
    },
    {
      "cell_type": "code",
      "metadata": {
        "id": "QMW5-Wcu5YtG",
        "colab_type": "code",
        "colab": {}
      },
      "source": [
        "row_sums = conf_mx.sum(axis=1, keepdims=True)\n",
        "norm_conf_mx = conf_mx / row_sums"
      ],
      "execution_count": 65,
      "outputs": []
    },
    {
      "cell_type": "code",
      "metadata": {
        "id": "r6HpKWdz5h0E",
        "colab_type": "code",
        "colab": {
          "base_uri": "https://localhost:8080/",
          "height": 278
        },
        "outputId": "f7e73a8a-6345-47cb-f2f6-3227ff7502e0"
      },
      "source": [
        "np.fill_diagonal(norm_conf_mx, 0)\n",
        "plt.matshow(norm_conf_mx, cmap=plt.cm.gray)\n",
        "plt.show()"
      ],
      "execution_count": 66,
      "outputs": [
        {
          "output_type": "display_data",
          "data": {
            "image/png": "[encoded data removed]",
            "text/plain": [
              "<Figure size 288x288 with 1 Axes>"
            ]
          },
          "metadata": {
            "tags": [],
            "needs_background": "light"
          }
        }
      ]
    }
  ]
}